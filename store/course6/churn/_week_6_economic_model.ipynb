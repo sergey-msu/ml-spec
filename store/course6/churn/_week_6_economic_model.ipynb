{
 "cells": [
  {
   "cell_type": "markdown",
   "metadata": {},
   "source": [
    "# Экономическая модель"
   ]
  },
  {
   "cell_type": "markdown",
   "metadata": {},
   "source": [
    "## Загрузка данных"
   ]
  },
  {
   "cell_type": "code",
   "execution_count": null,
   "metadata": {
    "collapsed": true
   },
   "outputs": [],
   "source": [
    "import math\n",
    "import numpy as np\n",
    "import pandas as pd\n",
    "import matplotlib.pyplot as plt\n",
    "from matplotlib.lines import Line2D\n",
    "from sklearn.feature_selection import SelectFromModel\n",
    "from sklearn.model_selection import StratifiedKFold, GridSearchCV, cross_val_score, train_test_split, learning_curve\n",
    "from sklearn.base import BaseEstimator, TransformerMixin\n",
    "from sklearn.pipeline import make_pipeline, Pipeline, FeatureUnion\n",
    "from sklearn.preprocessing import FunctionTransformer, Imputer, StandardScaler\n",
    "from sklearn.utils.validation import check_is_fitted\n",
    "from sklearn.svm import LinearSVC\n",
    "from sklearn.metrics import matthews_corrcoef\n",
    "from sklearn.metrics import roc_auc_score\n",
    "from xgboost import XGBClassifier"
   ]
  },
  {
   "cell_type": "code",
   "execution_count": 2,
   "metadata": {
    "collapsed": true
   },
   "outputs": [],
   "source": [
    "def load_data():\n",
    "    train_df = pd.read_csv(r'orange_small_churn_train_data.csv', index_col='ID')\n",
    "    test_df  = pd.read_csv(r'orange_small_churn_test_data.csv', index_col='ID')\n",
    "    X = train_df.drop(['labels'], axis=1)\n",
    "    y = train_df['labels'].apply(lambda x: 1 if x==1 else 0)\n",
    "\n",
    "    X_train, X_hold, \\\n",
    "    y_train, y_hold = train_test_split(X, y,\n",
    "                                       test_size=0.2,\n",
    "                                       random_state=9,\n",
    "                                       shuffle=True,\n",
    "                                       stratify=y)\n",
    "    X_test = test_df\n",
    "\n",
    "    return X_train, X_hold, X_test, y_train, y_hold"
   ]
  },
  {
   "cell_type": "markdown",
   "metadata": {},
   "source": [
    "## Вспомогательные функции, пайплайн"
   ]
  },
  {
   "cell_type": "code",
   "execution_count": 3,
   "metadata": {
    "collapsed": true
   },
   "outputs": [],
   "source": [
    "def get_pipeline(model,\n",
    "                 missing='mean',\n",
    "                 encoder='dummy', enc_params=None,\n",
    "                 selector=None,   sel_params=None):\n",
    "\n",
    "    # choose encoder\n",
    "\n",
    "    enc_params = {} if enc_params is None else enc_params\n",
    "    if encoder == 'dummy':\n",
    "        encoder = DummyEncoder(**enc_params)\n",
    "    elif encoder == 'mean_target':\n",
    "        encoder = MeanTargetEncoder(**enc_params)\n",
    "    elif encoder == 'frequency':\n",
    "        encoder = FrequencyEncoder(**enc_params)\n",
    "    else:\n",
    "        encoder = NopeTransformer()\n",
    "\n",
    "    # choose selector\n",
    "\n",
    "    sel_params = {} if sel_params is None else sel_params\n",
    "    if selector == 'lasso_svc':\n",
    "        selector = LassoSelector(**sel_params)\n",
    "    elif selector == 'correlation':\n",
    "        selector = CorrelationSelector(**sel_params)\n",
    "    else:\n",
    "        selector = NopeTransformer()\n",
    "\n",
    "    # construct pipeline\n",
    "\n",
    "    pipeline = Pipeline(steps=[\n",
    "            # preprocessing\n",
    "            ('preprocessing', FeatureUnion([\n",
    "\n",
    "                # numeric features\n",
    "                ('numeric', Pipeline(steps=[\n",
    "                    ('selecting',      FunctionTransformer(lambda data: data.iloc[:, :190], validate=False)),\n",
    "                    ('float_nan_mean', Imputer(strategy=missing)),\n",
    "                    ('scaling',        StandardScaler())\n",
    "                ])),\n",
    "\n",
    "                # categorical features\n",
    "                ('categorical',   Pipeline(steps=[\n",
    "                    ('selecting', FunctionTransformer(lambda data: data.iloc[:, 190:], validate=False)),\n",
    "                    ('encoding',  encoder)\n",
    "                ]))\n",
    "            ])),\n",
    "\n",
    "            # feature selection\n",
    "            ('feature_selection', selector),\n",
    "\n",
    "            # model\n",
    "            ('model', model)\n",
    "        ])\n",
    "\n",
    "    return pipeline\n",
    "\n",
    "\n",
    "class DummyEncoder(BaseEstimator, TransformerMixin):\n",
    "    '''\n",
    "    Encodes categorical features as one-hot variables with max_categories restriction\n",
    "    '''\n",
    "    def __init__(self, columns=None, max_categories=200):\n",
    "        self.columns = columns\n",
    "        self.dummy_columns = None\n",
    "        self.max_categories = max_categories\n",
    "\n",
    "\n",
    "    def fit(self, X, y=None, **kwargs):\n",
    "        self.dummy_columns = None\n",
    "        return self\n",
    "\n",
    "\n",
    "    def transform(self, X, y=None, **kwargs):\n",
    "        if self.max_categories is not None:\n",
    "            X = X[self.columns] if self.columns is not None else X.copy()\n",
    "            for col in X.columns:\n",
    "                top_cats = X[col].value_counts()[:self.max_categories].index.values\n",
    "                X[col] = X[col].apply(lambda x: x if (x in top_cats or x is None) else 'aggr')\n",
    "\n",
    "        dummy_df = pd.get_dummies(X, columns=self.columns, sparse=True, dummy_na=True)\n",
    "        new_cols = dummy_df.columns.values\n",
    "        if self.dummy_columns is None:\n",
    "            self.dummy_columns = new_cols\n",
    "            return dummy_df\n",
    "        else:\n",
    "            res_df = pd.DataFrame()\n",
    "            for col in self.dummy_columns:\n",
    "                res_df[col] = dummy_df[col] if col in new_cols else np.zeros((len(X),), dtype=int)\n",
    "        return res_df\n",
    "\n",
    "\n",
    "class MeanTargetEncoder(BaseEstimator, TransformerMixin):\n",
    "    '''\n",
    "    Encodes categorical features by its mean on target variable\n",
    "    '''\n",
    "    def __init__(self, columns=None):\n",
    "        self.columns = columns\n",
    "        self.dict = None\n",
    "        return\n",
    "\n",
    "\n",
    "    def fit(self, X, y=None, **kwargs):\n",
    "        columns = X.columns if self.columns is None else self.columns\n",
    "        dict = {}\n",
    "\n",
    "        X = X.astype(str)\n",
    "\n",
    "        for col in columns:\n",
    "            vals = X[col].unique()\n",
    "            dict[col] = { val: y[X[col] == val].mean() for val in vals }\n",
    "\n",
    "        self.dict = dict\n",
    "\n",
    "        return self\n",
    "\n",
    "\n",
    "    def transform(self, X, y=None, **kwargs):\n",
    "        check_is_fitted(self, ['dict'])\n",
    "\n",
    "        X = X.astype(str)\n",
    "        columns = X.columns if self.columns is None else self.columns\n",
    "\n",
    "        for col in columns:\n",
    "            col_dict = self.dict[col]\n",
    "            X[col] = X[col].apply(lambda x: col_dict.get(x, 0))\n",
    "\n",
    "        return X\n",
    "\n",
    "\n",
    "class FrequencyEncoder(BaseEstimator, TransformerMixin):\n",
    "    '''\n",
    "    Encodes categorical features by its frequency\n",
    "    '''\n",
    "    def __init__(self, columns=None):\n",
    "        self.columns = columns\n",
    "        self.dict = None\n",
    "        return\n",
    "\n",
    "\n",
    "    def fit(self, X, y=None, **kwargs):\n",
    "        columns = X.columns if self.columns is None else self.columns\n",
    "        dict = {}\n",
    "\n",
    "        X = X.astype(str)\n",
    "        n = len(X)\n",
    "\n",
    "        for col in columns:\n",
    "            vals = X[col].unique()\n",
    "            dict[col] = { val: (X[col] == val).sum()/n for val in vals }\n",
    "\n",
    "        self.dict = dict\n",
    "\n",
    "        return self\n",
    "\n",
    "\n",
    "    def transform(self, X, y=None, **kwargs):\n",
    "        check_is_fitted(self, ['dict'])\n",
    "        X = X.astype(str)\n",
    "        columns = X.columns if self.columns is None else self.columns\n",
    "\n",
    "        for col in columns:\n",
    "            col_dict = self.dict[col]\n",
    "            X[col] = X[col].apply(lambda x: col_dict.get(x, 0))\n",
    "\n",
    "        return X\n",
    "\n",
    "\n",
    "class CorrelationSelector(BaseEstimator, TransformerMixin):\n",
    "    def __init__(self, n_top=100):\n",
    "        self.n_top = n_top\n",
    "\n",
    "\n",
    "    def fit(self, X, y=None):\n",
    "\n",
    "        if not isinstance(X, pd.DataFrame):\n",
    "            X = pd.DataFrame(X)\n",
    "\n",
    "        # 1. filter out const columns\n",
    "        vc = X.apply(lambda col: len(col.value_counts()))\n",
    "        all_cols = vc[vc > 1].index.values\n",
    "\n",
    "        # 2. correlation feature selection\n",
    "        num_corrs = X[all_cols].apply(lambda col: correlation(col.values, y), axis=0)\n",
    "        top_corrs = num_corrs.abs().sort_values(ascending=False)[:self.n_top]\n",
    "\n",
    "        self.new_cols = sorted(top_corrs.index)\n",
    "\n",
    "        return self\n",
    "\n",
    "\n",
    "    def transform(self, X):\n",
    "        check_is_fitted(self, ['new_cols'])\n",
    "\n",
    "        if not isinstance(X, pd.DataFrame):\n",
    "            X = pd.DataFrame(X)\n",
    "\n",
    "        return X.loc[:, self.new_cols]\n",
    "\n",
    "\n",
    "class LassoSelector(BaseEstimator, TransformerMixin):\n",
    "    def __init__(self, threshold=None, C=0.1):\n",
    "        self.threshold = threshold\n",
    "        self.C = C\n",
    "        return\n",
    "\n",
    "\n",
    "    def fit(self, X, y=None):\n",
    "        model = LinearSVC(C=self.C, penalty='l1', dual=False)\n",
    "        model.fit(X, y)\n",
    "        self.selector = SelectFromModel(model, prefit=True, threshold=self.threshold)\n",
    "        return self\n",
    "\n",
    "\n",
    "    def transform(self, X):\n",
    "        check_is_fitted(self, ['selector'])\n",
    "        return self.selector.transform(X)\n",
    "\n",
    "\n",
    "class NopeTransformer(BaseEstimator, TransformerMixin):\n",
    "    def fit(self, X, y=None):\n",
    "        return self\n",
    "\n",
    "    def transform(self, X):\n",
    "        return X\n",
    "\n",
    "\n",
    "def filter_outliers(X, y, cols, alpha):\n",
    "    print('filtering outliers...')\n",
    "    for col in cols:\n",
    "        var = X[col]\n",
    "        var_churn = var[y==1]\n",
    "        var_loyal = var[y==0]\n",
    "\n",
    "        outliers = len(X)\n",
    "        condition = None\n",
    "        col_a = alpha\n",
    "\n",
    "        while outliers > 200:\n",
    "            churn_min, churn_max = var_churn.quantile([col_a, 1 - col_a])\n",
    "            loyal_min, loyal_max = var_loyal.quantile([col_a, 1 - col_a])\n",
    "\n",
    "            condition = var.isnull() | \\\n",
    "                        ((y==1) & (churn_min <= var) & (var <= churn_max)) | \\\n",
    "                        ((y==0) & (loyal_min <= var) & (var <= loyal_max))\n",
    "\n",
    "            outliers = len(X) - len(X[condition])\n",
    "            col_a /= 2\n",
    "\n",
    "        if condition is not None:\n",
    "            X = X[condition]\n",
    "            y = y[condition]\n",
    "    print('finished: ', len(X))\n",
    "\n",
    "    return X, y\n",
    "\n",
    "\n",
    "def undersample(X, y, coeff):\n",
    "\n",
    "    np.random.seed(9)\n",
    "\n",
    "    churn = X[y==1].index\n",
    "    loyal = X[y==0].index.values\n",
    "    np.random.shuffle(loyal)\n",
    "    u_loyal = loyal[: int(coeff*len(loyal))]\n",
    "\n",
    "    u_ids = list(churn) + list(u_loyal)\n",
    "\n",
    "    return X.ix[u_ids, :], y.ix[u_ids]\n",
    "\n",
    "\n",
    "def correlation(x, y):\n",
    "    if set(np.unique(x)) == { 0.0, 1.0 }:\n",
    "        return matthews_corrcoef(x, y)\n",
    "    else:\n",
    "        return point_biserial_corr(x, y)\n",
    "\n",
    "\n",
    "def point_biserial_corr(x, y):\n",
    "    y = y[~np.isnan(x)]\n",
    "    x = x[~np.isnan(x)]\n",
    "    p = y.mean()\n",
    "    q = 1 - p\n",
    "    ex = x.mean()\n",
    "    sx = x.std(ddof=0)\n",
    "\n",
    "    px = x[y==1]\n",
    "    nx = x[y==0]\n",
    "\n",
    "    mpx = px.mean() if len(px)>0 else 0\n",
    "    mnx = nx.mean() if len(nx)>0 else 0\n",
    "\n",
    "    return (mpx - mnx)/sx*math.sqrt(p*q)"
   ]
  },
  {
   "cell_type": "markdown",
   "metadata": {},
   "source": [
    "**Финальная модель:**\n",
    "Модель с наилучшим качеством получается следующим образом:\n",
    "- фильтрация выбросов\n",
    "- 50% undersample-инг\n",
    "- Заполнение пропущенных значений средним\n",
    "- dummy-энкодинг категориальных переменных\n",
    "- отбор признаков по корреляции с целевой переменной с максимальным числом признаков равным 30\n",
    "- классификатог - XGBClassifier с n_estimators=120 и learning_rate=0.1"
   ]
  },
  {
   "cell_type": "code",
   "execution_count": 4,
   "metadata": {},
   "outputs": [
    {
     "name": "stdout",
     "output_type": "stream",
     "text": [
      "filtering outliers...\n",
      "finished:  25749\n"
     ]
    },
    {
     "name": "stderr",
     "output_type": "stream",
     "text": [
      "C:\\ProgramData\\Anaconda3\\lib\\site-packages\\ipykernel_launcher.py:266: DeprecationWarning: \n",
      ".ix is deprecated. Please use\n",
      ".loc for label based indexing or\n",
      ".iloc for positional indexing\n",
      "\n",
      "See the documentation here:\n",
      "http://pandas.pydata.org/pandas-docs/stable/indexing.html#ix-indexer-is-deprecated\n"
     ]
    },
    {
     "name": "stdout",
     "output_type": "stream",
     "text": [
      "0.789260156773\n"
     ]
    }
   ],
   "source": [
    "# load data\n",
    "X_train, X_hold, X_test, y_train, y_hold = load_data()\n",
    "X = pd.concat([X_train, X_hold], axis=0)\n",
    "y = pd.concat([y_train, y_hold], axis=0)\n",
    "\n",
    "# filter outliers\n",
    "X_train, y_train = filter_outliers(X_train, y_train, X_train.columns[:190], 0.01)\n",
    "\n",
    "# undersample\n",
    "X_train, y_train = undersample(X_train, y_train, 0.5)\n",
    "\n",
    "# model & pipeline\n",
    "model = XGBClassifier(learning_rate=0.1, n_estimators=120, random_state=9, n_jobs=-1)\n",
    "pipeline = get_pipeline(model)\n",
    "\n",
    "pipeline.fit(X, y)\n",
    "\n",
    "y_pred = pipeline.predict_proba(X)[:, 1]\n",
    "score = roc_auc_score(y, y_pred)\n",
    "\n",
    "print(score)"
   ]
  },
  {
   "cell_type": "markdown",
   "metadata": {
    "collapsed": true
   },
   "source": [
    "# Экономическая модель"
   ]
  },
  {
   "cell_type": "markdown",
   "metadata": {},
   "source": [
    "**Задание 1**\n",
    "\n",
    "**Введите еще несколько параметров и на их основе постройте простую экономическую модель: формулу по которой в зависимости от значения исходных параметров вы сможете рассчитать экономический эффект от проведения кампании (= сколько денег вы получили (или наоборот потеряли) от проведения кампании по удержанию) с использование вашей модели.**"
   ]
  },
  {
   "cell_type": "markdown",
   "metadata": {},
   "source": [
    "Будем исследовать экономический эффект, являющийся разностью полной прибыли после внедрения модели и прибыли без ее внедрения.\n",
    "Введем следующие параметры:\n",
    "\n",
    "$M$ - в среднем прибыли приносит один пользователь\n",
    "\n",
    "$H$ - мы готовы потратить на удержание одного пользователя\n",
    "\n",
    "$p$ - вероятность пользователю, собирающемуся уйти, принять наши условия и остаться\n",
    "\n",
    "$g$ - доля TOP польнователей, склонных согласно нашему алгоритму уйти, участвующих в программе по удержанию. Фактически эту величину можно считать порогом алгоритма (threshold), выше которого его значения проецируются в 1, ниже - в 0\n",
    "\n",
    "$T$ - полный бюджет кампании, который мы не должны превысить"
   ]
  },
  {
   "cell_type": "markdown",
   "metadata": {},
   "source": [
    "Вся выборка пользователей разделяется на 4 части:\n",
    "\n",
    "$TP$ - пользователи, которые собираются уйти согласно нашему алгоритму и в действительности\n",
    "\n",
    "$FP$ - пользователи, которые собираются уйти согласно нашему алгоритму, но не в действительности\n",
    "\n",
    "$TN$ - пользователи, которые не собираются уйти согласно нашему алгоритму, и в действительности\n",
    "\n",
    "$FN$ - пользователи, которые не собираются уйти согласно нашему алгоритму, но не в действительности\n",
    "\n",
    "Все величины &TP, FP, TN, FN& - функции параметра $g$"
   ]
  },
  {
   "cell_type": "markdown",
   "metadata": {},
   "source": [
    "$TP$ часть\n",
    "\n",
    "$p$ доля из них примет наши условия и останется, принеся в итоге $p \\cdot TP \\cdot (M - H)$, $1-p$ доля все равно уйдет, принеся убыток $-(1-p) \\cdot TP \\cdot H$. Если же не проводить кампанию ($g=0$), то прибыть от этой части пользователей составит 0.\n",
    "\n",
    "В итоге вклад в экономический эффект от $TP$ пользователей составит\n",
    "\n",
    "$$\n",
    "L_{TP} = p \\cdot TP \\cdot (M - H) - (1-p) \\cdot TP \\cdot H = TP \\cdot (p \\cdot M - H)\n",
    "$$"
   ]
  },
  {
   "cell_type": "markdown",
   "metadata": {},
   "source": [
    "$FP$ часть\n",
    "\n",
    "На $p$ долю мы ошибочно потратимся, и они в итоге принесут $p \\cdot FP (M - H)$. Доля $1-p$ останется и принесет как обычно $(1-p) \\cdot FP \\cdot M$. Если не проводить кампанию, то прибыль от этой части пользователей составит $FP \\cdot M$.\n",
    "\n",
    "В итоге, вклад в экономический эффект от $FP$ пользователей составит\n",
    "\n",
    "$$\n",
    "L_{FP} = p \\cdot FP (M - H) + (1-p) \\cdot FP \\cdot M - FP \\cdot M = - p \\cdot FP \\cdot H\n",
    "$$"
   ]
  },
  {
   "cell_type": "markdown",
   "metadata": {},
   "source": [
    "$TN$ часть\n",
    "\n",
    "Эти пользователи точно останутся и принесут $TN \\cdot M$ денег. Эффект от кампании на них = 0:\n",
    "\n",
    "$$\n",
    "L_{TN} = 0\n",
    "$$"
   ]
  },
  {
   "cell_type": "markdown",
   "metadata": {},
   "source": [
    "$FN$ часть\n",
    "\n",
    "Это пользователи, которые уйдут, но алгоритм этого не понял. Они принесут 0 денег. Эффект откампании тоже составит для них 0:\n",
    "\n",
    "$$\n",
    "L_{FN} = 0\n",
    "$$"
   ]
  },
  {
   "cell_type": "markdown",
   "metadata": {},
   "source": [
    "Итого, полный экономический эффект:\n",
    "\n",
    "$$\n",
    "L = L_{TP} + L_{FP} + L_{TN} + L_{FN} = TP(g) \\cdot (p \\cdot M - H)  - p \\cdot FP(g) \\cdot H\n",
    "$$\n",
    "\n",
    "При условии не превышении полного бюджета кампании:\n",
    "\n",
    "$$\n",
    "(TP(g) + p \\cdot FP(g)) \\cdot H \\leqslant T\n",
    "$$"
   ]
  },
  {
   "cell_type": "markdown",
   "metadata": {},
   "source": [
    "Таким образом, постановка задачи на максимизацию экономического эффекта имеет вид:\n",
    "\n",
    "$$\n",
    "TP(g) \\cdot (p \\cdot M - H)  - p \\cdot FP(g) \\cdot H \\rightarrow max,\n",
    "$$\n",
    "\n",
    "$$\n",
    "(TP(g) + p \\cdot FP(g)) \\cdot H \\leqslant T\n",
    "$$"
   ]
  },
  {
   "cell_type": "code",
   "execution_count": 6,
   "metadata": {
    "collapsed": true
   },
   "outputs": [],
   "source": [
    "def check(TP_, FP_, p_, H_, T_):\n",
    "    return (TP_ + p_*FP_)*H_ <= T_\n",
    "\n",
    "\n",
    "def L(M_, H_, p_, g_, T_):\n",
    "    threshold = np.percentile(y_pred, 100 - g_)\n",
    "    a = (y_pred > threshold).astype(int)\n",
    "\n",
    "    TP = ((y == 1) & (a == 1)).sum()\n",
    "    FP = ((y == 0) & (a == 1)).sum()\n",
    "    TN = ((y == 0) & (a == 0)).sum()\n",
    "    FN = ((y == 1) & (a == 0)).sum()\n",
    "    \n",
    "    if not check(TP, FP, p, H, T):\n",
    "        return None\n",
    "    \n",
    "    L = TP*(p_*M_ - H_) - p_*FP*H_\n",
    "    \n",
    "    return L"
   ]
  },
  {
   "cell_type": "markdown",
   "metadata": {},
   "source": [
    "**Задание 2**\n",
    "\n",
    "**Исходя из введенных параметров проанализируйте, какой топ пользователей, склонных к оттоку согласно модели, оптимально выбрать для проведения кампании по удержанию для таким образом, чтобы экономический эффект был наибольшим?**"
   ]
  },
  {
   "cell_type": "code",
   "execution_count": 8,
   "metadata": {
    "scrolled": false
   },
   "outputs": [
    {
     "data": {
      "image/png": "[encoded data removed]",
      "text/plain": [
       "<matplotlib.figure.Figure at 0x1f3aca5e710>"
      ]
     },
     "metadata": {},
     "output_type": "display_data"
    },
    {
     "data": {
      "text/plain": [
       "1.5656565656565655"
      ]
     },
     "execution_count": 8,
     "metadata": {},
     "output_type": "execute_result"
    }
   ],
   "source": [
    "M = 100\n",
    "H = 20\n",
    "p = 0.3\n",
    "g = 1  # Top 1%\n",
    "T = 20000\n",
    "\n",
    "gs = np.linspace(0, 5, 100)\n",
    "ls = []\n",
    "for g in gs:\n",
    "    l = L(M, H, p, g, T)\n",
    "    if l is None:\n",
    "        continue\n",
    "    ls.append((g, l))\n",
    "    \n",
    "xs, ys = zip(*ls)\n",
    "    \n",
    "plt.plot(xs, ys)\n",
    "plt.grid()\n",
    "plt.show()\n",
    "\n",
    "xs[np.argmax(np.array(ys))]"
   ]
  },
  {
   "cell_type": "markdown",
   "metadata": {},
   "source": [
    "Видно, что наиболее экономически выгодно взять порог порядка 1.6% всех клиентов для проведения кампании"
   ]
  },
  {
   "cell_type": "markdown",
   "metadata": {},
   "source": [
    "** Задание 3**\n",
    "\n",
    "**Попробуйте усложнить экономическую модель. Добавьте еще несколько параметров и поиграйте с ними (например, измените стоимость удержания и вероятность, с которой пользователь принимает предложение), проанализируйте как меняется оптимальный размер топа?**"
   ]
  },
  {
   "cell_type": "markdown",
   "metadata": {},
   "source": [
    "Изменим стоимость удержания:"
   ]
  },
  {
   "cell_type": "code",
   "execution_count": 9,
   "metadata": {},
   "outputs": [
    {
     "name": "stdout",
     "output_type": "stream",
     "text": [
      "4.19191919192\n",
      "1.56565656566\n",
      "0.252525252525\n",
      "0.0\n"
     ]
    },
    {
     "data": {
      "image/png": "[encoded data removed]",
      "text/plain": [
       "<matplotlib.figure.Figure at 0x1f39d827710>"
      ]
     },
     "metadata": {},
     "output_type": "display_data"
    }
   ],
   "source": [
    "M = 100\n",
    "p = 0.3\n",
    "g = 1  # Top 1%\n",
    "T = 20000\n",
    "Hs = [15, 20, 25, 30]\n",
    "\n",
    "for H in Hs:\n",
    "    gs = np.linspace(0, 5, 100)\n",
    "    ls = []\n",
    "    for g in gs:\n",
    "        l = L(M, H, p, g, T)\n",
    "        if l is None:\n",
    "            continue\n",
    "        ls.append((g, l))\n",
    "        \n",
    "    xs, ys = zip(*ls)\n",
    "        \n",
    "    plt.plot(xs, ys)\n",
    "    \n",
    "    print(xs[np.argmax(np.array(ys))])\n",
    "\n",
    "plt.grid()\n",
    "plt.show()"
   ]
  },
  {
   "cell_type": "markdown",
   "metadata": {},
   "source": [
    "Видно, что с повышением стоимости удержания экономический эффект становится все незначительнее вплоть до ухода в ноль"
   ]
  },
  {
   "cell_type": "markdown",
   "metadata": {},
   "source": [
    "Изменим вероятность, с которой пользователь принимает предложение"
   ]
  },
  {
   "cell_type": "code",
   "execution_count": 10,
   "metadata": {},
   "outputs": [
    {
     "name": "stdout",
     "output_type": "stream",
     "text": [
      "0.0\n",
      "0.0\n",
      "1.56565656566\n",
      "2.9797979798\n",
      "3.53535353535\n"
     ]
    },
    {
     "data": {
      "image/png": "[encoded data removed]",
      "text/plain": [
       "<matplotlib.figure.Figure at 0x1f3a3fec828>"
      ]
     },
     "metadata": {},
     "output_type": "display_data"
    }
   ],
   "source": [
    "M = 100\n",
    "H = 20\n",
    "g = 1  # Top 1%\n",
    "T = 20000\n",
    "ps = [0.1, 0.2, 0.3, 0.4, 0.5]\n",
    "\n",
    "for p in ps:\n",
    "    gs = np.linspace(0, 5, 100)\n",
    "    ls = []\n",
    "    for g in gs:\n",
    "        l = L(M, H, p, g, T)\n",
    "        if l is None:\n",
    "            continue\n",
    "        ls.append((g, l))\n",
    "        \n",
    "    xs, ys = zip(*ls)\n",
    "        \n",
    "    plt.plot(xs, ys)\n",
    "    \n",
    "    print(xs[np.argmax(np.array(ys))])\n",
    "\n",
    "plt.grid()\n",
    "plt.show()"
   ]
  },
  {
   "cell_type": "markdown",
   "metadata": {},
   "source": [
    "Видно, что с увеличением вероятности растет как экономическая выгодность кампании в целом, так и процент вовлеченных в камапнию пользователей"
   ]
  },
  {
   "cell_type": "markdown",
   "metadata": {},
   "source": [
    "** Задание 4**\n",
    "\n",
    "**Всегда ли применение модели экономически оправданно? Приведите пример набора значений параметров, при которых применение модели перестает быть оправданным.**"
   ]
  },
  {
   "cell_type": "markdown",
   "metadata": {},
   "source": [
    "Не всегда. Например, как следует из формулы для экономического эффекта, при $p \\cdot M - H < 0$ экономический эффект также отрицателен, а следовательно кампания невыгодна"
   ]
  },
  {
   "cell_type": "markdown",
   "metadata": {},
   "source": [
    "** Задание 5**\n",
    "\n",
    "**Оцените изменение экономического эффекта от проведения кампании по удержанию при увеличении качества модели на 1%? На 3%? При ответе на вопрос укажите, по какой метрике вы оцениваете качество.**"
   ]
  },
  {
   "cell_type": "markdown",
   "metadata": {},
   "source": [
    "Выпишем формулу экономической эффективности еще раз\n",
    "\n",
    "$$\n",
    "L = TP(g) \\cdot (p \\cdot M - H)  - p \\cdot FP(g) \\cdot H\n",
    "$$\n",
    "\n"
   ]
  },
  {
   "cell_type": "markdown",
   "metadata": {},
   "source": [
    "В ней оказались важными два параметра $TP$ и $FP$. В качестве метрики рассмотрим точность $P = TP/(TP + FP)$. \n",
    "Будем для простоты считать, что увеличивается $TP$, а это уже в свою очередь увеличивает $L$. "
   ]
  },
  {
   "cell_type": "code",
   "execution_count": 11,
   "metadata": {
    "collapsed": true
   },
   "outputs": [],
   "source": [
    "def correct_pct(TP_, FP_, s):\n",
    "    '''\n",
    "    Во сколько надо увеличить TP, чтобы точность увеличилась на s%\n",
    "    '''\n",
    "    beta = 1 + s/100\n",
    "    alpha = FP_/(FP_ + TP_*(1 - beta))\n",
    "    return alpha\n",
    "\n",
    "\n",
    "def L_corrected(M_, H_, p_, g_, T_, s=0):\n",
    "    threshold = np.percentile(y_pred, 100 - g_)\n",
    "    a = (y_pred > threshold).astype(int)\n",
    "\n",
    "    TP = ((y == 1) & (a == 1)).sum()\n",
    "    FP = ((y == 0) & (a == 1)).sum()\n",
    "    TN = ((y == 0) & (a == 0)).sum()\n",
    "    FN = ((y == 1) & (a == 0)).sum()\n",
    "    \n",
    "    alpha = correct_pct(TP, FP, s)\n",
    "    TP *= alpha\n",
    "    \n",
    "    if not check(TP, FP, p, H, T):\n",
    "        return None\n",
    "    \n",
    "    L = TP*(p_*M_ - H_) - p_*FP*H_\n",
    "    \n",
    "    return L"
   ]
  },
  {
   "cell_type": "markdown",
   "metadata": {},
   "source": [
    "Пусть качество модели (точность, P) увеличилось на s=1% или 3%, тогда"
   ]
  },
  {
   "cell_type": "code",
   "execution_count": 12,
   "metadata": {},
   "outputs": [
    {
     "name": "stderr",
     "output_type": "stream",
     "text": [
      "C:\\ProgramData\\Anaconda3\\lib\\site-packages\\ipykernel_launcher.py:6: RuntimeWarning: invalid value encountered in true_divide\n",
      "  \n"
     ]
    },
    {
     "data": {
      "image/png": "[encoded data removed]",
      "text/plain": [
       "<matplotlib.figure.Figure at 0x1f39d827160>"
      ]
     },
     "metadata": {},
     "output_type": "display_data"
    },
    {
     "data": {
      "text/plain": [
       "(1.5656565656565655, 1.6161616161616161, 1.6161616161616161)"
      ]
     },
     "execution_count": 12,
     "metadata": {},
     "output_type": "execute_result"
    }
   ],
   "source": [
    "M = 100\n",
    "H = 20\n",
    "p = 0.3\n",
    "g = 1  # Top 1%\n",
    "T = 20000\n",
    "\n",
    "gs1 = np.linspace(0, 5, 100)\n",
    "ls1 = []\n",
    "ls2 = []\n",
    "ls3 = []\n",
    "for g in gs:\n",
    "    l1 = L(M, H, p, g, T)\n",
    "    if l1 is not None:\n",
    "        ls1.append((g, l1))\n",
    "    l2 = L_corrected(M, H, p, g, T, s=1)\n",
    "    if l2 is not None:\n",
    "        ls2.append((g, l2))\n",
    "    l3 = L_corrected(M, H, p, g, T, s=3)\n",
    "    if l3 is not None:\n",
    "        ls3.append((g, l3))\n",
    "    \n",
    "xs1, ys1 = zip(*ls1)\n",
    "xs2, ys2 = zip(*ls2)\n",
    "xs3, ys3 = zip(*ls3)\n",
    "    \n",
    "plt.plot(xs1, ys1)\n",
    "plt.plot(xs2, ys2)\n",
    "plt.plot(xs3, ys3)\n",
    "\n",
    "plt.grid()\n",
    "plt.show()\n",
    "\n",
    "xs1[np.argmax(np.array(ys1))], xs2[np.argmax(np.array(ys1))], xs3[np.argmax(np.array(ys1))]"
   ]
  },
  {
   "cell_type": "markdown",
   "metadata": {},
   "source": [
    "Видим, что экономическая эффективность растет с увеличением качества модели, как и оптимальный процент участвующих в кампании "
   ]
  },
  {
   "cell_type": "markdown",
   "metadata": {},
   "source": [
    "**Задание 6**\n",
    "\n",
    "**\n",
    "Как вы думаете, является ли экономически оправданным вложение средств в улучшение качества модели? На сколько нужно улучшить модель, чтобы это качественно сказалось на экономическом эффекте от удержания?**"
   ]
  },
  {
   "cell_type": "markdown",
   "metadata": {},
   "source": [
    "Это зависит от человековременных затрат на улучшение качества модели и должно оцениваться отдельно. Если затраты велики, то стоит оставить все как есть.\n",
    "\n",
    "Посмотрим, насколько надо увеличить качество модели, чтобы это ощутимо (>10%) сказалось на экономическом эффекте. При выбранных значениях по умолчанию для все остальных параметров будем иметь"
   ]
  },
  {
   "cell_type": "code",
   "execution_count": 13,
   "metadata": {},
   "outputs": [
    {
     "name": "stderr",
     "output_type": "stream",
     "text": [
      "C:\\ProgramData\\Anaconda3\\lib\\site-packages\\ipykernel_launcher.py:6: RuntimeWarning: invalid value encountered in true_divide\n",
      "  \n"
     ]
    },
    {
     "data": {
      "image/png": "[encoded data removed]",
      "text/plain": [
       "<matplotlib.figure.Figure at 0x1f3acc3b518>"
      ]
     },
     "metadata": {},
     "output_type": "display_data"
    },
    {
     "data": {
      "text/plain": [
       "(1.5656565656565655, 1.6161616161616161)"
      ]
     },
     "execution_count": 13,
     "metadata": {},
     "output_type": "execute_result"
    }
   ],
   "source": [
    "M = 100\n",
    "H = 20\n",
    "p = 0.3\n",
    "g = 1  # Top 1%\n",
    "T = 20000\n",
    "\n",
    "gs1 = np.linspace(0, 5, 100)\n",
    "ls1 = []\n",
    "ls2 = []\n",
    "for g in gs:\n",
    "    l1 = L(M, H, p, g, T)\n",
    "    if l1 is not None:\n",
    "        ls1.append((g, l1))\n",
    "    l2 = L_corrected(M, H, p, g, T, s=5)\n",
    "    if l2 is not None:\n",
    "        ls2.append((g, l2))\n",
    "    \n",
    "xs1, ys1 = zip(*ls1)\n",
    "xs2, ys2 = zip(*ls2)\n",
    "    \n",
    "plt.plot(xs1, ys1)\n",
    "plt.plot(xs2, ys2)\n",
    "\n",
    "plt.grid()\n",
    "plt.show()\n",
    "\n",
    "xs1[np.argmax(np.array(ys1))], xs2[np.argmax(np.array(ys1))]"
   ]
  },
  {
   "cell_type": "markdown",
   "metadata": {},
   "source": [
    "Находим, что качество модели необходимо улучшить на величину порядка 5%, что в принципе вполне реально, учитывая ее текущий уровень ошибки.\n",
    "Вероятно, следует вложить деньги в ее улучшение."
   ]
  },
  {
   "cell_type": "code",
   "execution_count": null,
   "metadata": {
    "collapsed": true
   },
   "outputs": [],
   "source": []
  }
 ],
 "metadata": {
  "kernelspec": {
   "display_name": "Python 3",
   "language": "python",
   "name": "python3"
  },
  "language_info": {
   "codemirror_mode": {
    "name": "ipython",
    "version": 3
   },
   "file_extension": ".py",
   "mimetype": "text/x-python",
   "name": "python",
   "nbconvert_exporter": "python",
   "pygments_lexer": "ipython3",
   "version": "3.6.3"
  }
 },
 "nbformat": 4,
 "nbformat_minor": 1
}

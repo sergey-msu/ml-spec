{
 "cells": [
  {
   "cell_type": "markdown",
   "metadata": {},
   "source": [
    "# Неделя 6. Оценка потенциального экономического эффекта от внедрения полученного решения"
   ]
  },
  {
   "cell_type": "markdown",
   "metadata": {},
   "source": [
    "## Константинов Вячеслав"
   ]
  },
  {
   "cell_type": "markdown",
   "metadata": {},
   "source": [
    "## 1. Загрузка данных"
   ]
  },
  {
   "cell_type": "code",
   "execution_count": 1,
   "metadata": {
    "collapsed": true
   },
   "outputs": [],
   "source": [
    "import pandas as pd\n",
    "import numpy as np\n",
    "import random\n",
    "\n",
    "import matplotlib.pyplot as plt\n",
    "\n",
    "from scipy import stats as ss\n",
    "from scipy.sparse import csr_matrix, hstack, vstack"
   ]
  },
  {
   "cell_type": "code",
   "execution_count": 2,
   "metadata": {
    "collapsed": true
   },
   "outputs": [],
   "source": [
    "from sklearn.ensemble import GradientBoostingClassifier, RandomForestClassifier, ExtraTreesClassifier\n",
    "from sklearn.linear_model import RidgeClassifier, SGDClassifier, LogisticRegression\n",
    "\n",
    "from sklearn.preprocessing import LabelEncoder, OneHotEncoder, LabelBinarizer, Imputer\n",
    "from sklearn.decomposition import PCA\n",
    "\n",
    "from sklearn.model_selection import StratifiedKFold, cross_validate\n",
    "from sklearn.metrics import average_precision_score, precision_recall_fscore_support, roc_auc_score\n",
    "\n",
    "from sklearn.svm import LinearSVC \n",
    "from sklearn.feature_selection import SelectFromModel\n",
    "\n",
    "from sklearn.model_selection import train_test_split, learning_curve, ShuffleSplit, GridSearchCV"
   ]
  },
  {
   "cell_type": "code",
   "execution_count": 3,
   "metadata": {
    "collapsed": true
   },
   "outputs": [],
   "source": [
    "from imblearn.over_sampling import RandomOverSampler\n",
    "from imblearn.under_sampling import ClusterCentroids, RandomUnderSampler, NearMiss, InstanceHardnessThreshold\n",
    "from collections import Counter, defaultdict"
   ]
  },
  {
   "cell_type": "code",
   "execution_count": 4,
   "metadata": {
    "collapsed": true
   },
   "outputs": [],
   "source": [
    "# Функция для преобразования данных\n",
    "# num_cols - числовые признаки, которые будут использоваться\n",
    "# cat_cols - категориальные признаки, которые будут использоваться\n",
    "# опции: is_OHE - One Hot Encoding, \n",
    "# is_OverSampling - Over Sampling\n",
    "# imput_method - способ заполнения пропущенных числовых данных\n",
    "# feature_selection - метод отбора признаков \n",
    "\n",
    "# По умолчанию используется все признаки, все опции выключены, imput_method='normalize'\n",
    "# Для обработки категориальных данных по умолчанию используется только Label Encoder\n",
    "\n",
    "def transform_data(data, y=None, imput_method='normalize', feature_selection=None,\n",
    "                   num_cols=None, cat_cols=None, is_OHE=False, is_OverSampling=False):\n",
    "    \n",
    "    to_return = {}\n",
    "    \n",
    "    num_interval = (0, 190)\n",
    "    cat_interval = (191, data.shape[1])\n",
    "    \n",
    "    \n",
    "    data, num_interval, cat_interval, new_cols = drop_null_cols(data, num_interval, cat_interval)\n",
    "    \n",
    "    data_num, data_cat = split_num_cat(data, num_interval)\n",
    "    \n",
    "    if num_cols:\n",
    "        data_num = data[num_cols]\n",
    "        num_interval = (0, len(num_cols))\n",
    "        diff = 190 - len(num_cols)\n",
    "        cat_interval = (191 - diff, data.shape[1]-diff)\n",
    "        new_cols.drop(num_cols)\n",
    "    if cat_cols:\n",
    "        data_cat = data[cat_cols]\n",
    "        cat_interval_prev = cat_interval\n",
    "        cat_interval = (cat_interval_prev[0], cat_interval_prev[1]-len(cat_cols))\n",
    "        new_cols.drop(cat_cols)\n",
    "    \n",
    "    print('Processing the numeric columns...')\n",
    "    data_num = data_num_processing(data_num, method=imput_method)\n",
    "        \n",
    "    print('Processing the categorical columns...')\n",
    "    data_cat = data_cat_fill_nan(data_cat)\n",
    "    \n",
    "    data_cat = data_cat_LE(data_cat)\n",
    "    \n",
    "    if is_OHE:    \n",
    "        data_cat = data_cat_OHE(data_cat)\n",
    "        \n",
    "    data_result = data_join(data_num, data_cat).tocsr()\n",
    "    \n",
    "    if feature_selection:\n",
    "        data_result, model, feature_importances, feature_ranking = data_feature_selection(data=data_result, y=y, \n",
    "                                                                         method=feature_selection,\n",
    "                                                                         num_interval=num_interval,\n",
    "                                                                         columns=new_cols, is_OHE=is_OHE)\n",
    "                                                                         \n",
    "        to_return['feature_importances'] = feature_importances\n",
    "        to_return['model'] = model\n",
    "        to_return['feature_ranking']=feature_ranking\n",
    "        \n",
    "    \n",
    "    if is_OverSampling:\n",
    "        data_result, to_return['y'] = data_OverSampling(data_result, y)\n",
    "    \n",
    "    to_return['X'] = data_result\n",
    "    to_return['num_interval'] = num_interval\n",
    "    to_return['cat_interval'] = cat_interval\n",
    "        \n",
    "    print('Done!')\n",
    "    \n",
    "    return to_return"
   ]
  },
  {
   "cell_type": "code",
   "execution_count": 64,
   "metadata": {
    "collapsed": true
   },
   "outputs": [],
   "source": [
    "# Функция удаления пустых колонок\n",
    "\n",
    "def drop_null_cols(data, num_interval, cat_interval):\n",
    "    \n",
    "    print('Dropping the null columns...')\n",
    "    dropped_num = []\n",
    "    dropped_cat = []\n",
    "    \n",
    "    new_cols = data.columns\n",
    "    \n",
    "    for idx, each_col in enumerate(data.columns):\n",
    "        if len(data[pd.isnull(data[each_col])==True])==data.shape[0]:\n",
    "            if idx > 190:\n",
    "                dropped_cat.append(each_col)\n",
    "            else:\n",
    "                dropped_num.append(each_col)\n",
    "                \n",
    "    for each_col in dropped_num:\n",
    "        data.drop(each_col,axis = 1,inplace = True)\n",
    "        print(\"Dropped num-type column: {0}\".format(each_col))\n",
    "    \n",
    "    for each_col in dropped_cat:\n",
    "        data.drop(each_col,axis = 1,inplace = True)\n",
    "        print(\"Dropped cal-type column: {0}\".format(each_col))\n",
    "    \n",
    "    max_num = 190 - len(dropped_num)\n",
    "    \n",
    "    print(\"Dropped {0} num-type cols and {1} cat-types cols\".format(len(dropped_num), len(dropped_cat)))\n",
    "    print(\"Num-type feature have the indices from {0} up to {1}.\".format(0, max_num))\n",
    "    print(\"Cal-type feature have the indices from {0} up to {1}.\".format(max_num+1, data.shape[1]))\n",
    "    \n",
    "    new_cols = new_cols.drop(dropped_num).drop(dropped_cat)\n",
    "    \n",
    "    \n",
    "    return data, (0, max_num), (max_num+1, data.shape[1]), new_cols\n",
    "\n",
    "# Функция разделения числовых и категориальных признаков\n",
    "\n",
    "def split_num_cat(data, num_interval):\n",
    "    print('Splitting the numeric and categorical columns...')\n",
    "    data_num, data_cat = np.split(data, [num_interval[1]], axis=1)\n",
    "    return data_num, data_cat\n",
    "\n",
    "# Функция обработки числовых данных\n",
    "def data_num_processing(data_num, method='normalize'):\n",
    "    \n",
    "    if method == 'normalize':\n",
    "        print('Filling the absent values with the columns\\' means...')\n",
    "        data_num_transformed = data_num.fillna(data_num.mean())\n",
    "        print('Normalizing the data...')\n",
    "        for each_col in data_num_transformed.columns:\n",
    "            if data_num_transformed[each_col].std():\n",
    "                data_num_transformed[each_col]=(data_num_transformed[each_col]-data_num_transformed[each_col].mean()) / float(data_num_transformed[each_col].std())\n",
    "            else:\n",
    "                data_num_transformed[each_col]=data_num_transformed[each_col]-data_num_transformed[each_col].mean()\n",
    "    else:\n",
    "        imputer = Imputer(strategy=method)\n",
    "        columns = data_num.columns\n",
    "        data_num_transformed = pd.DataFrame(imputer.fit_transform(data_num), columns=columns)\n",
    "        \n",
    "    return data_num_transformed\n",
    "\n",
    "# Заполнение пустых ячеек категориальных признаков значением 'unknown'\n",
    "def data_cat_fill_nan(data_cat):\n",
    "    print('Filling the absent categorical values...')\n",
    "    data_cat_trasformed = data_cat.fillna('unknown')\n",
    "    return data_cat_trasformed\n",
    "\n",
    "# Применение Label Encoder к категориальным данным\n",
    "def data_cat_LE(data_cat):\n",
    "    print('Applying a LabelEncoder to the categorical columns...')\n",
    "    \n",
    "    data_cat = data_cat.apply(lambda x: x.astype(str))\n",
    "    data_cat_transformed = data_cat.apply(lambda x: x.astype('category'))\n",
    "    \n",
    "    MyLabelEncoder = defaultdict(LabelEncoder)\n",
    "    data_cat_transformed = data_cat_transformed.apply(lambda x: MyLabelEncoder[x.name].fit_transform(x))\n",
    "    \n",
    "    return data_cat_transformed\n",
    "\n",
    "# Применение One Hot Encoder к категориальным данным\n",
    "\n",
    "def data_cat_OHE(data_cat):\n",
    "    print('Applying a OneHotEncoder to categorical columns...')\n",
    "    data_cat_transformed = OneHotEncoder().fit_transform(data_cat)\n",
    "    return data_cat_transformed\n",
    "\n",
    "# Соединение обработанных числовых и категориальных признаков после обработки\n",
    "\n",
    "def data_join(data_num, data_cat):\n",
    "    print('Joining the numerical and categorical columns...')\n",
    "    data_num_sparsed = csr_matrix(data_num)\n",
    "    data_cat_sparsed = csr_matrix(data_cat)\n",
    "    \n",
    "    data_result = hstack((data_num_sparsed, data_cat))\n",
    "    \n",
    "    return data_result\n",
    "\n",
    "# OverSampling\n",
    "# Применимо только если есть значения labels\n",
    "\n",
    "def data_OverSampling(data, labels):\n",
    "    print('OverSampling in progress...')\n",
    "    ros = RandomOverSampler(random_state=0)\n",
    "    X_num_cat_resampled, y_resampled = ros.fit_sample(data, labels)\n",
    "    return X_num_cat_resampled, y_resampled\n",
    "\n",
    "# Отбор признаков\n",
    "# Доступны два метода: l1-регуляризация и отбор на основе деревьев\n",
    "def data_feature_selection(data, y, method, num_interval, columns, is_OHE):\n",
    "    print('Appling the {}-based feature selection method'.format(method))\n",
    "    if method == 'l1':\n",
    "        lsvc = LinearSVC(C=0.01, penalty='l1', dual=False).fit(data, y)\n",
    "        model = SelectFromModel(lsvc, prefit=True)\n",
    "        data_transformed = model.transform(data)\n",
    "        print('New shape of X-data is {}'.format(data_transformed.shape))\n",
    "        importances = lsvc.coef_\n",
    "    elif method == 'tree':\n",
    "        clf = ExtraTreesClassifier().fit(data, y)\n",
    "        model = SelectFromModel(clf, prefit=True)\n",
    "        data_transformed = model.transform(data)\n",
    "        print('New shape of X-data is {}'.format(data_transformed.shape))\n",
    "        importances = clf.feature_importances_\n",
    "        \n",
    "    if not is_OHE:\n",
    "        features_ranking = columns[importances.argsort()]\n",
    "    else:\n",
    "        indices = np.arange(num_interval[1])\n",
    "        num_importances = np.take(np.array(importances), indices)\n",
    "        features_ranking = columns[num_importances.argsort()]\n",
    "    \n",
    "    return data_transformed, model, importances, features_ranking\n",
    "\n",
    "# Функция расчета метрик отложенной выборки\n",
    "def get_scores_hold_out(X_hold_out, y_hold_out, Classifier, configuration, scores):\n",
    "    \n",
    "    print('Calculating scores...')\n",
    "    \n",
    "    y_proba = Classifier.predict_proba(X_hold_out)[:, 1]\n",
    "    y_pred = Classifier.predict(X_hold_out)\n",
    "\n",
    "    results = precision_recall_fscore_support(y_hold_out, y_pred)\n",
    "    pr_scores = average_precision_score(y_hold_out, y_proba)\n",
    "    roc_auc_scores = roc_auc_score(y_hold_out, y_proba)\n",
    "    \n",
    "    scores.loc[configuration, 'precision'] = results[0][1]\n",
    "    scores.loc[configuration, 'recall'] = results[1][1]\n",
    "    scores.loc[configuration, 'f1-score'] = results[2][1]\n",
    "    \n",
    "    scores.loc[configuration, 'PR-score'] = pr_scores\n",
    "    scores.loc[configuration, 'ROC AUC'] = roc_auc_scores\n",
    "    \n",
    "    print('Done!')\n",
    "    return True\n",
    "\n",
    "# Функция расчета метрик основной выборки\n",
    "def get_scores(X, y, Classifier, configuration, scores):\n",
    "    \n",
    "    skf = StratifiedKFold(n_splits=5, random_state=123)\n",
    "    skf.get_n_splits(X, y)\n",
    "    skf.split(X, y)\n",
    "    \n",
    "    print('Calculating scores...')\n",
    "    results = cross_validate(Classifier, X, y, cv=skf, scoring=['precision', 'recall', 'f1', 'average_precision', 'roc_auc'], return_train_score=True)\n",
    "    \n",
    "    scores.loc[configuration, 'precision test'] = results['test_precision'].mean()\n",
    "    scores.loc[configuration, 'precision train'] = results['train_precision'].mean()\n",
    "    scores.loc[configuration, 'recall test'] = results['test_recall'].mean()\n",
    "    scores.loc[configuration, 'recall train'] = results['train_recall'].mean()\n",
    "    scores.loc[configuration, 'f1-score test'] = results['test_f1'].mean()\n",
    "    scores.loc[configuration, 'f1-score train'] = results['train_f1'].mean()\n",
    "    scores.loc[configuration, 'PR-score test'] = results['test_average_precision'].mean()\n",
    "    scores.loc[configuration, 'PR-score train'] = results['train_average_precision'].mean()\n",
    "    scores.loc[configuration, 'ROC AUC test'] = results['test_roc_auc'].mean()\n",
    "    scores.loc[configuration, 'ROC AUC train'] = results['train_roc_auc'].mean()\n",
    "    \n",
    "    print('Done!')\n",
    "    return True"
   ]
  },
  {
   "cell_type": "code",
   "execution_count": 65,
   "metadata": {
    "collapsed": true
   },
   "outputs": [],
   "source": [
    "# Функция отрисовки кривых обучения\n",
    "# Взято отсюда: http://scikit-learn.org/stable/auto_examples/model_selection/plot_learning_curve.html\n",
    "\n",
    "def plot_learning_curve(estimator, title, X, y, scoring=None, ylim=None, cv=None,\n",
    "                        n_jobs=1, train_sizes=np.linspace(.1, 1.0, 5)):\n",
    "    plt.figure()\n",
    "    plt.title(title)\n",
    "    if ylim is not None:\n",
    "        plt.ylim(*ylim)\n",
    "    plt.xlabel(\"Training examples\")\n",
    "    \n",
    "    if scoring:\n",
    "        plt.ylabel(scoring)\n",
    "    else:\n",
    "        plt.ylabel('Score')\n",
    "    \n",
    "    if scoring:\n",
    "        train_sizes, train_scores, test_scores = learning_curve(\n",
    "            estimator, X, y, cv=cv, scoring=scoring, n_jobs=n_jobs, train_sizes=train_sizes)\n",
    "        \n",
    "    else:\n",
    "        train_sizes, train_scores, test_scores = learning_curve(\n",
    "            estimator, X, y, cv=cv, n_jobs=n_jobs, train_sizes=train_sizes)\n",
    "        \n",
    "    train_scores_mean = np.mean(train_scores, axis=1)\n",
    "    train_scores_std = np.std(train_scores, axis=1)\n",
    "    test_scores_mean = np.mean(test_scores, axis=1)\n",
    "    test_scores_std = np.std(test_scores, axis=1)\n",
    "    plt.grid()\n",
    "\n",
    "    plt.fill_between(train_sizes, train_scores_mean - train_scores_std,\n",
    "                     train_scores_mean + train_scores_std, alpha=0.1,\n",
    "                     color=\"r\")\n",
    "    plt.fill_between(train_sizes, test_scores_mean - test_scores_std,\n",
    "                     test_scores_mean + test_scores_std, alpha=0.1, color=\"g\")\n",
    "    plt.plot(train_sizes, train_scores_mean, 'o-', color=\"r\",\n",
    "             label=\"Training score\")\n",
    "    plt.plot(train_sizes, test_scores_mean, 'o-', color=\"g\",\n",
    "             label=\"Cross-validation score\")\n",
    "\n",
    "    plt.legend(loc=\"best\")\n",
    "    return plt"
   ]
  },
  {
   "cell_type": "code",
   "execution_count": 66,
   "metadata": {
    "collapsed": true
   },
   "outputs": [],
   "source": [
    "# Функция для изменения размера выборки с указанием доли положительного и отрицательного классов\n",
    "# pos_frac - доля объектов положительного класса начальной выборки, которые будут использоваться в итоговой выборке\n",
    "# neg_frac - доля объектов отрицательного класса начальной выборки, которые будут использоваться в итоговой выборке\n",
    "\n",
    "def resample_data(X, y, pos_frac, neg_frac):\n",
    "    \n",
    "    pos_size = int(len(np.where(y==1)[0]) * pos_frac)\n",
    "    neg_size = int(len(np.where(y==-1)[0]) * neg_frac)\n",
    "    \n",
    "    random.seed(1)\n",
    "    pos_indices = random.sample(list(np.where(y== 1)[0]), pos_size)\n",
    "    neg_indices = random.sample(list(np.where(y==-1)[0]), neg_size)\n",
    "    \n",
    "    y_pos = y[pos_indices]\n",
    "    y_neg = y[neg_indices]\n",
    "    y_result = np.append(y_pos, y_neg).ravel()\n",
    "    \n",
    "    X_pos = X[pos_indices]\n",
    "    X_neg = X[neg_indices]\n",
    "    X_result = vstack((X_pos, X_neg))\n",
    "    \n",
    "    pos_rate_result = X_result[y_result==1].shape[0] / float(X_result.shape[0])\n",
    "    neg_rate_result = X_result[y_result==-1].shape[0] / float(X_result.shape[0])\n",
    "    shape_result = X_result.shape[0]\n",
    "    \n",
    "    print('The new size is {0}, the positive and negative class fractions are {1:.2f} and {2:.2f}'.format(shape_result, pos_rate_result, neg_rate_result))\n",
    "\n",
    "    return X_result, y_result, pos_rate_result, neg_rate_result, shape_result"
   ]
  },
  {
   "cell_type": "code",
   "execution_count": 108,
   "metadata": {
    "collapsed": true
   },
   "outputs": [],
   "source": [
    "scores_cv = pd.DataFrame(columns = ['precision test', 'precision train', 'recall test', 'recall train', 'f1-score test', 'f1-score train','PR-score test','PR-score train', 'ROC AUC test', 'ROC AUC train'])\n",
    "scores_train = pd.DataFrame(columns = ['precision', 'recall', 'f1-score', 'PR-score', 'ROC AUC'])"
   ]
  },
  {
   "cell_type": "code",
   "execution_count": 109,
   "metadata": {
    "collapsed": true
   },
   "outputs": [],
   "source": [
    "data = pd.read_csv('orange_small_churn_data.txt', header=0, sep=',')\n",
    "labels = pd.read_csv('orange_small_churn_labels.txt', header=None)\n",
    "labels.columns = ['target']\n",
    "labels = labels.apply(lambda x: x.astype(int))\n",
    "\n",
    "y = labels.as_matrix().ravel()"
   ]
  },
  {
   "cell_type": "code",
   "execution_count": 110,
   "metadata": {
    "collapsed": true
   },
   "outputs": [
    {
     "name": "stdout",
     "output_type": "stream",
     "text": [
      "Dropping the null columns...\n",
      "Dropped num-type column: Var8\n",
      "Dropped num-type column: Var15\n",
      "Dropped num-type column: Var20\n",
      "Dropped num-type column: Var31\n",
      "Dropped num-type column: Var32\n",
      "Dropped num-type column: Var39\n",
      "Dropped num-type column: Var42\n",
      "Dropped num-type column: Var48\n",
      "Dropped num-type column: Var52\n",
      "Dropped num-type column: Var55\n",
      "Dropped num-type column: Var79\n",
      "Dropped num-type column: Var141\n",
      "Dropped num-type column: Var167\n",
      "Dropped num-type column: Var169\n",
      "Dropped num-type column: Var175\n",
      "Dropped num-type column: Var185\n",
      "Dropped cal-type column: Var209\n",
      "Dropped cal-type column: Var230\n",
      "Dropped 16 num-type cols and 2 cat-types cols\n",
      "Num-type feature have the indices from 0 up to 174.\n",
      "Cal-type feature have the indices from 175 up to 212.\n",
      "Splitting the numeric and categorical columns...\n",
      "Processing the numeric columns...\n",
      "Filling the absent values with the columns' means...\n",
      "Normalizing the data...\n",
      "Processing the categorical columns...\n",
      "Filling the absent categorical values...\n",
      "Applying a LabelEncoder to the categorical columns...\n",
      "Joining the numerical and categorical columns...\n",
      "Appling the tree-based feature selection method\n",
      "New shape of X-data is (40000, 69)\n",
      "Done!\n"
     ]
    }
   ],
   "source": [
    "data_result_model = transform_data(data=data, y=y, feature_selection='tree')"
   ]
  },
  {
   "cell_type": "code",
   "execution_count": 112,
   "metadata": {
    "collapsed": true
   },
   "outputs": [],
   "source": [
    "gbc = GradientBoostingClassifier(learning_rate=0.1, n_estimators=120)"
   ]
  },
  {
   "cell_type": "code",
   "execution_count": null,
   "metadata": {
    "collapsed": true
   },
   "outputs": [],
   "source": [
    "near_miss = NearMiss(random_state=0)\n",
    "X_resampled_LE, y_resampled_LE = near_miss.fit_sample(data_result_model['X'], y)"
   ]
  },
  {
   "cell_type": "code",
   "execution_count": 114,
   "metadata": {
    "collapsed": true
   },
   "outputs": [],
   "source": [
    "X_train, X_hold_out, y_train, y_hold_out = train_test_split(X_resampled_LE, y_resampled_LE, \n",
    "                                                            test_size=0.2, random_state=123, \n",
    "                                                            stratify=y_resampled_LE)"
   ]
  },
  {
   "cell_type": "code",
   "execution_count": 115,
   "metadata": {},
   "outputs": [
    {
     "name": "stdout",
     "output_type": "stream",
     "text": [
      "Calculating scores...\n",
      "Done!\n"
     ]
    },
    {
     "data": {
      "text/plain": [
       "True"
      ]
     },
     "execution_count": 115,
     "metadata": {},
     "output_type": "execute_result"
    }
   ],
   "source": [
    "get_scores(X_train, y_train, gbc, 'final model', scores_cv)"
   ]
  },
  {
   "cell_type": "code",
   "execution_count": 116,
   "metadata": {},
   "outputs": [
    {
     "data": {
      "text/plain": [
       "GradientBoostingClassifier(criterion='friedman_mse', init=None,\n",
       "              learning_rate=0.1, loss='deviance', max_depth=3,\n",
       "              max_features=None, max_leaf_nodes=None,\n",
       "              min_impurity_decrease=0.0, min_impurity_split=None,\n",
       "              min_samples_leaf=1, min_samples_split=2,\n",
       "              min_weight_fraction_leaf=0.0, n_estimators=120,\n",
       "              presort='auto', random_state=None, subsample=1.0, verbose=0,\n",
       "              warm_start=False)"
      ]
     },
     "execution_count": 116,
     "metadata": {},
     "output_type": "execute_result"
    }
   ],
   "source": [
    "gbc.fit(X_train, y_train)"
   ]
  },
  {
   "cell_type": "code",
   "execution_count": 117,
   "metadata": {},
   "outputs": [
    {
     "name": "stdout",
     "output_type": "stream",
     "text": [
      "Calculating scores...\n",
      "Done!\n"
     ]
    },
    {
     "data": {
      "text/plain": [
       "True"
      ]
     },
     "execution_count": 117,
     "metadata": {},
     "output_type": "execute_result"
    }
   ],
   "source": [
    "get_scores_hold_out(X_hold_out, y_hold_out, gbc, 'final model', scores_train)"
   ]
  },
  {
   "cell_type": "code",
   "execution_count": 118,
   "metadata": {},
   "outputs": [
    {
     "data": {
      "text/html": [
       "<div>\n",
       "<style>\n",
       "    .dataframe thead tr:only-child th {\n",
       "        text-align: right;\n",
       "    }\n",
       "\n",
       "    .dataframe thead th {\n",
       "        text-align: left;\n",
       "    }\n",
       "\n",
       "    .dataframe tbody tr th {\n",
       "        vertical-align: top;\n",
       "    }\n",
       "</style>\n",
       "<table border=\"1\" class=\"dataframe\">\n",
       "  <thead>\n",
       "    <tr style=\"text-align: right;\">\n",
       "      <th></th>\n",
       "      <th>precision test</th>\n",
       "      <th>precision train</th>\n",
       "      <th>recall test</th>\n",
       "      <th>recall train</th>\n",
       "      <th>f1-score test</th>\n",
       "      <th>f1-score train</th>\n",
       "      <th>PR-score test</th>\n",
       "      <th>PR-score train</th>\n",
       "      <th>ROC AUC test</th>\n",
       "      <th>ROC AUC train</th>\n",
       "    </tr>\n",
       "  </thead>\n",
       "  <tbody>\n",
       "    <tr>\n",
       "      <th>final model</th>\n",
       "      <td>0.817431</td>\n",
       "      <td>0.916082</td>\n",
       "      <td>0.679983</td>\n",
       "      <td>0.776985</td>\n",
       "      <td>0.742204</td>\n",
       "      <td>0.840811</td>\n",
       "      <td>0.875998</td>\n",
       "      <td>0.943659</td>\n",
       "      <td>0.851912</td>\n",
       "      <td>0.932265</td>\n",
       "    </tr>\n",
       "  </tbody>\n",
       "</table>\n",
       "</div>"
      ],
      "text/plain": [
       "            precision test precision train recall test recall train  \\\n",
       "final model       0.817431        0.916082    0.679983     0.776985   \n",
       "\n",
       "            f1-score test f1-score train PR-score test PR-score train  \\\n",
       "final model      0.742204       0.840811      0.875998       0.943659   \n",
       "\n",
       "            ROC AUC test ROC AUC train  \n",
       "final model     0.851912      0.932265  "
      ]
     },
     "execution_count": 118,
     "metadata": {},
     "output_type": "execute_result"
    }
   ],
   "source": [
    "scores_cv"
   ]
  },
  {
   "cell_type": "code",
   "execution_count": 120,
   "metadata": {},
   "outputs": [
    {
     "data": {
      "text/html": [
       "<div>\n",
       "<style>\n",
       "    .dataframe thead tr:only-child th {\n",
       "        text-align: right;\n",
       "    }\n",
       "\n",
       "    .dataframe thead th {\n",
       "        text-align: left;\n",
       "    }\n",
       "\n",
       "    .dataframe tbody tr th {\n",
       "        vertical-align: top;\n",
       "    }\n",
       "</style>\n",
       "<table border=\"1\" class=\"dataframe\">\n",
       "  <thead>\n",
       "    <tr style=\"text-align: right;\">\n",
       "      <th></th>\n",
       "      <th>precision</th>\n",
       "      <th>recall</th>\n",
       "      <th>f1-score</th>\n",
       "      <th>PR-score</th>\n",
       "      <th>ROC AUC</th>\n",
       "    </tr>\n",
       "  </thead>\n",
       "  <tbody>\n",
       "    <tr>\n",
       "      <th>final model</th>\n",
       "      <td>0.793103</td>\n",
       "      <td>0.618487</td>\n",
       "      <td>0.694995</td>\n",
       "      <td>0.861226</td>\n",
       "      <td>0.836487</td>\n",
       "    </tr>\n",
       "  </tbody>\n",
       "</table>\n",
       "</div>"
      ],
      "text/plain": [
       "            precision    recall  f1-score  PR-score   ROC AUC\n",
       "final model  0.793103  0.618487  0.694995  0.861226  0.836487"
      ]
     },
     "execution_count": 120,
     "metadata": {},
     "output_type": "execute_result"
    }
   ],
   "source": [
    "scores_train"
   ]
  },
  {
   "cell_type": "code",
   "execution_count": 121,
   "metadata": {
    "collapsed": true
   },
   "outputs": [],
   "source": [
    "y_pred = gbc.predict_proba(X_resampled_LE)[:, 1]"
   ]
  },
  {
   "cell_type": "code",
   "execution_count": 122,
   "metadata": {},
   "outputs": [],
   "source": [
    "results_gbc = pd.DataFrame(y_pred, columns = ['result'])\n",
    "results_gbc.index.name = 'Id'\n",
    "results_gbc.to_csv('week6.csv')"
   ]
  },
  {
   "cell_type": "markdown",
   "metadata": {},
   "source": [
    "## 2. Оценка экономического эффекта"
   ]
  },
  {
   "cell_type": "markdown",
   "metadata": {},
   "source": [
    "Постройте простую экономическую модель для оценки эффекта от внедрения полученного решения на практике.\n",
    "\n",
    "Например, введите следующие параметры:\n",
    "\n",
    "* сколько денег в среднем приносит один пользователь в месяц;\n",
    "* сколько денег в среднем вы будете вкладывать в удержание одного пользователя;\n",
    "* с какой вероятностью пользователь примет ваше предложение;\n",
    "* сколько пользователей (например, топ 1% или топ 25% согласно ранжированию по вашей модели) будет участвовать в кампании.\n"
   ]
  },
  {
   "cell_type": "markdown",
   "metadata": {},
   "source": [
    "1) Введите еще несколько параметров и на их основе постройте простую экономическую модель: формулу по которой в зависимости от значения исходных параметров вы сможете рассчитать экономический эффект от проведения кампании (= сколько денег вы получили (или наоборот потеряли) от проведения кампании по удержанию) с использование вашей модели."
   ]
  },
  {
   "cell_type": "markdown",
   "metadata": {},
   "source": [
    "* $ AGU_{28} $ - (28-days average gross per user) столько денег в среднем приносит один пользователь в месяц;\n",
    "* $ ARCU$ - (28-days average retention costs per user) сколько денег в среднем вкладывается в удержание одного пользователя;\n",
    "* $p$ - (probability of acceptance) вероятность принятия пользователем предложения;\n",
    "* $CICF$ - (costumers involved in campaign fraction) - доля TOP пользователей,  отнесенных алгоритмом к классу \"отток\" и участвующих в кампании по удержанию. $CICF$ - порог модели (threshold), выше - класс \"отток\", ниже - \"не отток\""
   ]
  },
  {
   "cell_type": "markdown",
   "metadata": {},
   "source": [
    "Экономическим эффектом будем считать разницу дохода в случае проведения кампании и дохода, который был бы получен без проведения кампании. \n",
    "\n",
    "Для оценки эффекта разобъем пользователей на 4 группы:\n",
    "* $TP$ (true positive) - те пользователи, которых модель отнесла к классу \"отток\" и которые действительно собираются уходить; \n",
    "* $FP$ (false positive) - те пользователи, которых модель отнесла к классу \"отток\", но которые на самом деле **не собираются уходить**; \n",
    "* $TN$ (true negative) - те пользователи, которых модель отнесла к классу \"не отток\" и которые действительно не собираются уходить;\n",
    "* $FN$ (false negative) - те пользователи, которых модель отнесла к классу \"не отток\", но которые в действительности **собираются уходить**\n",
    "\n",
    "$TP$, $FP$, $TN$ и $FN$ зависят от $CICF$ "
   ]
  },
  {
   "cell_type": "markdown",
   "metadata": {},
   "source": [
    "Рассчитаем экономический эффект для каждой из 4 групп.\n",
    "\n",
    "** TP **\n",
    "\n",
    "* Без проведения кампании они уйдут и принесут убыток: $-TP \\cdot AGU_{28}$\n",
    "* С проведением кампании: $p \\cdot TP \\cdot (AGU_{28} - ARCU) - (1-p)\\cdot TP \\cdot AGU_{28} $\n",
    "* Итого: $p \\cdot TP \\cdot (AGU_{28} - ARCU) - (1-p)\\cdot TP \\cdot ARCU +TP \\cdot AGU_{28} = 2p \\cdot TP \\cdot AGU_{28} -TP \\cdot AGU_{28} - p\\cdot TP \\cdot ARCU$\n",
    "\n",
    "** FP **\n",
    "\n",
    "* Без проведения кампании они все равно останутся и принесут доход: $FP \\cdot AGU_{28}$\n",
    "* С проведением кампании: $(1-p) \\cdot FP \\cdot AGU_{28} -  p \\cdot FP \\cdot ARCU$\n",
    "* Итого: $FP \\cdot AGU_{28} -  p \\cdot FP \\cdot ARCU - FP \\cdot AGU_{28} =-  p \\cdot FP \\cdot ARCU $\n",
    "\n",
    "** TN **\n",
    "\n",
    "* Без проведения кампании они все равно останутся и принесут доход: $TN \\cdot AGU_{28}$\n",
    "* С проведением кампании тоже останутся : $TN \\cdot AGU_{28}$\n",
    "* Итого: $TN \\cdot AGU_{28} - TN \\cdot AGU_{28} = 0 $\n",
    "\n",
    "** FN **\n",
    "\n",
    "* Без проведения кампании они все равно уйдут и принесут убыток: $ -FN \\cdot AGU_{28}$\n",
    "* С проведением кампании тоже уйдут и принесут убыток:: $ -FN \\cdot AGU_{28}$\n",
    "* Итого: $-FN \\cdot AGU_{28} - (-FN \\cdot AGU_{28}) = 0 $"
   ]
  },
  {
   "cell_type": "markdown",
   "metadata": {},
   "source": [
    "Учтем ограниченность бюджета кампании TB:\n",
    "\n",
    "$$ (TP+FP) \\cdot ARCU \\leqslant TB $$"
   ]
  },
  {
   "cell_type": "markdown",
   "metadata": {},
   "source": [
    "** Итоговые формулы для максимизации экономического эффекта** TE (total effect) выглядят следующим образом:\n",
    "\n",
    "$$TE = 2p \\cdot TP \\cdot AGU_{28} - p\\cdot TP \\cdot ARCU -  p \\cdot FP \\cdot ARCU   \\rightarrow max~(1) $$\n",
    "\n",
    "$$ p \\cdot (TP+FP) \\cdot ARCU \\leqslant TB~(2)$$"
   ]
  },
  {
   "cell_type": "markdown",
   "metadata": {},
   "source": [
    "2) Исходя из введенных параметров проанализируйте, какой топ пользователей, склонных к оттоку согласно модели, оптимально выбрать для проведения кампании по удержанию для таким образом, чтобы экономический эффект был наибольшим?"
   ]
  },
  {
   "cell_type": "code",
   "execution_count": 372,
   "metadata": {},
   "outputs": [],
   "source": [
    "def is_less_than_tb(TP, FP, ARCU, p, TB):\n",
    "    return p*(TP + FP)*ARCU <= TB\n",
    "\n",
    "\n",
    "def total_effect(AGU_28, ARCU, p, CICF, TB):\n",
    "    \n",
    "    threshold = np.percentile(y_pred, 100 - CICF, axis=None)\n",
    "    is_involved = (y_pred > threshold).astype(int)\n",
    "    \n",
    "    TP = ((y_resampled_LE == 1) & (is_involved == 1)).sum()\n",
    "    FP = ((y_resampled_LE == -1) & (is_involved == 1)).sum()\n",
    " \n",
    "    if not is_less_than_tb(TP, FP, ARCU, p, TB):\n",
    "        return None\n",
    "    \n",
    "    return 2*p*TP*AGU_28 - p*TP*ARCU - p*FP*ARCU\n",
    "\n",
    "def plot_total_effect(AGU_28, ARCU, p, TB, label_type=None):\n",
    "    c = np.linspace(0, 100, 200)\n",
    "    TE = []\n",
    "    for each_cicf in c:\n",
    "        tot_eff = total_effect(AGU_28, ARCU, p, each_cicf, TB)\n",
    "        if tot_eff is None:\n",
    "            continue\n",
    "        TE.append((each_cicf, tot_eff))\n",
    "\n",
    "    xs, ys = zip(*TE)\n",
    "    \n",
    "    if label_type=='AGU_28':\n",
    "        label=f'AGU_28={AGU_28}'\n",
    "    elif label_type=='ARCU':\n",
    "        label=f'ARCU={ARCU}'\n",
    "    elif label_type=='p':\n",
    "        label=f'p={p}'\n",
    "    elif label_type=='TB':\n",
    "        label=f'TB={TB}'\n",
    "    else:\n",
    "        label=f'AGU_28={AGU_28}, ARCU={ARCU}, p={p}, TB={TB}'\n",
    "        \n",
    "    \n",
    "    plt.plot(xs, ys, label=label)\n",
    "    \n",
    "    plt.title('Total effect (CICF)')\n",
    "    plt.ylabel('Total effect')\n",
    "    plt.xlabel(\"CICF\")\n",
    "\n",
    "    CICF = round(xs[np.argmax(np.array(ys))], 2)\n",
    "    effect = int(np.array(ys).max())\n",
    "    \n",
    "    print(f'AGU_28={AGU_28}, ARCU={ARCU}, p={round(p, 4)}, TB={TB}')\n",
    "    print(f'The max total effect={effect}, with CICF={CICF}%')\n",
    "    \n",
    "    return (xs[np.argmax(np.array(ys))], np.array(ys).max())"
   ]
  },
  {
   "cell_type": "code",
   "execution_count": 373,
   "metadata": {},
   "outputs": [
    {
     "name": "stdout",
     "output_type": "stream",
     "text": [
      "AGU_28=300, ARCU=125, p=0.2, TB=200000\n",
      "The max total effect=232105, with CICF=69.35%\n"
     ]
    },
    {
     "data": {
      "image/png": "[encoded data removed]",
      "text/plain": [
       "<matplotlib.figure.Figure at 0x7f802aa56f98>"
      ]
     },
     "metadata": {},
     "output_type": "display_data"
    }
   ],
   "source": [
    "AGU_28 = 300\n",
    "ARCU = 125\n",
    "p = 0.2\n",
    "TB = 200000\n",
    "\n",
    "plot_total_effect(AGU_28, ARCU, p, TB)\n",
    "\n",
    "plt.grid()\n",
    "plt.legend(loc=\"best\")\n",
    "plt.show()"
   ]
  },
  {
   "cell_type": "markdown",
   "metadata": {},
   "source": [
    "При $AGU_{28} = 300$, $ARCU = 125$, $p = 0.2$, $TB = 200000$ для максимизации экономического эффекта необходимо взять ТОП $CICF=70\\%$"
   ]
  },
  {
   "cell_type": "markdown",
   "metadata": {},
   "source": [
    "3) Попробуйте усложнить экономическую модель. Добавьте еще несколько параметров и поиграйте с ними (например, измените стоимость удержания и вероятность, с которой пользователь принимает предложение), проанализируйте как меняется оптимальный размер топа?"
   ]
  },
  {
   "cell_type": "markdown",
   "metadata": {},
   "source": [
    "Попробуем учесть, что желание принять предложение будет расти с увеличением стоимости удержания:\n",
    "\n",
    "$$ p(\\alpha) = \\begin{cases} e^{\\alpha \\cdot \\frac{ARCU}{100 \\cdot AGU_{28}}-1}, & ARCU \\leqslant AGU_{28} \\\\ 1, & ARCU > AGU_{28} \\end{cases} (3)$$"
   ]
  },
  {
   "cell_type": "code",
   "execution_count": 381,
   "metadata": {},
   "outputs": [],
   "source": [
    "import math\n",
    "\n",
    "def p_alpha(AGU_28, ARCU, alpha):\n",
    "    if ARCU>AGU_28:\n",
    "        return 1.\n",
    "    else:\n",
    "        return math.exp(float(alpha*ARCU)/(100.*AGU_28) - 1.)"
   ]
  },
  {
   "cell_type": "code",
   "execution_count": 384,
   "metadata": {},
   "outputs": [
    {
     "name": "stdout",
     "output_type": "stream",
     "text": [
      "AGU_28=300, ARCU=100, p=0.3679, TB=200000\n",
      "The max total effect=465923, with CICF=79.4%\n",
      "AGU_28=300, ARCU=125, p=0.368, TB=200000\n",
      "The max total effect=427022, with CICF=69.35%\n",
      "AGU_28=300, ARCU=150, p=0.368, TB=200000\n",
      "The max total effect=388853, with CICF=60.8%\n",
      "AGU_28=300, ARCU=175, p=0.368, TB=200000\n",
      "The max total effect=349596, with CICF=51.76%\n",
      "AGU_28=300, ARCU=200, p=0.368, TB=200000\n",
      "The max total effect=313464, with CICF=45.23%\n",
      "AGU_28=300, ARCU=225, p=0.368, TB=200000\n",
      "The max total effect=276592, with CICF=40.2%\n"
     ]
    },
    {
     "data": {
      "image/png": "[encoded data removed]",
      "text/plain": [
       "<matplotlib.figure.Figure at 0x7f8056a627b8>"
      ]
     },
     "metadata": {},
     "output_type": "display_data"
    }
   ],
   "source": [
    "AGU_28 = 300\n",
    "ARCU = [100, 125, 150, 175, 200, 225]\n",
    "alpha=0.05\n",
    "p = [p_alpha(AGU_28, each_arcu, alpha) for each_arcu in ARCU]\n",
    "TB = 200000\n",
    "\n",
    "for each_arcu, each_p in zip(ARCU, p):\n",
    "    plot_total_effect(AGU_28, each_arcu, each_p, TB, 'ARCU')\n",
    "plt.grid()\n",
    "plt.legend(loc=\"best\")\n",
    "plt.show()"
   ]
  },
  {
   "cell_type": "markdown",
   "metadata": {},
   "source": [
    "С увеличением стоимости стоимости $ARCU$ удержания ТОП $CICF$ уменьшается"
   ]
  },
  {
   "cell_type": "code",
   "execution_count": 385,
   "metadata": {},
   "outputs": [
    {
     "name": "stdout",
     "output_type": "stream",
     "text": [
      "AGU_28=300, ARCU=100, p=0.2, TB=200000\n",
      "The max total effect=253260, with CICF=79.4%\n",
      "AGU_28=300, ARCU=125, p=0.2, TB=200000\n",
      "The max total effect=232105, with CICF=69.35%\n",
      "AGU_28=300, ARCU=150, p=0.2, TB=200000\n",
      "The max total effect=212520, with CICF=64.32%\n",
      "AGU_28=300, ARCU=175, p=0.2, TB=200000\n",
      "The max total effect=193765, with CICF=61.31%\n",
      "AGU_28=300, ARCU=200, p=0.2, TB=200000\n",
      "The max total effect=176080, with CICF=55.28%\n",
      "AGU_28=300, ARCU=225, p=0.2, TB=200000\n",
      "The max total effect=159960, with CICF=53.77%\n"
     ]
    },
    {
     "data": {
      "image/png": "[encoded data removed]",
      "text/plain": [
       "<matplotlib.figure.Figure at 0x7f8048c20400>"
      ]
     },
     "metadata": {},
     "output_type": "display_data"
    }
   ],
   "source": [
    "AGU_28 = 300\n",
    "ARCU = [100, 125, 150, 175, 200, 225]\n",
    "p = 0.2\n",
    "TB = 200000\n",
    "\n",
    "for each_arcu in ARCU:\n",
    "    plot_total_effect(AGU_28, each_arcu, p, TB, label_type='ARCU')\n",
    "plt.grid()\n",
    "plt.legend(loc=\"best\")\n",
    "plt.show()"
   ]
  },
  {
   "cell_type": "markdown",
   "metadata": {},
   "source": [
    "С увеличением стоимости стоимости $ARCU$ удержания ТОП $CICF$ уменьшается"
   ]
  },
  {
   "cell_type": "code",
   "execution_count": 405,
   "metadata": {},
   "outputs": [
    {
     "name": "stdout",
     "output_type": "stream",
     "text": [
      "AGU_28=200, ARCU=100, p=0.2, TB=200000\n",
      "The max total effect=141680, with CICF=64.32%\n",
      "AGU_28=225, ARCU=100, p=0.2, TB=200000\n",
      "The max total effect=168960, with CICF=64.32%\n",
      "AGU_28=250, ARCU=100, p=0.2, TB=200000\n",
      "The max total effect=196860, with CICF=69.35%\n",
      "AGU_28=300, ARCU=100, p=0.2, TB=200000\n",
      "The max total effect=253260, with CICF=79.4%\n",
      "AGU_28=325, ARCU=100, p=0.2, TB=200000\n",
      "The max total effect=282240, with CICF=79.4%\n",
      "AGU_28=350, ARCU=100, p=0.2, TB=200000\n",
      "The max total effect=311220, with CICF=79.4%\n"
     ]
    },
    {
     "data": {
      "image/png": "[encoded data removed]",
      "text/plain": [
       "<matplotlib.figure.Figure at 0x7f805c7673c8>"
      ]
     },
     "metadata": {},
     "output_type": "display_data"
    }
   ],
   "source": [
    "AGU_28 = [200, 225, 250, 300, 325, 350]\n",
    "ARCU = 100\n",
    "p = 0.2\n",
    "TB = 200000\n",
    "\n",
    "for each_agu in AGU_28:\n",
    "    plot_total_effect(each_agu, ARCU, p, TB, label_type='AGU_28')\n",
    "plt.grid()\n",
    "plt.legend(loc=\"best\")\n",
    "plt.show()"
   ]
  },
  {
   "cell_type": "markdown",
   "metadata": {},
   "source": [
    "С увеличением дохода, приносимого одним пользователем в месяц, $AGU_{28}$ ТОП $CICF$ увеличивается"
   ]
  },
  {
   "cell_type": "code",
   "execution_count": 387,
   "metadata": {},
   "outputs": [
    {
     "name": "stdout",
     "output_type": "stream",
     "text": [
      "AGU_28=300, ARCU=100, p=0.05, TB=200000\n",
      "The max total effect=63315, with CICF=79.4%\n",
      "AGU_28=300, ARCU=100, p=0.1, TB=200000\n",
      "The max total effect=126630, with CICF=79.4%\n",
      "AGU_28=300, ARCU=100, p=0.15, TB=200000\n",
      "The max total effect=189945, with CICF=79.4%\n",
      "AGU_28=300, ARCU=100, p=0.2, TB=200000\n",
      "The max total effect=253260, with CICF=79.4%\n",
      "AGU_28=300, ARCU=100, p=0.25, TB=200000\n",
      "The max total effect=316575, with CICF=79.4%\n",
      "AGU_28=300, ARCU=100, p=0.3, TB=200000\n",
      "The max total effect=379890, with CICF=79.4%\n",
      "AGU_28=300, ARCU=100, p=0.35, TB=200000\n",
      "The max total effect=443205, with CICF=79.4%\n"
     ]
    },
    {
     "data": {
      "image/png": "[encoded data removed]",
      "text/plain": [
       "<matplotlib.figure.Figure at 0x7f802a996710>"
      ]
     },
     "metadata": {},
     "output_type": "display_data"
    }
   ],
   "source": [
    "AGU_28 = 300\n",
    "ARCU = 100\n",
    "p = [0.05, 0.1, 0.15, 0.2, 0.25, 0.3, 0.35]\n",
    "TB = 200000\n",
    "\n",
    "for each_p in p:\n",
    "    plot_total_effect(AGU_28, ARCU, each_p, TB, label_type='p')\n",
    "plt.grid()\n",
    "plt.legend(loc=\"best\")\n",
    "plt.show()"
   ]
  },
  {
   "cell_type": "markdown",
   "metadata": {},
   "source": [
    "С изменением вероятности принятия предложения $p$ ТОП $CICF$ не меняется"
   ]
  },
  {
   "cell_type": "markdown",
   "metadata": {},
   "source": [
    "4) Всегда ли применение модели экономически оправданно? Приведите пример набора значений параметров, при которых применение модели перестает быть оправданным."
   ]
  },
  {
   "cell_type": "markdown",
   "metadata": {
    "collapsed": true
   },
   "source": [
    "Модель экономически оправдана, пока эффект неотрицателен, то есть:\n",
    "\n",
    "$$TE = 2p \\cdot TP \\cdot AGU_{28} - p\\cdot TP \\cdot ARCU -  p \\cdot FP \\cdot ARCU  \\geqslant 0 \\mbox{ (4)}$$\n",
    "\n",
    "$$ p \\cdot (2 \\cdot TP \\cdot AGU_{28} -  TP \\cdot ARCU - FP \\cdot ARCU)  \\geqslant 0 \\mbox{ (5)}$$"
   ]
  },
  {
   "cell_type": "markdown",
   "metadata": {},
   "source": [
    "Учтём, что $p>0$\n",
    "\n",
    "$$ 2 \\cdot TP \\cdot AGU_{28} -  ARCU \\cdot (TP + FP)  \\geqslant 0 \\mbox{ (6)}$$\n",
    "\n",
    "$TP + FP > 0$, откуда получим, что:\n",
    "\n",
    "$$ \\frac{TP}{TP + FP} \\geqslant \\frac{ARCU}{2 \\cdot AGU_{28}} \\mbox{ (7)}$$\n",
    "\n",
    "В левой части (7) стоит точность. Таким образом, экономическая модель опрадана, если точность модели удовлетворяет соотношению:\n",
    "\n",
    "$$ precision \\geqslant \\frac{ARCU}{2 \\cdot AGU_{28}} \\mbox{ (8)}$$\n",
    "\n",
    "Или, что равносильно, траты на удержание одного пользователя удовлетворяют неравенству:\n",
    "\n",
    "$$ ARCU \\leqslant 2 \\cdot AGU_{28} \\cdot precision \\mbox{ (9)}$$"
   ]
  },
  {
   "cell_type": "markdown",
   "metadata": {},
   "source": [
    "* Например, если точность модели $p=0.7$ средний доход на одного пользователя в месяц $AGU_{28} = 200$, то модель перестаёт быть экономически оправданной при тратах на удержание $ARCU > 280$;\n",
    "\n",
    "* Также надо учитывать то, что иногда эффект от удержания может быть меньше, чем от привлечения новых пользователей с учётом месячной конверсии. В данной модели стоимость привлечения не учитывалась."
   ]
  },
  {
   "cell_type": "markdown",
   "metadata": {},
   "source": [
    "5) Оцените изменение экономического эффекта от проведения кампании по удержанию при увеличении качества модели на 1%? На 3%? При ответе на вопрос укажите, по какой метрике вы оцениваете качество.\n"
   ]
  },
  {
   "cell_type": "markdown",
   "metadata": {
    "collapsed": true
   },
   "source": [
    "Перепишем (1) и (4) в следующем виде:\n",
    "\n",
    "$$TE(precision) = 2 \\cdot p \\cdot AGU_{28} \\cdot precision - p \\cdot ARCU \\mbox{ (10)}$$\n",
    "\n",
    "Или в приращениях:\n",
    "\n",
    "$$\\Delta TE(\\Delta precision) = 2 \\cdot p \\cdot AGU_{28} \\cdot \\Delta precision \\mbox{ (11)}$$\n",
    "\n",
    "Исходя из (11), получается, что улучшение точности модели на 1% и на 3% увеличит экономический эффект на 1% и на 3% соответственно."
   ]
  },
  {
   "cell_type": "markdown",
   "metadata": {},
   "source": [
    "6) Как вы думаете, является ли экономически оправданным вложение средств в улучшение качества модели? На сколько нужно улучшить модель, чтобы это качественно сказалось на экономическом эффекте от удержания?"
   ]
  },
  {
   "cell_type": "markdown",
   "metadata": {
    "collapsed": true
   },
   "source": [
    "* Улучшение модели оправдано до тех пор, пока увеличение экономического эффекта $\\Delta TE$ не меньше, чем траты на улучшение модели на $\\beta$  п.п.  $MIC(\\beta)$ (model improvement costs):\n",
    "\n",
    "$$ \\Delta TE \\geqslant MIC(\\beta) \\mbox{ (12)}$$\n",
    "\n",
    "* Качественным улучшением будем считать такое улучшение, при котором приращение эффекта за вычетом затрат на улучшение выше заданного порога $\\gamma$, например, в $\\gamma = 10\\%$:\n",
    "\n",
    "$$ \\frac{\\Delta TE - MIC(\\beta)}{TE_{0}} \\geqslant \\gamma = 0.1 \\mbox{ (13)}$$\n",
    "\n",
    "* В (13) порог качественного улучшения $\\gamma$ задаётся в зависимости от конкретных целевых показателей и поставленных задач. Исходя из заданного $\\gamma$, соотношения (13) и характера зависимости $MIC(\\beta)$, можно найти конкретное значение приращения точности модели, которое качественно улучшит модель."
   ]
  }
 ],
 "metadata": {
  "kernelspec": {
   "display_name": "Python 3",
   "language": "python",
   "name": "python3"
  },
  "language_info": {
   "codemirror_mode": {
    "name": "ipython",
    "version": 3
   },
   "file_extension": ".py",
   "mimetype": "text/x-python",
   "name": "python",
   "nbconvert_exporter": "python",
   "pygments_lexer": "ipython3",
   "version": "3.6.3"
  }
 },
 "nbformat": 4,
 "nbformat_minor": 2
}

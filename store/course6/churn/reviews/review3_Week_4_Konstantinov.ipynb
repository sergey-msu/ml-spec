{
 "cells": [
  {
   "cell_type": "code",
   "execution_count": 1,
   "metadata": {
    "collapsed": true
   },
   "outputs": [],
   "source": [
    "import pandas as pd\n",
    "import numpy as np\n",
    "\n",
    "from scipy import stats as ss\n",
    "from scipy.sparse import csr_matrix, hstack\n",
    "\n",
    "from sklearn.model_selection import train_test_split"
   ]
  },
  {
   "cell_type": "code",
   "execution_count": 2,
   "metadata": {
    "collapsed": true
   },
   "outputs": [],
   "source": [
    "from sklearn.ensemble import GradientBoostingClassifier, RandomForestClassifier\n",
    "from sklearn.linear_model import RidgeClassifier, SGDClassifier, LogisticRegression\n",
    "\n",
    "from sklearn.preprocessing import LabelEncoder, OneHotEncoder, LabelBinarizer\n",
    "from sklearn.decomposition import PCA\n",
    "\n",
    "from sklearn.model_selection import StratifiedKFold, cross_validate\n",
    "from sklearn.metrics import average_precision_score, precision_recall_fscore_support, roc_auc_score"
   ]
  },
  {
   "cell_type": "code",
   "execution_count": 3,
   "metadata": {
    "collapsed": true
   },
   "outputs": [],
   "source": [
    "from imblearn.over_sampling import RandomOverSampler\n",
    "from imblearn.under_sampling import ClusterCentroids\n",
    "from collections import Counter, defaultdict"
   ]
  },
  {
   "cell_type": "markdown",
   "metadata": {},
   "source": [
    "## 1. Функция обработки данных"
   ]
  },
  {
   "cell_type": "code",
   "execution_count": 19,
   "metadata": {
    "collapsed": true
   },
   "outputs": [],
   "source": [
    "# Функция для преобразования данных\n",
    "# num_cols - числовые признаки, которые будут использоваться\n",
    "# cat_cols - категориальные признаки, которые будут использоваться\n",
    "# опции: is_PCA - применение метода главныых компонент, is_OHE - One Hot Encoding, \n",
    "# is_OverSampling - Over Sampling\n",
    "# По умолчанию используется все признаки, все опции выключены.\n",
    "# Для обработки категориальных данных по умолчанию используется только Label Encoder\n",
    "\n",
    "def transform_data(data, y=None, num_cols=None, cat_cols=None, is_PCA=False, is_OHE=False, is_OverSampling=False):\n",
    "    \n",
    "    to_return = {}\n",
    "    \n",
    "    num_interval = (0, 190)\n",
    "    cat_interval = (191, data.shape[1])\n",
    "    \n",
    "    \n",
    "    data, num_interval, cat_interval = drop_null_cols(data, num_interval, cat_interval)\n",
    "    \n",
    "    data_num, data_cat = split_num_cat(data, num_interval)\n",
    "    \n",
    "    if num_cols:\n",
    "        data_num = data[num_cols]\n",
    "    if cat_cols:\n",
    "        data_cat = data[cat_cols]\n",
    "    \n",
    "    print('Processing the numeric columns...')\n",
    "    data_num = data_num_processing(data_num)\n",
    "    \n",
    "    if is_PCA:\n",
    "        data_num = data_num_PCA(data_num)\n",
    "        \n",
    "    print('Processing the categorical columns...')\n",
    "    data_cat = data_cat_fill_nan(data_cat)\n",
    "    \n",
    "    data_cat = data_cat_LE(data_cat)\n",
    "    \n",
    "    if is_OHE:    \n",
    "        data_cat = data_cat_OHE(data_cat)\n",
    "        \n",
    "    data_result = data_join(data_num, data_cat, is_OHE=is_OHE)\n",
    "    \n",
    "    if is_OverSampling:\n",
    "        data_result, to_return['y'] = data_OverSampling(data_result, y)\n",
    "    \n",
    "    to_return['X'] = data_result\n",
    "    to_return['num_interval'] = num_interval\n",
    "    to_return['cat_interval'] = cat_interval\n",
    "        \n",
    "    print('Done!')\n",
    "    \n",
    "    return to_return"
   ]
  },
  {
   "cell_type": "code",
   "execution_count": 5,
   "metadata": {
    "collapsed": true
   },
   "outputs": [],
   "source": [
    "# Функция удаления пустых колонок\n",
    "\n",
    "def drop_null_cols(data, num_interval, cat_interval):\n",
    "    \n",
    "    print('Dropping the null columns...')\n",
    "    dropped_num = []\n",
    "    dropped_cat = []\n",
    "    \n",
    "    for idx, each_col in enumerate(data.columns):\n",
    "        if len(data[pd.isnull(data[each_col])==True])==data.shape[0]:\n",
    "            if idx > 190:\n",
    "                dropped_cat.append(each_col)\n",
    "            else:\n",
    "                dropped_num.append(each_col)\n",
    "                \n",
    "    for each_col in dropped_num:\n",
    "        data.drop(each_col,axis = 1,inplace = True)\n",
    "        print(\"Dropped num-type column: {0}\".format(each_col))\n",
    "    \n",
    "    for each_col in dropped_cat:\n",
    "        data.drop(each_col,axis = 1,inplace = True)\n",
    "        print(\"Dropped cal-type column: {0}\".format(each_col))\n",
    "    \n",
    "    max_num = 190 - len(dropped_num)\n",
    "    \n",
    "    print(\"Dropped {0} num-type cols and {1} cat-types cols\".format(len(dropped_num), len(dropped_cat)))\n",
    "    print(\"Num-type feature have the indices from {0} up to {1}.\".format(0, max_num))\n",
    "    print(\"Cal-type feature have the indices from {0} up to {1}.\".format(max_num+1, data.shape[1]))\n",
    "    \n",
    "    \n",
    "    return data, (0, max_num), (max_num+1, data.shape[1])"
   ]
  },
  {
   "cell_type": "code",
   "execution_count": 6,
   "metadata": {
    "collapsed": true
   },
   "outputs": [],
   "source": [
    "# Функция разделения числовых и категориальных признаков\n",
    "\n",
    "def split_num_cat(data, num_interval):\n",
    "    print('Splitting the numeric and categorical columns...')\n",
    "    data_num, data_cat = np.split(data, [num_interval[1]], axis=1)\n",
    "    return data_num, data_cat"
   ]
  },
  {
   "cell_type": "code",
   "execution_count": 7,
   "metadata": {
    "collapsed": true
   },
   "outputs": [],
   "source": [
    "# Функция обработки числовых данных: заполнение пустых значений матожиданием\n",
    "# и нормировка по каждому из признаков\n",
    "\n",
    "def data_num_processing(data_num):\n",
    "    print('Filling the absent values with the columns\\' means...')\n",
    "    data_num_transformed = data_num.fillna(data_num.mean())\n",
    "    \n",
    "    print('Normalizing the data...')\n",
    "    for each_col in data_num_transformed.columns:\n",
    "        if data_num_transformed[each_col].std():\n",
    "            data_num_transformed[each_col]=(data_num_transformed[each_col]-data_num_transformed[each_col].mean()) / float(data_num_transformed[each_col].std())\n",
    "        else:\n",
    "            data_num_transformed[each_col]=data_num_transformed[each_col]-data_num_transformed[each_col].mean()\n",
    "    \n",
    "    return data_num_transformed"
   ]
  },
  {
   "cell_type": "code",
   "execution_count": 8,
   "metadata": {
    "collapsed": true
   },
   "outputs": [],
   "source": [
    "# Применение метода главных компонент к числовым признакам\n",
    "\n",
    "def data_num_PCA(data_num, n_components=20):\n",
    "    print('Appling a PCA to the numerical columns...')\n",
    "    pca = PCA(n_components=n_components)\n",
    "    data_PCA = pca.fit_transform(data_num)\n",
    "    return data_PCA"
   ]
  },
  {
   "cell_type": "code",
   "execution_count": 9,
   "metadata": {
    "collapsed": true
   },
   "outputs": [],
   "source": [
    "# Заполнение пустых ячеек категориальных признаков значением 'unknown'\n",
    "\n",
    "def data_cat_fill_nan(data_cat):\n",
    "    print('Filling the absent categorical values...')\n",
    "    data_cat_trasformed = data_cat.fillna('unknown')\n",
    "    return data_cat_trasformed"
   ]
  },
  {
   "cell_type": "code",
   "execution_count": 10,
   "metadata": {
    "collapsed": true
   },
   "outputs": [],
   "source": [
    "# Применение Label Encoder к категориальным данным\n",
    "\n",
    "def data_cat_LE(data_cat):\n",
    "    print('Applying a LabelEncoder to the categorical columns...')\n",
    "    \n",
    "    data_cat = data_cat.apply(lambda x: x.astype(str))\n",
    "    data_cat_transformed = data_cat.apply(lambda x: x.astype('category'))\n",
    "    \n",
    "    MyLabelEncoder = defaultdict(LabelEncoder)\n",
    "    data_cat_transformed = data_cat_transformed.apply(lambda x: MyLabelEncoder[x.name].fit_transform(x))\n",
    "    \n",
    "    return data_cat_transformed"
   ]
  },
  {
   "cell_type": "code",
   "execution_count": 11,
   "metadata": {
    "collapsed": true
   },
   "outputs": [],
   "source": [
    "# Применение One Hot Encoder к категориальным данным\n",
    "\n",
    "def data_cat_OHE(data_cat):\n",
    "    print('Applying a OneHotEncoder to categorical columns...')\n",
    "    data_cat_transformed = OneHotEncoder().fit_transform(data_cat)\n",
    "    return data_cat_transformed"
   ]
  },
  {
   "cell_type": "code",
   "execution_count": 12,
   "metadata": {
    "collapsed": true
   },
   "outputs": [],
   "source": [
    "# Соединение обработанных числовых и категориальных признаков после обработки\n",
    "# указание is_OHE необходимо, поскольку после без One Hot Encoder data_cat - dataframe, \n",
    "# без него - csr_matrix\n",
    "\n",
    "def data_join(data_num, data_cat, is_OHE):\n",
    "    print('Joining the numerical and categorical columns...')\n",
    "    if not is_OHE:\n",
    "        data_result = pd.concat([data_num, data_cat], axis=1, join_axes=[data_num.index])\n",
    "        data_result = csr_matrix(data_num)\n",
    "    else:\n",
    "        data_num_sparsed = csr_matrix(data_num)\n",
    "        data_result = hstack((data_num_sparsed, data_cat))\n",
    "    return data_result"
   ]
  },
  {
   "cell_type": "code",
   "execution_count": 13,
   "metadata": {
    "collapsed": true
   },
   "outputs": [],
   "source": [
    "# OverSampling\n",
    "# Применимо только если есть значения labels\n",
    "\n",
    "def data_OverSampling(data, labels):\n",
    "    print('OverSampling in progress...')\n",
    "    ros = RandomOverSampler(random_state=0)\n",
    "    X_num_cat_resampled, y_resampled = ros.fit_sample(data, labels['target'].ravel())\n",
    "    return X_num_cat_resampled, y_resampled"
   ]
  },
  {
   "cell_type": "code",
   "execution_count": 47,
   "metadata": {
    "collapsed": true
   },
   "outputs": [],
   "source": [
    "# Функция расчета метрик отложенной выборки\n",
    "\n",
    "def get_scores_hold_out(X_hold_out, y_hold_out, Classifier, configuration, scores):\n",
    "    \n",
    "    print('Calculating scores...')\n",
    "    \n",
    "    y_proba = Classifier.predict_proba(X_hold_out)[:, 1]\n",
    "    y_pred = Classifier.predict(X_hold_out)\n",
    "\n",
    "    results = precision_recall_fscore_support(y_hold_out, y_pred)\n",
    "    pr_scores = average_precision_score(y_hold_out, y_proba)\n",
    "    roc_auc_scores = roc_auc_score(y_hold_out, y_proba)\n",
    "    \n",
    "    scores.loc[configuration, 'precision'] = results[0][1]\n",
    "    scores.loc[configuration, 'recall'] = results[1][1]\n",
    "    scores.loc[configuration, 'f1-score'] = results[2][1]\n",
    "    \n",
    "    scores.loc[configuration, 'PR-score'] = pr_scores\n",
    "    scores.loc[configuration, 'ROC AUC'] = roc_auc_scores\n",
    "    \n",
    "    print('Done!')\n",
    "    return True"
   ]
  },
  {
   "cell_type": "code",
   "execution_count": 28,
   "metadata": {
    "collapsed": true
   },
   "outputs": [],
   "source": [
    "# Функция расчета метрик обучающей выборки\n",
    "\n",
    "def get_scores(X, y, Classifier, configuration, scores):\n",
    "    \n",
    "    skf = StratifiedKFold(n_splits=5, random_state=123)\n",
    "    skf.get_n_splits(X, y)\n",
    "    skf.split(X, y)\n",
    "    \n",
    "    print('Calculating scores...')\n",
    "    results = cross_validate(Classifier, X, y, cv=skf, scoring=['precision', 'recall', 'f1', 'average_precision', 'roc_auc'], return_train_score=True)\n",
    "    \n",
    "    scores.loc[configuration, 'precision test'] = results['test_precision'].mean()\n",
    "    scores.loc[configuration, 'precision train'] = results['train_precision'].mean()\n",
    "    scores.loc[configuration, 'recall test'] = results['test_recall'].mean()\n",
    "    scores.loc[configuration, 'recall train'] = results['train_recall'].mean()\n",
    "    scores.loc[configuration, 'f1-score test'] = results['test_f1'].mean()\n",
    "    scores.loc[configuration, 'f1-score train'] = results['train_f1'].mean()\n",
    "    scores.loc[configuration, 'PR-score test'] = results['test_average_precision'].mean()\n",
    "    scores.loc[configuration, 'PR-score train'] = results['train_average_precision'].mean()\n",
    "    scores.loc[configuration, 'ROC AUC test'] = results['test_roc_auc'].mean()\n",
    "    scores.loc[configuration, 'ROC AUC train'] = results['train_roc_auc'].mean()\n",
    "    \n",
    "    print('Done!')\n",
    "    return True"
   ]
  },
  {
   "cell_type": "markdown",
   "metadata": {
    "collapsed": true
   },
   "source": [
    "## 2. Оптимизация обработки данных и классификатора"
   ]
  },
  {
   "cell_type": "code",
   "execution_count": 16,
   "metadata": {
    "collapsed": true
   },
   "outputs": [],
   "source": [
    "# Датафреймы с метриками различных конфигураций обработки данных и классификатора\n",
    "# для обучающей и отложенной выборок\n",
    "\n",
    "scores = pd.DataFrame(columns = ['precision test', 'precision train', 'recall test', 'recall train', 'f1-score test', 'f1-score train','PR-score test','PR-score train', 'ROC AUC test', 'ROC AUC train'])\n",
    "scores_hold_out = pd.DataFrame(columns = ['precision', 'recall', 'f1-score', 'PR-score', 'ROC AUC'])"
   ]
  },
  {
   "cell_type": "code",
   "execution_count": 17,
   "metadata": {
    "collapsed": true
   },
   "outputs": [],
   "source": [
    "# Топ-20 числовых признаков по корреляции\n",
    "num_top_20 = ['Var188',\n",
    " 'Var130',\n",
    " 'Var189',\n",
    " 'Var114',\n",
    " 'Var73',\n",
    " 'Var111',\n",
    " 'Var126',\n",
    " 'Var7',\n",
    " 'Var177',\n",
    " 'Var168',\n",
    " 'Var139',\n",
    " 'Var53',\n",
    " 'Var142',\n",
    " 'Var92',\n",
    " 'Var144',\n",
    " 'Var147',\n",
    " 'Var69',\n",
    " 'Var136',\n",
    " 'Var110',\n",
    " 'Var51']\n",
    "\n",
    "# Топ-20 категориальных признаков по корреляции\n",
    "cat_top_20 = ['Var199',\n",
    " 'Var192',\n",
    " 'Var216',\n",
    " 'Var206',\n",
    " 'Var212',\n",
    " 'Var205',\n",
    " 'Var228',\n",
    " 'Var193',\n",
    " 'Var207',\n",
    " 'Var227',\n",
    " 'Var204',\n",
    " 'Var221',\n",
    " 'Var210',\n",
    " 'Var218',\n",
    " 'Var200',\n",
    " 'Var214',\n",
    " 'Var226',\n",
    " 'Var197',\n",
    " 'Var211',\n",
    " 'Var225']"
   ]
  },
  {
   "cell_type": "markdown",
   "metadata": {},
   "source": [
    "### 2.1 Label Enconding без отборка признаков"
   ]
  },
  {
   "cell_type": "code",
   "execution_count": 55,
   "metadata": {
    "collapsed": true,
    "scrolled": true
   },
   "outputs": [],
   "source": [
    "data = pd.read_csv('orange_small_churn_data.txt', header=0, sep=',')\n",
    "labels = pd.read_csv('orange_small_churn_labels.txt', header=None)\n",
    "labels.columns = ['target']\n",
    "labels = labels.apply(lambda x: x.astype(int))"
   ]
  },
  {
   "cell_type": "code",
   "execution_count": 56,
   "metadata": {
    "scrolled": true
   },
   "outputs": [
    {
     "name": "stdout",
     "output_type": "stream",
     "text": [
      "Dropping the null columns...\n",
      "Dropped num-type column: Var8\n",
      "Dropped num-type column: Var15\n",
      "Dropped num-type column: Var20\n",
      "Dropped num-type column: Var31\n",
      "Dropped num-type column: Var32\n",
      "Dropped num-type column: Var39\n",
      "Dropped num-type column: Var42\n",
      "Dropped num-type column: Var48\n",
      "Dropped num-type column: Var52\n",
      "Dropped num-type column: Var55\n",
      "Dropped num-type column: Var79\n",
      "Dropped num-type column: Var141\n",
      "Dropped num-type column: Var167\n",
      "Dropped num-type column: Var169\n",
      "Dropped num-type column: Var175\n",
      "Dropped num-type column: Var185\n",
      "Dropped cal-type column: Var209\n",
      "Dropped cal-type column: Var230\n",
      "Dropped 16 num-type cols and 2 cat-types cols\n",
      "Num-type feature have the indices from 0 up to 174.\n",
      "Cal-type feature have the indices from 175 up to 212.\n",
      "Splitting the numeric and categorical columns...\n",
      "Processing the numeric columns...\n",
      "Filling the absent values with the columns' means...\n",
      "Normalizing the data...\n",
      "Processing the categorical columns...\n",
      "Filling the absent categorical values...\n",
      "Applying a LabelEncoder to the categorical columns...\n",
      "Joining the numerical and categorical columns...\n",
      "Done!\n"
     ]
    }
   ],
   "source": [
    "data_transformed = transform_data(data=data)"
   ]
  },
  {
   "cell_type": "code",
   "execution_count": 57,
   "metadata": {},
   "outputs": [
    {
     "name": "stdout",
     "output_type": "stream",
     "text": [
      "0.8\n",
      "0.2\n",
      "0.8\n",
      "0.2\n"
     ]
    }
   ],
   "source": [
    "X_train, X_hold_out, y_train, y_hold_out = train_test_split(data_transformed['X'], \n",
    "                                                            labels, \n",
    "                                                            test_size=0.2, random_state=123, \n",
    "                                                            stratify=labels)\n",
    "print(X_train.shape[0]/float(data_transformed['X'].shape[0]))\n",
    "print(X_hold_out.shape[0]/float(data_transformed['X'].shape[0]))\n",
    "print(y_train.shape[0]/float(labels.shape[0]))\n",
    "print(y_hold_out.shape[0]/float(labels.shape[0]))"
   ]
  },
  {
   "cell_type": "code",
   "execution_count": 58,
   "metadata": {
    "collapsed": true
   },
   "outputs": [
    {
     "name": "stdout",
     "output_type": "stream",
     "text": [
      "Calculating scores...\n"
     ]
    },
    {
     "name": "stderr",
     "output_type": "stream",
     "text": [
      "/home/placetexperiri/anaconda2/envs/python3/lib/python3.6/site-packages/sklearn/utils/validation.py:578: DataConversionWarning: A column-vector y was passed when a 1d array was expected. Please change the shape of y to (n_samples, ), for example using ravel().\n",
      "  y = column_or_1d(y, warn=True)\n",
      "/home/placetexperiri/anaconda2/envs/python3/lib/python3.6/site-packages/sklearn/utils/validation.py:578: DataConversionWarning: A column-vector y was passed when a 1d array was expected. Please change the shape of y to (n_samples, ), for example using ravel().\n",
      "  y = column_or_1d(y, warn=True)\n",
      "/home/placetexperiri/anaconda2/envs/python3/lib/python3.6/site-packages/sklearn/utils/validation.py:578: DataConversionWarning: A column-vector y was passed when a 1d array was expected. Please change the shape of y to (n_samples, ), for example using ravel().\n",
      "  y = column_or_1d(y, warn=True)\n",
      "/home/placetexperiri/anaconda2/envs/python3/lib/python3.6/site-packages/sklearn/utils/validation.py:578: DataConversionWarning: A column-vector y was passed when a 1d array was expected. Please change the shape of y to (n_samples, ), for example using ravel().\n",
      "  y = column_or_1d(y, warn=True)\n",
      "/home/placetexperiri/anaconda2/envs/python3/lib/python3.6/site-packages/sklearn/utils/validation.py:578: DataConversionWarning: A column-vector y was passed when a 1d array was expected. Please change the shape of y to (n_samples, ), for example using ravel().\n",
      "  y = column_or_1d(y, warn=True)\n"
     ]
    },
    {
     "name": "stdout",
     "output_type": "stream",
     "text": [
      "Done!\n",
      "Calculating scores...\n",
      "Done!\n"
     ]
    },
    {
     "data": {
      "text/plain": [
       "True"
      ]
     },
     "execution_count": 58,
     "metadata": {},
     "output_type": "execute_result"
    }
   ],
   "source": [
    "gbc = GradientBoostingClassifier()\n",
    "get_scores(X_train, y_train, gbc, 'LE_all_cols', scores)\n",
    "gbc.fit(X_train, y_train)\n",
    "get_scores_hold_out(X_hold_out, y_hold_out, gbc, 'LE_all_cols', scores_hold_out)"
   ]
  },
  {
   "cell_type": "code",
   "execution_count": 64,
   "metadata": {
    "scrolled": true
   },
   "outputs": [
    {
     "data": {
      "text/html": [
       "<div>\n",
       "<style>\n",
       "    .dataframe thead tr:only-child th {\n",
       "        text-align: right;\n",
       "    }\n",
       "\n",
       "    .dataframe thead th {\n",
       "        text-align: left;\n",
       "    }\n",
       "\n",
       "    .dataframe tbody tr th {\n",
       "        vertical-align: top;\n",
       "    }\n",
       "</style>\n",
       "<table border=\"1\" class=\"dataframe\">\n",
       "  <thead>\n",
       "    <tr style=\"text-align: right;\">\n",
       "      <th></th>\n",
       "      <th>precision test</th>\n",
       "      <th>precision train</th>\n",
       "      <th>recall test</th>\n",
       "      <th>recall train</th>\n",
       "      <th>f1-score test</th>\n",
       "      <th>f1-score train</th>\n",
       "      <th>PR-score test</th>\n",
       "      <th>PR-score train</th>\n",
       "      <th>ROC AUC test</th>\n",
       "      <th>ROC AUC train</th>\n",
       "    </tr>\n",
       "  </thead>\n",
       "  <tbody>\n",
       "    <tr>\n",
       "      <th>LE_all_cols</th>\n",
       "      <td>0.277857</td>\n",
       "      <td>0.954656</td>\n",
       "      <td>0.00462185</td>\n",
       "      <td>0.0173245</td>\n",
       "      <td>0.00908926</td>\n",
       "      <td>0.0340269</td>\n",
       "      <td>0.176807</td>\n",
       "      <td>0.300872</td>\n",
       "      <td>0.719549</td>\n",
       "      <td>0.780733</td>\n",
       "    </tr>\n",
       "  </tbody>\n",
       "</table>\n",
       "</div>"
      ],
      "text/plain": [
       "            precision test precision train recall test recall train  \\\n",
       "LE_all_cols       0.277857        0.954656  0.00462185    0.0173245   \n",
       "\n",
       "            f1-score test f1-score train PR-score test PR-score train  \\\n",
       "LE_all_cols    0.00908926      0.0340269      0.176807       0.300872   \n",
       "\n",
       "            ROC AUC test ROC AUC train  \n",
       "LE_all_cols     0.719549      0.780733  "
      ]
     },
     "execution_count": 64,
     "metadata": {},
     "output_type": "execute_result"
    }
   ],
   "source": [
    "scores"
   ]
  },
  {
   "cell_type": "code",
   "execution_count": 65,
   "metadata": {},
   "outputs": [
    {
     "data": {
      "text/html": [
       "<div>\n",
       "<style>\n",
       "    .dataframe thead tr:only-child th {\n",
       "        text-align: right;\n",
       "    }\n",
       "\n",
       "    .dataframe thead th {\n",
       "        text-align: left;\n",
       "    }\n",
       "\n",
       "    .dataframe tbody tr th {\n",
       "        vertical-align: top;\n",
       "    }\n",
       "</style>\n",
       "<table border=\"1\" class=\"dataframe\">\n",
       "  <thead>\n",
       "    <tr style=\"text-align: right;\">\n",
       "      <th></th>\n",
       "      <th>precision</th>\n",
       "      <th>recall</th>\n",
       "      <th>f1-score</th>\n",
       "      <th>PR-score</th>\n",
       "      <th>ROC AUC</th>\n",
       "    </tr>\n",
       "  </thead>\n",
       "  <tbody>\n",
       "    <tr>\n",
       "      <th>LE_all_cols</th>\n",
       "      <td>0.272727</td>\n",
       "      <td>0.00504202</td>\n",
       "      <td>0.00990099</td>\n",
       "      <td>0.172544</td>\n",
       "      <td>0.723504</td>\n",
       "    </tr>\n",
       "  </tbody>\n",
       "</table>\n",
       "</div>"
      ],
      "text/plain": [
       "            precision      recall    f1-score  PR-score   ROC AUC\n",
       "LE_all_cols  0.272727  0.00504202  0.00990099  0.172544  0.723504"
      ]
     },
     "execution_count": 65,
     "metadata": {},
     "output_type": "execute_result"
    }
   ],
   "source": [
    "scores_hold_out"
   ]
  },
  {
   "cell_type": "markdown",
   "metadata": {},
   "source": [
    "### 2.2 Label Enconding с отбором топ-20 числовых признаков"
   ]
  },
  {
   "cell_type": "code",
   "execution_count": 66,
   "metadata": {
    "collapsed": true
   },
   "outputs": [],
   "source": [
    "data = pd.read_csv('orange_small_churn_data.txt', header=0, sep=',')\n",
    "labels = pd.read_csv('orange_small_churn_labels.txt', header=None)\n",
    "labels.columns = ['target']\n",
    "labels = labels.apply(lambda x: x.astype(int))"
   ]
  },
  {
   "cell_type": "code",
   "execution_count": 67,
   "metadata": {
    "scrolled": true
   },
   "outputs": [
    {
     "name": "stdout",
     "output_type": "stream",
     "text": [
      "Dropping the null columns...\n",
      "Dropped num-type column: Var8\n",
      "Dropped num-type column: Var15\n",
      "Dropped num-type column: Var20\n",
      "Dropped num-type column: Var31\n",
      "Dropped num-type column: Var32\n",
      "Dropped num-type column: Var39\n",
      "Dropped num-type column: Var42\n",
      "Dropped num-type column: Var48\n",
      "Dropped num-type column: Var52\n",
      "Dropped num-type column: Var55\n",
      "Dropped num-type column: Var79\n",
      "Dropped num-type column: Var141\n",
      "Dropped num-type column: Var167\n",
      "Dropped num-type column: Var169\n",
      "Dropped num-type column: Var175\n",
      "Dropped num-type column: Var185\n",
      "Dropped cal-type column: Var209\n",
      "Dropped cal-type column: Var230\n",
      "Dropped 16 num-type cols and 2 cat-types cols\n",
      "Num-type feature have the indices from 0 up to 174.\n",
      "Cal-type feature have the indices from 175 up to 212.\n",
      "Splitting the numeric and categorical columns...\n",
      "Processing the numeric columns...\n",
      "Filling the absent values with the columns' means...\n",
      "Normalizing the data...\n",
      "Processing the categorical columns...\n",
      "Filling the absent categorical values...\n",
      "Applying a LabelEncoder to the categorical columns...\n",
      "Joining the numerical and categorical columns...\n",
      "Done!\n"
     ]
    }
   ],
   "source": [
    "data_transformed = transform_data(data=data, num_cols=num_top_20)"
   ]
  },
  {
   "cell_type": "code",
   "execution_count": 68,
   "metadata": {},
   "outputs": [
    {
     "name": "stdout",
     "output_type": "stream",
     "text": [
      "0.8\n",
      "0.2\n",
      "0.8\n",
      "0.2\n"
     ]
    }
   ],
   "source": [
    "X_train, X_hold_out, y_train, y_hold_out = train_test_split(data_transformed['X'], \n",
    "                                                            labels, \n",
    "                                                            test_size=0.2, random_state=123, \n",
    "                                                            stratify=labels)\n",
    "print(X_train.shape[0]/float(data_transformed['X'].shape[0]))\n",
    "print(X_hold_out.shape[0]/float(data_transformed['X'].shape[0]))\n",
    "print(y_train.shape[0]/float(labels.shape[0]))\n",
    "print(y_hold_out.shape[0]/float(labels.shape[0]))"
   ]
  },
  {
   "cell_type": "code",
   "execution_count": 69,
   "metadata": {
    "collapsed": true
   },
   "outputs": [
    {
     "name": "stdout",
     "output_type": "stream",
     "text": [
      "Calculating scores...\n"
     ]
    },
    {
     "name": "stderr",
     "output_type": "stream",
     "text": [
      "/home/placetexperiri/anaconda2/envs/python3/lib/python3.6/site-packages/sklearn/utils/validation.py:578: DataConversionWarning: A column-vector y was passed when a 1d array was expected. Please change the shape of y to (n_samples, ), for example using ravel().\n",
      "  y = column_or_1d(y, warn=True)\n",
      "/home/placetexperiri/anaconda2/envs/python3/lib/python3.6/site-packages/sklearn/utils/validation.py:578: DataConversionWarning: A column-vector y was passed when a 1d array was expected. Please change the shape of y to (n_samples, ), for example using ravel().\n",
      "  y = column_or_1d(y, warn=True)\n",
      "/home/placetexperiri/anaconda2/envs/python3/lib/python3.6/site-packages/sklearn/utils/validation.py:578: DataConversionWarning: A column-vector y was passed when a 1d array was expected. Please change the shape of y to (n_samples, ), for example using ravel().\n",
      "  y = column_or_1d(y, warn=True)\n",
      "/home/placetexperiri/anaconda2/envs/python3/lib/python3.6/site-packages/sklearn/utils/validation.py:578: DataConversionWarning: A column-vector y was passed when a 1d array was expected. Please change the shape of y to (n_samples, ), for example using ravel().\n",
      "  y = column_or_1d(y, warn=True)\n",
      "/home/placetexperiri/anaconda2/envs/python3/lib/python3.6/site-packages/sklearn/utils/validation.py:578: DataConversionWarning: A column-vector y was passed when a 1d array was expected. Please change the shape of y to (n_samples, ), for example using ravel().\n",
      "  y = column_or_1d(y, warn=True)\n"
     ]
    },
    {
     "name": "stdout",
     "output_type": "stream",
     "text": [
      "Done!\n",
      "Calculating scores...\n",
      "Done!\n"
     ]
    },
    {
     "data": {
      "text/plain": [
       "True"
      ]
     },
     "execution_count": 69,
     "metadata": {},
     "output_type": "execute_result"
    }
   ],
   "source": [
    "gbc = GradientBoostingClassifier()\n",
    "get_scores(X_train, y_train, gbc, 'LE_top_20_num', scores)\n",
    "gbc.fit(X_train, y_train)\n",
    "get_scores_hold_out(X_hold_out, y_hold_out, gbc, 'LE_top_20_num', scores_hold_out)"
   ]
  },
  {
   "cell_type": "code",
   "execution_count": 70,
   "metadata": {},
   "outputs": [
    {
     "data": {
      "text/html": [
       "<div>\n",
       "<style>\n",
       "    .dataframe thead tr:only-child th {\n",
       "        text-align: right;\n",
       "    }\n",
       "\n",
       "    .dataframe thead th {\n",
       "        text-align: left;\n",
       "    }\n",
       "\n",
       "    .dataframe tbody tr th {\n",
       "        vertical-align: top;\n",
       "    }\n",
       "</style>\n",
       "<table border=\"1\" class=\"dataframe\">\n",
       "  <thead>\n",
       "    <tr style=\"text-align: right;\">\n",
       "      <th></th>\n",
       "      <th>precision test</th>\n",
       "      <th>precision train</th>\n",
       "      <th>recall test</th>\n",
       "      <th>recall train</th>\n",
       "      <th>f1-score test</th>\n",
       "      <th>f1-score train</th>\n",
       "      <th>PR-score test</th>\n",
       "      <th>PR-score train</th>\n",
       "      <th>ROC AUC test</th>\n",
       "      <th>ROC AUC train</th>\n",
       "    </tr>\n",
       "  </thead>\n",
       "  <tbody>\n",
       "    <tr>\n",
       "      <th>LE_all_cols</th>\n",
       "      <td>0.277857</td>\n",
       "      <td>0.954656</td>\n",
       "      <td>0.00462185</td>\n",
       "      <td>0.0173245</td>\n",
       "      <td>0.00908926</td>\n",
       "      <td>0.0340269</td>\n",
       "      <td>0.176807</td>\n",
       "      <td>0.300872</td>\n",
       "      <td>0.719549</td>\n",
       "      <td>0.780733</td>\n",
       "    </tr>\n",
       "    <tr>\n",
       "      <th>LE_top_20_num</th>\n",
       "      <td>0.498333</td>\n",
       "      <td>0.975909</td>\n",
       "      <td>0.00588059</td>\n",
       "      <td>0.0133346</td>\n",
       "      <td>0.0116149</td>\n",
       "      <td>0.0263056</td>\n",
       "      <td>0.178693</td>\n",
       "      <td>0.239818</td>\n",
       "      <td>0.712654</td>\n",
       "      <td>0.747665</td>\n",
       "    </tr>\n",
       "  </tbody>\n",
       "</table>\n",
       "</div>"
      ],
      "text/plain": [
       "              precision test precision train recall test recall train  \\\n",
       "LE_all_cols         0.277857        0.954656  0.00462185    0.0173245   \n",
       "LE_top_20_num       0.498333        0.975909  0.00588059    0.0133346   \n",
       "\n",
       "              f1-score test f1-score train PR-score test PR-score train  \\\n",
       "LE_all_cols      0.00908926      0.0340269      0.176807       0.300872   \n",
       "LE_top_20_num     0.0116149      0.0263056      0.178693       0.239818   \n",
       "\n",
       "              ROC AUC test ROC AUC train  \n",
       "LE_all_cols       0.719549      0.780733  \n",
       "LE_top_20_num     0.712654      0.747665  "
      ]
     },
     "execution_count": 70,
     "metadata": {},
     "output_type": "execute_result"
    }
   ],
   "source": [
    "scores"
   ]
  },
  {
   "cell_type": "code",
   "execution_count": 71,
   "metadata": {},
   "outputs": [
    {
     "data": {
      "text/html": [
       "<div>\n",
       "<style>\n",
       "    .dataframe thead tr:only-child th {\n",
       "        text-align: right;\n",
       "    }\n",
       "\n",
       "    .dataframe thead th {\n",
       "        text-align: left;\n",
       "    }\n",
       "\n",
       "    .dataframe tbody tr th {\n",
       "        vertical-align: top;\n",
       "    }\n",
       "</style>\n",
       "<table border=\"1\" class=\"dataframe\">\n",
       "  <thead>\n",
       "    <tr style=\"text-align: right;\">\n",
       "      <th></th>\n",
       "      <th>precision</th>\n",
       "      <th>recall</th>\n",
       "      <th>f1-score</th>\n",
       "      <th>PR-score</th>\n",
       "      <th>ROC AUC</th>\n",
       "    </tr>\n",
       "  </thead>\n",
       "  <tbody>\n",
       "    <tr>\n",
       "      <th>LE_all_cols</th>\n",
       "      <td>0.272727</td>\n",
       "      <td>0.00504202</td>\n",
       "      <td>0.00990099</td>\n",
       "      <td>0.172544</td>\n",
       "      <td>0.723504</td>\n",
       "    </tr>\n",
       "    <tr>\n",
       "      <th>LE_top_20_num</th>\n",
       "      <td>0.833333</td>\n",
       "      <td>0.00840336</td>\n",
       "      <td>0.0166389</td>\n",
       "      <td>0.179318</td>\n",
       "      <td>0.723015</td>\n",
       "    </tr>\n",
       "  </tbody>\n",
       "</table>\n",
       "</div>"
      ],
      "text/plain": [
       "              precision      recall    f1-score  PR-score   ROC AUC\n",
       "LE_all_cols    0.272727  0.00504202  0.00990099  0.172544  0.723504\n",
       "LE_top_20_num  0.833333  0.00840336   0.0166389  0.179318  0.723015"
      ]
     },
     "execution_count": 71,
     "metadata": {},
     "output_type": "execute_result"
    }
   ],
   "source": [
    "scores_hold_out"
   ]
  },
  {
   "cell_type": "markdown",
   "metadata": {},
   "source": [
    "* Отбор числовых признаков значительно улучшил точность; \n",
    "* Тем не менее, recall, f1-score и PR-score недопустимо малы, поэтому следует и дальше модифицировать алгоритм обработки данных."
   ]
  },
  {
   "cell_type": "markdown",
   "metadata": {},
   "source": [
    "### 2.3 Label Enconding и отбор топ-20 числовых и топ-20 категориальных признаков"
   ]
  },
  {
   "cell_type": "code",
   "execution_count": 72,
   "metadata": {
    "collapsed": true
   },
   "outputs": [],
   "source": [
    "data = pd.read_csv('orange_small_churn_data.txt', header=0, sep=',')\n",
    "labels = pd.read_csv('orange_small_churn_labels.txt', header=None)\n",
    "labels.columns = ['target']\n",
    "labels = labels.apply(lambda x: x.astype(int))"
   ]
  },
  {
   "cell_type": "code",
   "execution_count": 73,
   "metadata": {
    "scrolled": true
   },
   "outputs": [
    {
     "name": "stdout",
     "output_type": "stream",
     "text": [
      "Dropping the null columns...\n",
      "Dropped num-type column: Var8\n",
      "Dropped num-type column: Var15\n",
      "Dropped num-type column: Var20\n",
      "Dropped num-type column: Var31\n",
      "Dropped num-type column: Var32\n",
      "Dropped num-type column: Var39\n",
      "Dropped num-type column: Var42\n",
      "Dropped num-type column: Var48\n",
      "Dropped num-type column: Var52\n",
      "Dropped num-type column: Var55\n",
      "Dropped num-type column: Var79\n",
      "Dropped num-type column: Var141\n",
      "Dropped num-type column: Var167\n",
      "Dropped num-type column: Var169\n",
      "Dropped num-type column: Var175\n",
      "Dropped num-type column: Var185\n",
      "Dropped cal-type column: Var209\n",
      "Dropped cal-type column: Var230\n",
      "Dropped 16 num-type cols and 2 cat-types cols\n",
      "Num-type feature have the indices from 0 up to 174.\n",
      "Cal-type feature have the indices from 175 up to 212.\n",
      "Splitting the numeric and categorical columns...\n",
      "Processing the numeric columns...\n",
      "Filling the absent values with the columns' means...\n",
      "Normalizing the data...\n",
      "Processing the categorical columns...\n",
      "Filling the absent categorical values...\n",
      "Applying a LabelEncoder to the categorical columns...\n",
      "Joining the numerical and categorical columns...\n",
      "Done!\n"
     ]
    }
   ],
   "source": [
    "data_transformed = transform_data(data=data, num_cols=num_top_20, cat_cols=cat_top_20)"
   ]
  },
  {
   "cell_type": "code",
   "execution_count": 74,
   "metadata": {},
   "outputs": [
    {
     "name": "stdout",
     "output_type": "stream",
     "text": [
      "0.8\n",
      "0.2\n",
      "0.8\n",
      "0.2\n"
     ]
    }
   ],
   "source": [
    "X_train, X_hold_out, y_train, y_hold_out = train_test_split(data_transformed['X'], \n",
    "                                                            labels, \n",
    "                                                            test_size=0.2, random_state=123, \n",
    "                                                            stratify=labels)\n",
    "print(X_train.shape[0]/float(data_transformed['X'].shape[0]))\n",
    "print(X_hold_out.shape[0]/float(data_transformed['X'].shape[0]))\n",
    "print(y_train.shape[0]/float(labels.shape[0]))\n",
    "print(y_hold_out.shape[0]/float(labels.shape[0]))"
   ]
  },
  {
   "cell_type": "code",
   "execution_count": 75,
   "metadata": {
    "scrolled": true
   },
   "outputs": [
    {
     "name": "stdout",
     "output_type": "stream",
     "text": [
      "Calculating scores...\n"
     ]
    },
    {
     "name": "stderr",
     "output_type": "stream",
     "text": [
      "/home/placetexperiri/anaconda2/envs/python3/lib/python3.6/site-packages/sklearn/utils/validation.py:578: DataConversionWarning: A column-vector y was passed when a 1d array was expected. Please change the shape of y to (n_samples, ), for example using ravel().\n",
      "  y = column_or_1d(y, warn=True)\n",
      "/home/placetexperiri/anaconda2/envs/python3/lib/python3.6/site-packages/sklearn/utils/validation.py:578: DataConversionWarning: A column-vector y was passed when a 1d array was expected. Please change the shape of y to (n_samples, ), for example using ravel().\n",
      "  y = column_or_1d(y, warn=True)\n",
      "/home/placetexperiri/anaconda2/envs/python3/lib/python3.6/site-packages/sklearn/utils/validation.py:578: DataConversionWarning: A column-vector y was passed when a 1d array was expected. Please change the shape of y to (n_samples, ), for example using ravel().\n",
      "  y = column_or_1d(y, warn=True)\n",
      "/home/placetexperiri/anaconda2/envs/python3/lib/python3.6/site-packages/sklearn/utils/validation.py:578: DataConversionWarning: A column-vector y was passed when a 1d array was expected. Please change the shape of y to (n_samples, ), for example using ravel().\n",
      "  y = column_or_1d(y, warn=True)\n",
      "/home/placetexperiri/anaconda2/envs/python3/lib/python3.6/site-packages/sklearn/utils/validation.py:578: DataConversionWarning: A column-vector y was passed when a 1d array was expected. Please change the shape of y to (n_samples, ), for example using ravel().\n",
      "  y = column_or_1d(y, warn=True)\n"
     ]
    },
    {
     "name": "stdout",
     "output_type": "stream",
     "text": [
      "Done!\n",
      "Calculating scores...\n",
      "Done!\n"
     ]
    },
    {
     "data": {
      "text/plain": [
       "True"
      ]
     },
     "execution_count": 75,
     "metadata": {},
     "output_type": "execute_result"
    }
   ],
   "source": [
    "gbc = GradientBoostingClassifier()\n",
    "get_scores(X_train, y_train, gbc, 'LE_top_20_num_top_20_cat', scores)\n",
    "gbc.fit(X_train, y_train)\n",
    "get_scores_hold_out(X_hold_out, y_hold_out, gbc, 'LE_top_20_num_top_20_cat', scores_hold_out)"
   ]
  },
  {
   "cell_type": "code",
   "execution_count": 76,
   "metadata": {},
   "outputs": [
    {
     "data": {
      "text/html": [
       "<div>\n",
       "<style>\n",
       "    .dataframe thead tr:only-child th {\n",
       "        text-align: right;\n",
       "    }\n",
       "\n",
       "    .dataframe thead th {\n",
       "        text-align: left;\n",
       "    }\n",
       "\n",
       "    .dataframe tbody tr th {\n",
       "        vertical-align: top;\n",
       "    }\n",
       "</style>\n",
       "<table border=\"1\" class=\"dataframe\">\n",
       "  <thead>\n",
       "    <tr style=\"text-align: right;\">\n",
       "      <th></th>\n",
       "      <th>precision test</th>\n",
       "      <th>precision train</th>\n",
       "      <th>recall test</th>\n",
       "      <th>recall train</th>\n",
       "      <th>f1-score test</th>\n",
       "      <th>f1-score train</th>\n",
       "      <th>PR-score test</th>\n",
       "      <th>PR-score train</th>\n",
       "      <th>ROC AUC test</th>\n",
       "      <th>ROC AUC train</th>\n",
       "    </tr>\n",
       "  </thead>\n",
       "  <tbody>\n",
       "    <tr>\n",
       "      <th>LE_all_cols</th>\n",
       "      <td>0.277857</td>\n",
       "      <td>0.954656</td>\n",
       "      <td>0.00462185</td>\n",
       "      <td>0.0173245</td>\n",
       "      <td>0.00908926</td>\n",
       "      <td>0.0340269</td>\n",
       "      <td>0.176807</td>\n",
       "      <td>0.300872</td>\n",
       "      <td>0.719549</td>\n",
       "      <td>0.780733</td>\n",
       "    </tr>\n",
       "    <tr>\n",
       "      <th>LE_top_20_num</th>\n",
       "      <td>0.498333</td>\n",
       "      <td>0.975909</td>\n",
       "      <td>0.00588059</td>\n",
       "      <td>0.0133346</td>\n",
       "      <td>0.0116149</td>\n",
       "      <td>0.0263056</td>\n",
       "      <td>0.178693</td>\n",
       "      <td>0.239818</td>\n",
       "      <td>0.712654</td>\n",
       "      <td>0.747665</td>\n",
       "    </tr>\n",
       "    <tr>\n",
       "      <th>LE_top_20_num_top_20_cat</th>\n",
       "      <td>0.481429</td>\n",
       "      <td>0.975909</td>\n",
       "      <td>0.00546042</td>\n",
       "      <td>0.0133346</td>\n",
       "      <td>0.0107919</td>\n",
       "      <td>0.0263056</td>\n",
       "      <td>0.178917</td>\n",
       "      <td>0.239818</td>\n",
       "      <td>0.71269</td>\n",
       "      <td>0.747665</td>\n",
       "    </tr>\n",
       "  </tbody>\n",
       "</table>\n",
       "</div>"
      ],
      "text/plain": [
       "                         precision test precision train recall test  \\\n",
       "LE_all_cols                    0.277857        0.954656  0.00462185   \n",
       "LE_top_20_num                  0.498333        0.975909  0.00588059   \n",
       "LE_top_20_num_top_20_cat       0.481429        0.975909  0.00546042   \n",
       "\n",
       "                         recall train f1-score test f1-score train  \\\n",
       "LE_all_cols                 0.0173245    0.00908926      0.0340269   \n",
       "LE_top_20_num               0.0133346     0.0116149      0.0263056   \n",
       "LE_top_20_num_top_20_cat    0.0133346     0.0107919      0.0263056   \n",
       "\n",
       "                         PR-score test PR-score train ROC AUC test  \\\n",
       "LE_all_cols                   0.176807       0.300872     0.719549   \n",
       "LE_top_20_num                 0.178693       0.239818     0.712654   \n",
       "LE_top_20_num_top_20_cat      0.178917       0.239818      0.71269   \n",
       "\n",
       "                         ROC AUC train  \n",
       "LE_all_cols                   0.780733  \n",
       "LE_top_20_num                 0.747665  \n",
       "LE_top_20_num_top_20_cat      0.747665  "
      ]
     },
     "execution_count": 76,
     "metadata": {},
     "output_type": "execute_result"
    }
   ],
   "source": [
    "scores"
   ]
  },
  {
   "cell_type": "code",
   "execution_count": 77,
   "metadata": {},
   "outputs": [
    {
     "data": {
      "text/html": [
       "<div>\n",
       "<style>\n",
       "    .dataframe thead tr:only-child th {\n",
       "        text-align: right;\n",
       "    }\n",
       "\n",
       "    .dataframe thead th {\n",
       "        text-align: left;\n",
       "    }\n",
       "\n",
       "    .dataframe tbody tr th {\n",
       "        vertical-align: top;\n",
       "    }\n",
       "</style>\n",
       "<table border=\"1\" class=\"dataframe\">\n",
       "  <thead>\n",
       "    <tr style=\"text-align: right;\">\n",
       "      <th></th>\n",
       "      <th>precision</th>\n",
       "      <th>recall</th>\n",
       "      <th>f1-score</th>\n",
       "      <th>PR-score</th>\n",
       "      <th>ROC AUC</th>\n",
       "    </tr>\n",
       "  </thead>\n",
       "  <tbody>\n",
       "    <tr>\n",
       "      <th>LE_all_cols</th>\n",
       "      <td>0.272727</td>\n",
       "      <td>0.00504202</td>\n",
       "      <td>0.00990099</td>\n",
       "      <td>0.172544</td>\n",
       "      <td>0.723504</td>\n",
       "    </tr>\n",
       "    <tr>\n",
       "      <th>LE_top_20_num</th>\n",
       "      <td>0.833333</td>\n",
       "      <td>0.00840336</td>\n",
       "      <td>0.0166389</td>\n",
       "      <td>0.179318</td>\n",
       "      <td>0.723015</td>\n",
       "    </tr>\n",
       "    <tr>\n",
       "      <th>LE_top_20_num_top_20_cat</th>\n",
       "      <td>0.833333</td>\n",
       "      <td>0.00840336</td>\n",
       "      <td>0.0166389</td>\n",
       "      <td>0.179293</td>\n",
       "      <td>0.72296</td>\n",
       "    </tr>\n",
       "  </tbody>\n",
       "</table>\n",
       "</div>"
      ],
      "text/plain": [
       "                         precision      recall    f1-score  PR-score   ROC AUC\n",
       "LE_all_cols               0.272727  0.00504202  0.00990099  0.172544  0.723504\n",
       "LE_top_20_num             0.833333  0.00840336   0.0166389  0.179318  0.723015\n",
       "LE_top_20_num_top_20_cat  0.833333  0.00840336   0.0166389  0.179293   0.72296"
      ]
     },
     "execution_count": 77,
     "metadata": {},
     "output_type": "execute_result"
    }
   ],
   "source": [
    "scores_hold_out"
   ]
  },
  {
   "cell_type": "markdown",
   "metadata": {},
   "source": [
    "* Отбор категориальных признаков уменьших количество вычислений, незначительно изменив метрики;\n",
    "\n",
    "* Тем не менее, recall, f1-score и PR-score недопустимо малы, поэтому следует и дальше модифицировать алгоритм обработки данных."
   ]
  },
  {
   "cell_type": "markdown",
   "metadata": {},
   "source": [
    "### 2.3 Label Encoding + One Hot Encoding + и отбор топ-20 числовых и топ-20 категориальных признаков¶"
   ]
  },
  {
   "cell_type": "code",
   "execution_count": 80,
   "metadata": {
    "collapsed": true
   },
   "outputs": [],
   "source": [
    "data = pd.read_csv('orange_small_churn_data.txt', header=0, sep=',')\n",
    "labels = pd.read_csv('orange_small_churn_labels.txt', header=None)\n",
    "labels.columns = ['target']\n",
    "labels = labels.apply(lambda x: x.astype(int))"
   ]
  },
  {
   "cell_type": "code",
   "execution_count": 81,
   "metadata": {
    "scrolled": true
   },
   "outputs": [
    {
     "name": "stdout",
     "output_type": "stream",
     "text": [
      "Dropping the null columns...\n",
      "Dropped num-type column: Var8\n",
      "Dropped num-type column: Var15\n",
      "Dropped num-type column: Var20\n",
      "Dropped num-type column: Var31\n",
      "Dropped num-type column: Var32\n",
      "Dropped num-type column: Var39\n",
      "Dropped num-type column: Var42\n",
      "Dropped num-type column: Var48\n",
      "Dropped num-type column: Var52\n",
      "Dropped num-type column: Var55\n",
      "Dropped num-type column: Var79\n",
      "Dropped num-type column: Var141\n",
      "Dropped num-type column: Var167\n",
      "Dropped num-type column: Var169\n",
      "Dropped num-type column: Var175\n",
      "Dropped num-type column: Var185\n",
      "Dropped cal-type column: Var209\n",
      "Dropped cal-type column: Var230\n",
      "Dropped 16 num-type cols and 2 cat-types cols\n",
      "Num-type feature have the indices from 0 up to 174.\n",
      "Cal-type feature have the indices from 175 up to 212.\n",
      "Splitting the numeric and categorical columns...\n",
      "Processing the numeric columns...\n",
      "Filling the absent values with the columns' means...\n",
      "Normalizing the data...\n",
      "Processing the categorical columns...\n",
      "Filling the absent categorical values...\n",
      "Applying a LabelEncoder to the categorical columns...\n",
      "Applying a OneHotEncoder to categorical columns...\n",
      "Joining the numerical and categorical columns...\n",
      "Done!\n"
     ]
    }
   ],
   "source": [
    "data_transformed = transform_data(data=data, num_cols=num_top_20, cat_cols=cat_top_20, is_OHE=True)"
   ]
  },
  {
   "cell_type": "code",
   "execution_count": 82,
   "metadata": {},
   "outputs": [
    {
     "name": "stdout",
     "output_type": "stream",
     "text": [
      "0.8\n",
      "0.2\n",
      "0.8\n",
      "0.2\n"
     ]
    }
   ],
   "source": [
    "X_train, X_hold_out, y_train, y_hold_out = train_test_split(data_transformed['X'], \n",
    "                                                            labels, \n",
    "                                                            test_size=0.2, random_state=123, \n",
    "                                                            stratify=labels)\n",
    "print(X_train.shape[0]/float(data_transformed['X'].shape[0]))\n",
    "print(X_hold_out.shape[0]/float(data_transformed['X'].shape[0]))\n",
    "print(y_train.shape[0]/float(labels.shape[0]))\n",
    "print(y_hold_out.shape[0]/float(labels.shape[0]))"
   ]
  },
  {
   "cell_type": "code",
   "execution_count": 83,
   "metadata": {
    "scrolled": true
   },
   "outputs": [
    {
     "name": "stdout",
     "output_type": "stream",
     "text": [
      "Calculating scores...\n"
     ]
    },
    {
     "name": "stderr",
     "output_type": "stream",
     "text": [
      "/home/placetexperiri/anaconda2/envs/python3/lib/python3.6/site-packages/sklearn/utils/validation.py:578: DataConversionWarning: A column-vector y was passed when a 1d array was expected. Please change the shape of y to (n_samples, ), for example using ravel().\n",
      "  y = column_or_1d(y, warn=True)\n",
      "/home/placetexperiri/anaconda2/envs/python3/lib/python3.6/site-packages/sklearn/utils/validation.py:578: DataConversionWarning: A column-vector y was passed when a 1d array was expected. Please change the shape of y to (n_samples, ), for example using ravel().\n",
      "  y = column_or_1d(y, warn=True)\n",
      "/home/placetexperiri/anaconda2/envs/python3/lib/python3.6/site-packages/sklearn/utils/validation.py:578: DataConversionWarning: A column-vector y was passed when a 1d array was expected. Please change the shape of y to (n_samples, ), for example using ravel().\n",
      "  y = column_or_1d(y, warn=True)\n",
      "/home/placetexperiri/anaconda2/envs/python3/lib/python3.6/site-packages/sklearn/utils/validation.py:578: DataConversionWarning: A column-vector y was passed when a 1d array was expected. Please change the shape of y to (n_samples, ), for example using ravel().\n",
      "  y = column_or_1d(y, warn=True)\n",
      "/home/placetexperiri/anaconda2/envs/python3/lib/python3.6/site-packages/sklearn/utils/validation.py:578: DataConversionWarning: A column-vector y was passed when a 1d array was expected. Please change the shape of y to (n_samples, ), for example using ravel().\n",
      "  y = column_or_1d(y, warn=True)\n"
     ]
    },
    {
     "name": "stdout",
     "output_type": "stream",
     "text": [
      "Done!\n",
      "Calculating scores...\n",
      "Done!\n"
     ]
    },
    {
     "data": {
      "text/plain": [
       "True"
      ]
     },
     "execution_count": 83,
     "metadata": {},
     "output_type": "execute_result"
    }
   ],
   "source": [
    "gbc = GradientBoostingClassifier()\n",
    "get_scores(X_train, y_train, gbc, 'LE_OHE_top_20_num_top_20_cat', scores)\n",
    "gbc.fit(X_train, y_train)\n",
    "get_scores_hold_out(X_hold_out, y_hold_out, gbc, 'LE_OHE_top_20_num_top_20_cat', scores_hold_out)"
   ]
  },
  {
   "cell_type": "code",
   "execution_count": 84,
   "metadata": {},
   "outputs": [
    {
     "data": {
      "text/html": [
       "<div>\n",
       "<style>\n",
       "    .dataframe thead tr:only-child th {\n",
       "        text-align: right;\n",
       "    }\n",
       "\n",
       "    .dataframe thead th {\n",
       "        text-align: left;\n",
       "    }\n",
       "\n",
       "    .dataframe tbody tr th {\n",
       "        vertical-align: top;\n",
       "    }\n",
       "</style>\n",
       "<table border=\"1\" class=\"dataframe\">\n",
       "  <thead>\n",
       "    <tr style=\"text-align: right;\">\n",
       "      <th></th>\n",
       "      <th>precision test</th>\n",
       "      <th>precision train</th>\n",
       "      <th>recall test</th>\n",
       "      <th>recall train</th>\n",
       "      <th>f1-score test</th>\n",
       "      <th>f1-score train</th>\n",
       "      <th>PR-score test</th>\n",
       "      <th>PR-score train</th>\n",
       "      <th>ROC AUC test</th>\n",
       "      <th>ROC AUC train</th>\n",
       "    </tr>\n",
       "  </thead>\n",
       "  <tbody>\n",
       "    <tr>\n",
       "      <th>LE_all_cols</th>\n",
       "      <td>0.277857</td>\n",
       "      <td>0.954656</td>\n",
       "      <td>0.00462185</td>\n",
       "      <td>0.0173245</td>\n",
       "      <td>0.00908926</td>\n",
       "      <td>0.0340269</td>\n",
       "      <td>0.176807</td>\n",
       "      <td>0.300872</td>\n",
       "      <td>0.719549</td>\n",
       "      <td>0.780733</td>\n",
       "    </tr>\n",
       "    <tr>\n",
       "      <th>LE_top_20_num</th>\n",
       "      <td>0.498333</td>\n",
       "      <td>0.975909</td>\n",
       "      <td>0.00588059</td>\n",
       "      <td>0.0133346</td>\n",
       "      <td>0.0116149</td>\n",
       "      <td>0.0263056</td>\n",
       "      <td>0.178693</td>\n",
       "      <td>0.239818</td>\n",
       "      <td>0.712654</td>\n",
       "      <td>0.747665</td>\n",
       "    </tr>\n",
       "    <tr>\n",
       "      <th>LE_top_20_num_top_20_cat</th>\n",
       "      <td>0.481429</td>\n",
       "      <td>0.975909</td>\n",
       "      <td>0.00546042</td>\n",
       "      <td>0.0133346</td>\n",
       "      <td>0.0107919</td>\n",
       "      <td>0.0263056</td>\n",
       "      <td>0.178917</td>\n",
       "      <td>0.239818</td>\n",
       "      <td>0.71269</td>\n",
       "      <td>0.747665</td>\n",
       "    </tr>\n",
       "    <tr>\n",
       "      <th>LE_OHE_top_20_num_top_20_cat</th>\n",
       "      <td>0.381602</td>\n",
       "      <td>0.929314</td>\n",
       "      <td>0.0084016</td>\n",
       "      <td>0.0140699</td>\n",
       "      <td>0.0164207</td>\n",
       "      <td>0.0277036</td>\n",
       "      <td>0.197827</td>\n",
       "      <td>0.367195</td>\n",
       "      <td>0.72685</td>\n",
       "      <td>0.815824</td>\n",
       "    </tr>\n",
       "  </tbody>\n",
       "</table>\n",
       "</div>"
      ],
      "text/plain": [
       "                             precision test precision train recall test  \\\n",
       "LE_all_cols                        0.277857        0.954656  0.00462185   \n",
       "LE_top_20_num                      0.498333        0.975909  0.00588059   \n",
       "LE_top_20_num_top_20_cat           0.481429        0.975909  0.00546042   \n",
       "LE_OHE_top_20_num_top_20_cat       0.381602        0.929314   0.0084016   \n",
       "\n",
       "                             recall train f1-score test f1-score train  \\\n",
       "LE_all_cols                     0.0173245    0.00908926      0.0340269   \n",
       "LE_top_20_num                   0.0133346     0.0116149      0.0263056   \n",
       "LE_top_20_num_top_20_cat        0.0133346     0.0107919      0.0263056   \n",
       "LE_OHE_top_20_num_top_20_cat    0.0140699     0.0164207      0.0277036   \n",
       "\n",
       "                             PR-score test PR-score train ROC AUC test  \\\n",
       "LE_all_cols                       0.176807       0.300872     0.719549   \n",
       "LE_top_20_num                     0.178693       0.239818     0.712654   \n",
       "LE_top_20_num_top_20_cat          0.178917       0.239818      0.71269   \n",
       "LE_OHE_top_20_num_top_20_cat      0.197827       0.367195      0.72685   \n",
       "\n",
       "                             ROC AUC train  \n",
       "LE_all_cols                       0.780733  \n",
       "LE_top_20_num                     0.747665  \n",
       "LE_top_20_num_top_20_cat          0.747665  \n",
       "LE_OHE_top_20_num_top_20_cat      0.815824  "
      ]
     },
     "execution_count": 84,
     "metadata": {},
     "output_type": "execute_result"
    }
   ],
   "source": [
    "scores"
   ]
  },
  {
   "cell_type": "code",
   "execution_count": 85,
   "metadata": {},
   "outputs": [
    {
     "data": {
      "text/html": [
       "<div>\n",
       "<style>\n",
       "    .dataframe thead tr:only-child th {\n",
       "        text-align: right;\n",
       "    }\n",
       "\n",
       "    .dataframe thead th {\n",
       "        text-align: left;\n",
       "    }\n",
       "\n",
       "    .dataframe tbody tr th {\n",
       "        vertical-align: top;\n",
       "    }\n",
       "</style>\n",
       "<table border=\"1\" class=\"dataframe\">\n",
       "  <thead>\n",
       "    <tr style=\"text-align: right;\">\n",
       "      <th></th>\n",
       "      <th>precision</th>\n",
       "      <th>recall</th>\n",
       "      <th>f1-score</th>\n",
       "      <th>PR-score</th>\n",
       "      <th>ROC AUC</th>\n",
       "    </tr>\n",
       "  </thead>\n",
       "  <tbody>\n",
       "    <tr>\n",
       "      <th>LE_all_cols</th>\n",
       "      <td>0.272727</td>\n",
       "      <td>0.00504202</td>\n",
       "      <td>0.00990099</td>\n",
       "      <td>0.172544</td>\n",
       "      <td>0.723504</td>\n",
       "    </tr>\n",
       "    <tr>\n",
       "      <th>LE_top_20_num</th>\n",
       "      <td>0.833333</td>\n",
       "      <td>0.00840336</td>\n",
       "      <td>0.0166389</td>\n",
       "      <td>0.179318</td>\n",
       "      <td>0.723015</td>\n",
       "    </tr>\n",
       "    <tr>\n",
       "      <th>LE_top_20_num_top_20_cat</th>\n",
       "      <td>0.833333</td>\n",
       "      <td>0.00840336</td>\n",
       "      <td>0.0166389</td>\n",
       "      <td>0.179293</td>\n",
       "      <td>0.72296</td>\n",
       "    </tr>\n",
       "    <tr>\n",
       "      <th>LE_OHE_top_20_num_top_20_cat</th>\n",
       "      <td>0.428571</td>\n",
       "      <td>0.00504202</td>\n",
       "      <td>0.00996678</td>\n",
       "      <td>0.185482</td>\n",
       "      <td>0.726427</td>\n",
       "    </tr>\n",
       "  </tbody>\n",
       "</table>\n",
       "</div>"
      ],
      "text/plain": [
       "                             precision      recall    f1-score  PR-score  \\\n",
       "LE_all_cols                   0.272727  0.00504202  0.00990099  0.172544   \n",
       "LE_top_20_num                 0.833333  0.00840336   0.0166389  0.179318   \n",
       "LE_top_20_num_top_20_cat      0.833333  0.00840336   0.0166389  0.179293   \n",
       "LE_OHE_top_20_num_top_20_cat  0.428571  0.00504202  0.00996678  0.185482   \n",
       "\n",
       "                               ROC AUC  \n",
       "LE_all_cols                   0.723504  \n",
       "LE_top_20_num                 0.723015  \n",
       "LE_top_20_num_top_20_cat       0.72296  \n",
       "LE_OHE_top_20_num_top_20_cat  0.726427  "
      ]
     },
     "execution_count": 85,
     "metadata": {},
     "output_type": "execute_result"
    }
   ],
   "source": [
    "scores_hold_out"
   ]
  },
  {
   "cell_type": "markdown",
   "metadata": {},
   "source": [
    "* Применение One Hot Encoding ухудшило точность, recall, f1-score\tи улучшила интегральные показатели PR-score и ROC AUC;\n",
    "\n",
    "* В дальнейшем следует пробовать комбинации как с One Hot Encoding, так и без него\n",
    "* recall, f1-score и PR-score недопустимо малы, поэтому следует и дальше модифицировать алгоритм обработки данных."
   ]
  },
  {
   "cell_type": "markdown",
   "metadata": {},
   "source": [
    "### 2.4 Label Encoding и отбор топ-20 числовых и топ-20 категориальных признаков + Over Sampling"
   ]
  },
  {
   "cell_type": "code",
   "execution_count": 91,
   "metadata": {
    "collapsed": true
   },
   "outputs": [],
   "source": [
    "data = pd.read_csv('orange_small_churn_data.txt', header=0, sep=',')\n",
    "labels = pd.read_csv('orange_small_churn_labels.txt', header=None)\n",
    "labels.columns = ['target']\n",
    "labels = labels.apply(lambda x: x.astype(int))"
   ]
  },
  {
   "cell_type": "code",
   "execution_count": 92,
   "metadata": {
    "scrolled": true
   },
   "outputs": [
    {
     "name": "stdout",
     "output_type": "stream",
     "text": [
      "Dropping the null columns...\n",
      "Dropped num-type column: Var8\n",
      "Dropped num-type column: Var15\n",
      "Dropped num-type column: Var20\n",
      "Dropped num-type column: Var31\n",
      "Dropped num-type column: Var32\n",
      "Dropped num-type column: Var39\n",
      "Dropped num-type column: Var42\n",
      "Dropped num-type column: Var48\n",
      "Dropped num-type column: Var52\n",
      "Dropped num-type column: Var55\n",
      "Dropped num-type column: Var79\n",
      "Dropped num-type column: Var141\n",
      "Dropped num-type column: Var167\n",
      "Dropped num-type column: Var169\n",
      "Dropped num-type column: Var175\n",
      "Dropped num-type column: Var185\n",
      "Dropped cal-type column: Var209\n",
      "Dropped cal-type column: Var230\n",
      "Dropped 16 num-type cols and 2 cat-types cols\n",
      "Num-type feature have the indices from 0 up to 174.\n",
      "Cal-type feature have the indices from 175 up to 212.\n",
      "Splitting the numeric and categorical columns...\n",
      "Processing the numeric columns...\n",
      "Filling the absent values with the columns' means...\n",
      "Normalizing the data...\n",
      "Processing the categorical columns...\n",
      "Filling the absent categorical values...\n",
      "Applying a LabelEncoder to the categorical columns...\n",
      "Joining the numerical and categorical columns...\n",
      "OverSampling in progress...\n",
      "Done!\n"
     ]
    }
   ],
   "source": [
    "data_transformed = transform_data(data=data, y=labels, num_cols=num_top_20, cat_cols=cat_top_20, is_OverSampling=True)"
   ]
  },
  {
   "cell_type": "code",
   "execution_count": 95,
   "metadata": {},
   "outputs": [
    {
     "name": "stdout",
     "output_type": "stream",
     "text": [
      "0.7999945980985307\n",
      "0.20000540190146932\n",
      "0.7999945980985307\n",
      "0.20000540190146932\n"
     ]
    }
   ],
   "source": [
    "X_train, X_hold_out, y_train, y_hold_out = train_test_split(data_transformed['X'], \n",
    "                                                            data_transformed['y'], \n",
    "                                                            test_size=0.2, random_state=123, \n",
    "                                                            stratify=data_transformed['y'])\n",
    "print(X_train.shape[0]/float(data_transformed['X'].shape[0]))\n",
    "print(X_hold_out.shape[0]/float(data_transformed['X'].shape[0]))\n",
    "print(y_train.shape[0]/float(data_transformed['y'].shape[0]))\n",
    "print(y_hold_out.shape[0]/float(data_transformed['y'].shape[0]))"
   ]
  },
  {
   "cell_type": "code",
   "execution_count": 96,
   "metadata": {},
   "outputs": [
    {
     "name": "stdout",
     "output_type": "stream",
     "text": [
      "Calculating scores...\n",
      "Done!\n",
      "Calculating scores...\n",
      "Done!\n"
     ]
    },
    {
     "data": {
      "text/plain": [
       "True"
      ]
     },
     "execution_count": 96,
     "metadata": {},
     "output_type": "execute_result"
    }
   ],
   "source": [
    "gbc = GradientBoostingClassifier()\n",
    "get_scores(X_train, y_train, gbc, 'LE_top_20_num_top_20_cat_OverSampling', scores)\n",
    "gbc.fit(X_train, y_train)\n",
    "get_scores_hold_out(X_hold_out, y_hold_out, gbc, 'LE_top_20_num_top_20_cat_OverSampling', scores_hold_out)"
   ]
  },
  {
   "cell_type": "code",
   "execution_count": 97,
   "metadata": {},
   "outputs": [
    {
     "data": {
      "text/html": [
       "<div>\n",
       "<style>\n",
       "    .dataframe thead tr:only-child th {\n",
       "        text-align: right;\n",
       "    }\n",
       "\n",
       "    .dataframe thead th {\n",
       "        text-align: left;\n",
       "    }\n",
       "\n",
       "    .dataframe tbody tr th {\n",
       "        vertical-align: top;\n",
       "    }\n",
       "</style>\n",
       "<table border=\"1\" class=\"dataframe\">\n",
       "  <thead>\n",
       "    <tr style=\"text-align: right;\">\n",
       "      <th></th>\n",
       "      <th>precision test</th>\n",
       "      <th>precision train</th>\n",
       "      <th>recall test</th>\n",
       "      <th>recall train</th>\n",
       "      <th>f1-score test</th>\n",
       "      <th>f1-score train</th>\n",
       "      <th>PR-score test</th>\n",
       "      <th>PR-score train</th>\n",
       "      <th>ROC AUC test</th>\n",
       "      <th>ROC AUC train</th>\n",
       "    </tr>\n",
       "  </thead>\n",
       "  <tbody>\n",
       "    <tr>\n",
       "      <th>LE_all_cols</th>\n",
       "      <td>0.277857</td>\n",
       "      <td>0.954656</td>\n",
       "      <td>0.00462185</td>\n",
       "      <td>0.0173245</td>\n",
       "      <td>0.00908926</td>\n",
       "      <td>0.0340269</td>\n",
       "      <td>0.176807</td>\n",
       "      <td>0.300872</td>\n",
       "      <td>0.719549</td>\n",
       "      <td>0.780733</td>\n",
       "    </tr>\n",
       "    <tr>\n",
       "      <th>LE_top_20_num</th>\n",
       "      <td>0.498333</td>\n",
       "      <td>0.975909</td>\n",
       "      <td>0.00588059</td>\n",
       "      <td>0.0133346</td>\n",
       "      <td>0.0116149</td>\n",
       "      <td>0.0263056</td>\n",
       "      <td>0.178693</td>\n",
       "      <td>0.239818</td>\n",
       "      <td>0.712654</td>\n",
       "      <td>0.747665</td>\n",
       "    </tr>\n",
       "    <tr>\n",
       "      <th>LE_top_20_num_top_20_cat</th>\n",
       "      <td>0.481429</td>\n",
       "      <td>0.975909</td>\n",
       "      <td>0.00546042</td>\n",
       "      <td>0.0133346</td>\n",
       "      <td>0.0107919</td>\n",
       "      <td>0.0263056</td>\n",
       "      <td>0.178917</td>\n",
       "      <td>0.239818</td>\n",
       "      <td>0.71269</td>\n",
       "      <td>0.747665</td>\n",
       "    </tr>\n",
       "    <tr>\n",
       "      <th>LE_OHE_top_20_num_top_20_cat</th>\n",
       "      <td>0.381602</td>\n",
       "      <td>0.929314</td>\n",
       "      <td>0.0084016</td>\n",
       "      <td>0.0140699</td>\n",
       "      <td>0.0164207</td>\n",
       "      <td>0.0277036</td>\n",
       "      <td>0.197827</td>\n",
       "      <td>0.367195</td>\n",
       "      <td>0.72685</td>\n",
       "      <td>0.815824</td>\n",
       "    </tr>\n",
       "    <tr>\n",
       "      <th>LE_top_20_num_top_20_cat_OverSampling</th>\n",
       "      <td>0.655916</td>\n",
       "      <td>0.659534</td>\n",
       "      <td>0.714946</td>\n",
       "      <td>0.718736</td>\n",
       "      <td>0.684114</td>\n",
       "      <td>0.687837</td>\n",
       "      <td>0.719143</td>\n",
       "      <td>0.724094</td>\n",
       "      <td>0.739909</td>\n",
       "      <td>0.744958</td>\n",
       "    </tr>\n",
       "  </tbody>\n",
       "</table>\n",
       "</div>"
      ],
      "text/plain": [
       "                                      precision test precision train  \\\n",
       "LE_all_cols                                 0.277857        0.954656   \n",
       "LE_top_20_num                               0.498333        0.975909   \n",
       "LE_top_20_num_top_20_cat                    0.481429        0.975909   \n",
       "LE_OHE_top_20_num_top_20_cat                0.381602        0.929314   \n",
       "LE_top_20_num_top_20_cat_OverSampling       0.655916        0.659534   \n",
       "\n",
       "                                      recall test recall train f1-score test  \\\n",
       "LE_all_cols                            0.00462185    0.0173245    0.00908926   \n",
       "LE_top_20_num                          0.00588059    0.0133346     0.0116149   \n",
       "LE_top_20_num_top_20_cat               0.00546042    0.0133346     0.0107919   \n",
       "LE_OHE_top_20_num_top_20_cat            0.0084016    0.0140699     0.0164207   \n",
       "LE_top_20_num_top_20_cat_OverSampling    0.714946     0.718736      0.684114   \n",
       "\n",
       "                                      f1-score train PR-score test  \\\n",
       "LE_all_cols                                0.0340269      0.176807   \n",
       "LE_top_20_num                              0.0263056      0.178693   \n",
       "LE_top_20_num_top_20_cat                   0.0263056      0.178917   \n",
       "LE_OHE_top_20_num_top_20_cat               0.0277036      0.197827   \n",
       "LE_top_20_num_top_20_cat_OverSampling       0.687837      0.719143   \n",
       "\n",
       "                                      PR-score train ROC AUC test  \\\n",
       "LE_all_cols                                 0.300872     0.719549   \n",
       "LE_top_20_num                               0.239818     0.712654   \n",
       "LE_top_20_num_top_20_cat                    0.239818      0.71269   \n",
       "LE_OHE_top_20_num_top_20_cat                0.367195      0.72685   \n",
       "LE_top_20_num_top_20_cat_OverSampling       0.724094     0.739909   \n",
       "\n",
       "                                      ROC AUC train  \n",
       "LE_all_cols                                0.780733  \n",
       "LE_top_20_num                              0.747665  \n",
       "LE_top_20_num_top_20_cat                   0.747665  \n",
       "LE_OHE_top_20_num_top_20_cat               0.815824  \n",
       "LE_top_20_num_top_20_cat_OverSampling      0.744958  "
      ]
     },
     "execution_count": 97,
     "metadata": {},
     "output_type": "execute_result"
    }
   ],
   "source": [
    "scores"
   ]
  },
  {
   "cell_type": "code",
   "execution_count": 98,
   "metadata": {},
   "outputs": [
    {
     "data": {
      "text/html": [
       "<div>\n",
       "<style>\n",
       "    .dataframe thead tr:only-child th {\n",
       "        text-align: right;\n",
       "    }\n",
       "\n",
       "    .dataframe thead th {\n",
       "        text-align: left;\n",
       "    }\n",
       "\n",
       "    .dataframe tbody tr th {\n",
       "        vertical-align: top;\n",
       "    }\n",
       "</style>\n",
       "<table border=\"1\" class=\"dataframe\">\n",
       "  <thead>\n",
       "    <tr style=\"text-align: right;\">\n",
       "      <th></th>\n",
       "      <th>precision</th>\n",
       "      <th>recall</th>\n",
       "      <th>f1-score</th>\n",
       "      <th>PR-score</th>\n",
       "      <th>ROC AUC</th>\n",
       "    </tr>\n",
       "  </thead>\n",
       "  <tbody>\n",
       "    <tr>\n",
       "      <th>LE_all_cols</th>\n",
       "      <td>0.272727</td>\n",
       "      <td>0.00504202</td>\n",
       "      <td>0.00990099</td>\n",
       "      <td>0.172544</td>\n",
       "      <td>0.723504</td>\n",
       "    </tr>\n",
       "    <tr>\n",
       "      <th>LE_top_20_num</th>\n",
       "      <td>0.833333</td>\n",
       "      <td>0.00840336</td>\n",
       "      <td>0.0166389</td>\n",
       "      <td>0.179318</td>\n",
       "      <td>0.723015</td>\n",
       "    </tr>\n",
       "    <tr>\n",
       "      <th>LE_top_20_num_top_20_cat</th>\n",
       "      <td>0.833333</td>\n",
       "      <td>0.00840336</td>\n",
       "      <td>0.0166389</td>\n",
       "      <td>0.179293</td>\n",
       "      <td>0.72296</td>\n",
       "    </tr>\n",
       "    <tr>\n",
       "      <th>LE_OHE_top_20_num_top_20_cat</th>\n",
       "      <td>0.428571</td>\n",
       "      <td>0.00504202</td>\n",
       "      <td>0.00996678</td>\n",
       "      <td>0.185482</td>\n",
       "      <td>0.726427</td>\n",
       "    </tr>\n",
       "    <tr>\n",
       "      <th>LE_top_20_num_top_20_cat_OverSampling</th>\n",
       "      <td>0.663269</td>\n",
       "      <td>0.729372</td>\n",
       "      <td>0.694752</td>\n",
       "      <td>0.724446</td>\n",
       "      <td>0.746608</td>\n",
       "    </tr>\n",
       "  </tbody>\n",
       "</table>\n",
       "</div>"
      ],
      "text/plain": [
       "                                      precision      recall    f1-score  \\\n",
       "LE_all_cols                            0.272727  0.00504202  0.00990099   \n",
       "LE_top_20_num                          0.833333  0.00840336   0.0166389   \n",
       "LE_top_20_num_top_20_cat               0.833333  0.00840336   0.0166389   \n",
       "LE_OHE_top_20_num_top_20_cat           0.428571  0.00504202  0.00996678   \n",
       "LE_top_20_num_top_20_cat_OverSampling  0.663269    0.729372    0.694752   \n",
       "\n",
       "                                       PR-score   ROC AUC  \n",
       "LE_all_cols                            0.172544  0.723504  \n",
       "LE_top_20_num                          0.179318  0.723015  \n",
       "LE_top_20_num_top_20_cat               0.179293   0.72296  \n",
       "LE_OHE_top_20_num_top_20_cat           0.185482  0.726427  \n",
       "LE_top_20_num_top_20_cat_OverSampling  0.724446  0.746608  "
      ]
     },
     "execution_count": 98,
     "metadata": {},
     "output_type": "execute_result"
    }
   ],
   "source": [
    "scores_hold_out"
   ]
  },
  {
   "cell_type": "markdown",
   "metadata": {},
   "source": [
    "* Значительно улучшились все показатели, особенно recall, f1-score и PR-score, что важно, учитывая несбалансированный характер исходных данных;"
   ]
  },
  {
   "cell_type": "markdown",
   "metadata": {},
   "source": [
    "### 2.5 Label Encoding + One Hot Encoding + отбор топ-20 числовых и топ-20 категориальных признаков + Over Sampling"
   ]
  },
  {
   "cell_type": "code",
   "execution_count": 99,
   "metadata": {
    "collapsed": true
   },
   "outputs": [],
   "source": [
    "data = pd.read_csv('orange_small_churn_data.txt', header=0, sep=',')\n",
    "labels = pd.read_csv('orange_small_churn_labels.txt', header=None)\n",
    "labels.columns = ['target']\n",
    "labels = labels.apply(lambda x: x.astype(int))"
   ]
  },
  {
   "cell_type": "code",
   "execution_count": 100,
   "metadata": {
    "scrolled": true
   },
   "outputs": [
    {
     "name": "stdout",
     "output_type": "stream",
     "text": [
      "Dropping the null columns...\n",
      "Dropped num-type column: Var8\n",
      "Dropped num-type column: Var15\n",
      "Dropped num-type column: Var20\n",
      "Dropped num-type column: Var31\n",
      "Dropped num-type column: Var32\n",
      "Dropped num-type column: Var39\n",
      "Dropped num-type column: Var42\n",
      "Dropped num-type column: Var48\n",
      "Dropped num-type column: Var52\n",
      "Dropped num-type column: Var55\n",
      "Dropped num-type column: Var79\n",
      "Dropped num-type column: Var141\n",
      "Dropped num-type column: Var167\n",
      "Dropped num-type column: Var169\n",
      "Dropped num-type column: Var175\n",
      "Dropped num-type column: Var185\n",
      "Dropped cal-type column: Var209\n",
      "Dropped cal-type column: Var230\n",
      "Dropped 16 num-type cols and 2 cat-types cols\n",
      "Num-type feature have the indices from 0 up to 174.\n",
      "Cal-type feature have the indices from 175 up to 212.\n",
      "Splitting the numeric and categorical columns...\n",
      "Processing the numeric columns...\n",
      "Filling the absent values with the columns' means...\n",
      "Normalizing the data...\n",
      "Processing the categorical columns...\n",
      "Filling the absent categorical values...\n",
      "Applying a LabelEncoder to the categorical columns...\n",
      "Applying a OneHotEncoder to categorical columns...\n",
      "Joining the numerical and categorical columns...\n",
      "OverSampling in progress...\n",
      "Done!\n"
     ]
    }
   ],
   "source": [
    "data_transformed = transform_data(data=data, y=labels, num_cols=num_top_20, cat_cols=cat_top_20, \n",
    "                                  is_OverSampling=True, is_OHE=True)"
   ]
  },
  {
   "cell_type": "code",
   "execution_count": 101,
   "metadata": {},
   "outputs": [
    {
     "name": "stdout",
     "output_type": "stream",
     "text": [
      "0.7999945980985307\n",
      "0.20000540190146932\n",
      "0.7999945980985307\n",
      "0.20000540190146932\n"
     ]
    }
   ],
   "source": [
    "X_train, X_hold_out, y_train, y_hold_out = train_test_split(data_transformed['X'], \n",
    "                                                            data_transformed['y'], \n",
    "                                                            test_size=0.2, random_state=123, \n",
    "                                                            stratify=data_transformed['y'])\n",
    "print(X_train.shape[0]/float(data_transformed['X'].shape[0]))\n",
    "print(X_hold_out.shape[0]/float(data_transformed['X'].shape[0]))\n",
    "print(y_train.shape[0]/float(data_transformed['y'].shape[0]))\n",
    "print(y_hold_out.shape[0]/float(data_transformed['y'].shape[0]))"
   ]
  },
  {
   "cell_type": "code",
   "execution_count": 102,
   "metadata": {},
   "outputs": [
    {
     "name": "stdout",
     "output_type": "stream",
     "text": [
      "Calculating scores...\n",
      "Done!\n",
      "Calculating scores...\n",
      "Done!\n"
     ]
    },
    {
     "data": {
      "text/plain": [
       "True"
      ]
     },
     "execution_count": 102,
     "metadata": {},
     "output_type": "execute_result"
    }
   ],
   "source": [
    "gbc = GradientBoostingClassifier()\n",
    "get_scores(X_train, y_train, gbc, 'LE_OHE_top_20_num_top_20_cat_OverSampling', scores)\n",
    "gbc.fit(X_train, y_train)\n",
    "get_scores_hold_out(X_hold_out, y_hold_out, gbc, 'LE_OHE_top_20_num_top_20_cat_OverSampling', scores_hold_out)"
   ]
  },
  {
   "cell_type": "code",
   "execution_count": 103,
   "metadata": {},
   "outputs": [
    {
     "data": {
      "text/html": [
       "<div>\n",
       "<style>\n",
       "    .dataframe thead tr:only-child th {\n",
       "        text-align: right;\n",
       "    }\n",
       "\n",
       "    .dataframe thead th {\n",
       "        text-align: left;\n",
       "    }\n",
       "\n",
       "    .dataframe tbody tr th {\n",
       "        vertical-align: top;\n",
       "    }\n",
       "</style>\n",
       "<table border=\"1\" class=\"dataframe\">\n",
       "  <thead>\n",
       "    <tr style=\"text-align: right;\">\n",
       "      <th></th>\n",
       "      <th>precision test</th>\n",
       "      <th>precision train</th>\n",
       "      <th>recall test</th>\n",
       "      <th>recall train</th>\n",
       "      <th>f1-score test</th>\n",
       "      <th>f1-score train</th>\n",
       "      <th>PR-score test</th>\n",
       "      <th>PR-score train</th>\n",
       "      <th>ROC AUC test</th>\n",
       "      <th>ROC AUC train</th>\n",
       "    </tr>\n",
       "  </thead>\n",
       "  <tbody>\n",
       "    <tr>\n",
       "      <th>LE_all_cols</th>\n",
       "      <td>0.277857</td>\n",
       "      <td>0.954656</td>\n",
       "      <td>0.00462185</td>\n",
       "      <td>0.0173245</td>\n",
       "      <td>0.00908926</td>\n",
       "      <td>0.0340269</td>\n",
       "      <td>0.176807</td>\n",
       "      <td>0.300872</td>\n",
       "      <td>0.719549</td>\n",
       "      <td>0.780733</td>\n",
       "    </tr>\n",
       "    <tr>\n",
       "      <th>LE_top_20_num</th>\n",
       "      <td>0.498333</td>\n",
       "      <td>0.975909</td>\n",
       "      <td>0.00588059</td>\n",
       "      <td>0.0133346</td>\n",
       "      <td>0.0116149</td>\n",
       "      <td>0.0263056</td>\n",
       "      <td>0.178693</td>\n",
       "      <td>0.239818</td>\n",
       "      <td>0.712654</td>\n",
       "      <td>0.747665</td>\n",
       "    </tr>\n",
       "    <tr>\n",
       "      <th>LE_top_20_num_top_20_cat</th>\n",
       "      <td>0.481429</td>\n",
       "      <td>0.975909</td>\n",
       "      <td>0.00546042</td>\n",
       "      <td>0.0133346</td>\n",
       "      <td>0.0107919</td>\n",
       "      <td>0.0263056</td>\n",
       "      <td>0.178917</td>\n",
       "      <td>0.239818</td>\n",
       "      <td>0.71269</td>\n",
       "      <td>0.747665</td>\n",
       "    </tr>\n",
       "    <tr>\n",
       "      <th>LE_OHE_top_20_num_top_20_cat</th>\n",
       "      <td>0.381602</td>\n",
       "      <td>0.929314</td>\n",
       "      <td>0.0084016</td>\n",
       "      <td>0.0140699</td>\n",
       "      <td>0.0164207</td>\n",
       "      <td>0.0277036</td>\n",
       "      <td>0.197827</td>\n",
       "      <td>0.367195</td>\n",
       "      <td>0.72685</td>\n",
       "      <td>0.815824</td>\n",
       "    </tr>\n",
       "    <tr>\n",
       "      <th>LE_top_20_num_top_20_cat_OverSampling</th>\n",
       "      <td>0.655916</td>\n",
       "      <td>0.659534</td>\n",
       "      <td>0.714946</td>\n",
       "      <td>0.718736</td>\n",
       "      <td>0.684114</td>\n",
       "      <td>0.687837</td>\n",
       "      <td>0.719143</td>\n",
       "      <td>0.724094</td>\n",
       "      <td>0.739909</td>\n",
       "      <td>0.744958</td>\n",
       "    </tr>\n",
       "    <tr>\n",
       "      <th>LE_OHE_top_20_num_top_20_cat_OverSampling</th>\n",
       "      <td>0.685121</td>\n",
       "      <td>0.690455</td>\n",
       "      <td>0.704615</td>\n",
       "      <td>0.71217</td>\n",
       "      <td>0.694729</td>\n",
       "      <td>0.701142</td>\n",
       "      <td>0.749707</td>\n",
       "      <td>0.759348</td>\n",
       "      <td>0.766268</td>\n",
       "      <td>0.774798</td>\n",
       "    </tr>\n",
       "  </tbody>\n",
       "</table>\n",
       "</div>"
      ],
      "text/plain": [
       "                                          precision test precision train  \\\n",
       "LE_all_cols                                     0.277857        0.954656   \n",
       "LE_top_20_num                                   0.498333        0.975909   \n",
       "LE_top_20_num_top_20_cat                        0.481429        0.975909   \n",
       "LE_OHE_top_20_num_top_20_cat                    0.381602        0.929314   \n",
       "LE_top_20_num_top_20_cat_OverSampling           0.655916        0.659534   \n",
       "LE_OHE_top_20_num_top_20_cat_OverSampling       0.685121        0.690455   \n",
       "\n",
       "                                          recall test recall train  \\\n",
       "LE_all_cols                                0.00462185    0.0173245   \n",
       "LE_top_20_num                              0.00588059    0.0133346   \n",
       "LE_top_20_num_top_20_cat                   0.00546042    0.0133346   \n",
       "LE_OHE_top_20_num_top_20_cat                0.0084016    0.0140699   \n",
       "LE_top_20_num_top_20_cat_OverSampling        0.714946     0.718736   \n",
       "LE_OHE_top_20_num_top_20_cat_OverSampling    0.704615      0.71217   \n",
       "\n",
       "                                          f1-score test f1-score train  \\\n",
       "LE_all_cols                                  0.00908926      0.0340269   \n",
       "LE_top_20_num                                 0.0116149      0.0263056   \n",
       "LE_top_20_num_top_20_cat                      0.0107919      0.0263056   \n",
       "LE_OHE_top_20_num_top_20_cat                  0.0164207      0.0277036   \n",
       "LE_top_20_num_top_20_cat_OverSampling          0.684114       0.687837   \n",
       "LE_OHE_top_20_num_top_20_cat_OverSampling      0.694729       0.701142   \n",
       "\n",
       "                                          PR-score test PR-score train  \\\n",
       "LE_all_cols                                    0.176807       0.300872   \n",
       "LE_top_20_num                                  0.178693       0.239818   \n",
       "LE_top_20_num_top_20_cat                       0.178917       0.239818   \n",
       "LE_OHE_top_20_num_top_20_cat                   0.197827       0.367195   \n",
       "LE_top_20_num_top_20_cat_OverSampling          0.719143       0.724094   \n",
       "LE_OHE_top_20_num_top_20_cat_OverSampling      0.749707       0.759348   \n",
       "\n",
       "                                          ROC AUC test ROC AUC train  \n",
       "LE_all_cols                                   0.719549      0.780733  \n",
       "LE_top_20_num                                 0.712654      0.747665  \n",
       "LE_top_20_num_top_20_cat                       0.71269      0.747665  \n",
       "LE_OHE_top_20_num_top_20_cat                   0.72685      0.815824  \n",
       "LE_top_20_num_top_20_cat_OverSampling         0.739909      0.744958  \n",
       "LE_OHE_top_20_num_top_20_cat_OverSampling     0.766268      0.774798  "
      ]
     },
     "execution_count": 103,
     "metadata": {},
     "output_type": "execute_result"
    }
   ],
   "source": [
    "scores"
   ]
  },
  {
   "cell_type": "code",
   "execution_count": 104,
   "metadata": {},
   "outputs": [
    {
     "data": {
      "text/html": [
       "<div>\n",
       "<style>\n",
       "    .dataframe thead tr:only-child th {\n",
       "        text-align: right;\n",
       "    }\n",
       "\n",
       "    .dataframe thead th {\n",
       "        text-align: left;\n",
       "    }\n",
       "\n",
       "    .dataframe tbody tr th {\n",
       "        vertical-align: top;\n",
       "    }\n",
       "</style>\n",
       "<table border=\"1\" class=\"dataframe\">\n",
       "  <thead>\n",
       "    <tr style=\"text-align: right;\">\n",
       "      <th></th>\n",
       "      <th>precision</th>\n",
       "      <th>recall</th>\n",
       "      <th>f1-score</th>\n",
       "      <th>PR-score</th>\n",
       "      <th>ROC AUC</th>\n",
       "    </tr>\n",
       "  </thead>\n",
       "  <tbody>\n",
       "    <tr>\n",
       "      <th>LE_all_cols</th>\n",
       "      <td>0.272727</td>\n",
       "      <td>0.00504202</td>\n",
       "      <td>0.00990099</td>\n",
       "      <td>0.172544</td>\n",
       "      <td>0.723504</td>\n",
       "    </tr>\n",
       "    <tr>\n",
       "      <th>LE_top_20_num</th>\n",
       "      <td>0.833333</td>\n",
       "      <td>0.00840336</td>\n",
       "      <td>0.0166389</td>\n",
       "      <td>0.179318</td>\n",
       "      <td>0.723015</td>\n",
       "    </tr>\n",
       "    <tr>\n",
       "      <th>LE_top_20_num_top_20_cat</th>\n",
       "      <td>0.833333</td>\n",
       "      <td>0.00840336</td>\n",
       "      <td>0.0166389</td>\n",
       "      <td>0.179293</td>\n",
       "      <td>0.72296</td>\n",
       "    </tr>\n",
       "    <tr>\n",
       "      <th>LE_OHE_top_20_num_top_20_cat</th>\n",
       "      <td>0.428571</td>\n",
       "      <td>0.00504202</td>\n",
       "      <td>0.00996678</td>\n",
       "      <td>0.185482</td>\n",
       "      <td>0.726427</td>\n",
       "    </tr>\n",
       "    <tr>\n",
       "      <th>LE_top_20_num_top_20_cat_OverSampling</th>\n",
       "      <td>0.663269</td>\n",
       "      <td>0.729372</td>\n",
       "      <td>0.694752</td>\n",
       "      <td>0.724446</td>\n",
       "      <td>0.746608</td>\n",
       "    </tr>\n",
       "    <tr>\n",
       "      <th>LE_OHE_top_20_num_top_20_cat_OverSampling</th>\n",
       "      <td>0.692571</td>\n",
       "      <td>0.711276</td>\n",
       "      <td>0.701799</td>\n",
       "      <td>0.757314</td>\n",
       "      <td>0.772186</td>\n",
       "    </tr>\n",
       "  </tbody>\n",
       "</table>\n",
       "</div>"
      ],
      "text/plain": [
       "                                          precision      recall    f1-score  \\\n",
       "LE_all_cols                                0.272727  0.00504202  0.00990099   \n",
       "LE_top_20_num                              0.833333  0.00840336   0.0166389   \n",
       "LE_top_20_num_top_20_cat                   0.833333  0.00840336   0.0166389   \n",
       "LE_OHE_top_20_num_top_20_cat               0.428571  0.00504202  0.00996678   \n",
       "LE_top_20_num_top_20_cat_OverSampling      0.663269    0.729372    0.694752   \n",
       "LE_OHE_top_20_num_top_20_cat_OverSampling  0.692571    0.711276    0.701799   \n",
       "\n",
       "                                           PR-score   ROC AUC  \n",
       "LE_all_cols                                0.172544  0.723504  \n",
       "LE_top_20_num                              0.179318  0.723015  \n",
       "LE_top_20_num_top_20_cat                   0.179293   0.72296  \n",
       "LE_OHE_top_20_num_top_20_cat               0.185482  0.726427  \n",
       "LE_top_20_num_top_20_cat_OverSampling      0.724446  0.746608  \n",
       "LE_OHE_top_20_num_top_20_cat_OverSampling  0.757314  0.772186  "
      ]
     },
     "execution_count": 104,
     "metadata": {},
     "output_type": "execute_result"
    }
   ],
   "source": [
    "scores_hold_out"
   ]
  },
  {
   "cell_type": "markdown",
   "metadata": {},
   "source": [
    "* Улучшились все показатели, как recall и f1-score, так и интергральные ROC AUC и PR-score"
   ]
  },
  {
   "cell_type": "markdown",
   "metadata": {},
   "source": [
    "### 2.6 Настройка классификатора"
   ]
  },
  {
   "cell_type": "code",
   "execution_count": 105,
   "metadata": {},
   "outputs": [
    {
     "name": "stdout",
     "output_type": "stream",
     "text": [
      "Calculating scores...\n",
      "Done!\n",
      "Calculating scores...\n",
      "Done!\n"
     ]
    },
    {
     "data": {
      "text/plain": [
       "True"
      ]
     },
     "execution_count": 105,
     "metadata": {},
     "output_type": "execute_result"
    }
   ],
   "source": [
    "# Уменьшение скорости обучения\n",
    "\n",
    "gbc = GradientBoostingClassifier(learning_rate=0.05)\n",
    "get_scores(X_train, y_train, gbc, 'LE_OHE_top_20_num_top_20_cat_OverSampling_lr0.05', scores)\n",
    "gbc.fit(X_train, y_train)\n",
    "get_scores_hold_out(X_hold_out, y_hold_out, gbc, 'LE_OHE_top_20_num_top_20_cat_OverSampling_lr0.05', \n",
    "                    scores_hold_out)"
   ]
  },
  {
   "cell_type": "code",
   "execution_count": 106,
   "metadata": {},
   "outputs": [
    {
     "name": "stdout",
     "output_type": "stream",
     "text": [
      "Calculating scores...\n",
      "Done!\n",
      "Calculating scores...\n",
      "Done!\n"
     ]
    },
    {
     "data": {
      "text/plain": [
       "True"
      ]
     },
     "execution_count": 106,
     "metadata": {},
     "output_type": "execute_result"
    }
   ],
   "source": [
    "# Уменьшение доли элементов, используемых в обучении, -> стохастический градиентный спуск и уменьшение дисперсии\n",
    "\n",
    "gbc = GradientBoostingClassifier(subsample=0.5)\n",
    "get_scores(X_train, y_train, gbc, 'LE_OHE_top_20_num_top_20_cat_OverSampling_ss0.5', scores)\n",
    "gbc.fit(X_train, y_train)\n",
    "get_scores_hold_out(X_hold_out, y_hold_out, gbc, 'LE_OHE_top_20_num_top_20_cat_OverSampling_ss0.5', scores_hold_out)"
   ]
  },
  {
   "cell_type": "code",
   "execution_count": 107,
   "metadata": {},
   "outputs": [
    {
     "name": "stdout",
     "output_type": "stream",
     "text": [
      "Calculating scores...\n",
      "Done!\n",
      "Calculating scores...\n",
      "Done!\n"
     ]
    },
    {
     "data": {
      "text/plain": [
       "True"
      ]
     },
     "execution_count": 107,
     "metadata": {},
     "output_type": "execute_result"
    }
   ],
   "source": [
    "# Комбинация уменьшения скорости обучения и доли элементов, используемых в обучении\n",
    "\n",
    "gbc = GradientBoostingClassifier(learning_rate=0.05, subsample=0.5)\n",
    "get_scores(X_train, y_train, gbc, 'LE_OHE_top_20_num_top_20_cat_OverSampling_lr0.05_ss0.5', scores)\n",
    "gbc.fit(X_train, y_train)\n",
    "get_scores_hold_out(X_hold_out, y_hold_out, gbc, 'LE_OHE_top_20_num_top_20_cat_OverSampling_lr0.05_ss0.5', \n",
    "                    scores_hold_out)"
   ]
  },
  {
   "cell_type": "code",
   "execution_count": 108,
   "metadata": {},
   "outputs": [
    {
     "data": {
      "text/html": [
       "<div>\n",
       "<style>\n",
       "    .dataframe thead tr:only-child th {\n",
       "        text-align: right;\n",
       "    }\n",
       "\n",
       "    .dataframe thead th {\n",
       "        text-align: left;\n",
       "    }\n",
       "\n",
       "    .dataframe tbody tr th {\n",
       "        vertical-align: top;\n",
       "    }\n",
       "</style>\n",
       "<table border=\"1\" class=\"dataframe\">\n",
       "  <thead>\n",
       "    <tr style=\"text-align: right;\">\n",
       "      <th></th>\n",
       "      <th>precision test</th>\n",
       "      <th>precision train</th>\n",
       "      <th>recall test</th>\n",
       "      <th>recall train</th>\n",
       "      <th>f1-score test</th>\n",
       "      <th>f1-score train</th>\n",
       "      <th>PR-score test</th>\n",
       "      <th>PR-score train</th>\n",
       "      <th>ROC AUC test</th>\n",
       "      <th>ROC AUC train</th>\n",
       "    </tr>\n",
       "  </thead>\n",
       "  <tbody>\n",
       "    <tr>\n",
       "      <th>LE_all_cols</th>\n",
       "      <td>0.277857</td>\n",
       "      <td>0.954656</td>\n",
       "      <td>0.00462185</td>\n",
       "      <td>0.0173245</td>\n",
       "      <td>0.00908926</td>\n",
       "      <td>0.0340269</td>\n",
       "      <td>0.176807</td>\n",
       "      <td>0.300872</td>\n",
       "      <td>0.719549</td>\n",
       "      <td>0.780733</td>\n",
       "    </tr>\n",
       "    <tr>\n",
       "      <th>LE_top_20_num</th>\n",
       "      <td>0.498333</td>\n",
       "      <td>0.975909</td>\n",
       "      <td>0.00588059</td>\n",
       "      <td>0.0133346</td>\n",
       "      <td>0.0116149</td>\n",
       "      <td>0.0263056</td>\n",
       "      <td>0.178693</td>\n",
       "      <td>0.239818</td>\n",
       "      <td>0.712654</td>\n",
       "      <td>0.747665</td>\n",
       "    </tr>\n",
       "    <tr>\n",
       "      <th>LE_top_20_num_top_20_cat</th>\n",
       "      <td>0.481429</td>\n",
       "      <td>0.975909</td>\n",
       "      <td>0.00546042</td>\n",
       "      <td>0.0133346</td>\n",
       "      <td>0.0107919</td>\n",
       "      <td>0.0263056</td>\n",
       "      <td>0.178917</td>\n",
       "      <td>0.239818</td>\n",
       "      <td>0.71269</td>\n",
       "      <td>0.747665</td>\n",
       "    </tr>\n",
       "    <tr>\n",
       "      <th>LE_OHE_top_20_num_top_20_cat</th>\n",
       "      <td>0.381602</td>\n",
       "      <td>0.929314</td>\n",
       "      <td>0.0084016</td>\n",
       "      <td>0.0140699</td>\n",
       "      <td>0.0164207</td>\n",
       "      <td>0.0277036</td>\n",
       "      <td>0.197827</td>\n",
       "      <td>0.367195</td>\n",
       "      <td>0.72685</td>\n",
       "      <td>0.815824</td>\n",
       "    </tr>\n",
       "    <tr>\n",
       "      <th>LE_top_20_num_top_20_cat_OverSampling</th>\n",
       "      <td>0.655916</td>\n",
       "      <td>0.659534</td>\n",
       "      <td>0.714946</td>\n",
       "      <td>0.718736</td>\n",
       "      <td>0.684114</td>\n",
       "      <td>0.687837</td>\n",
       "      <td>0.719143</td>\n",
       "      <td>0.724094</td>\n",
       "      <td>0.739909</td>\n",
       "      <td>0.744958</td>\n",
       "    </tr>\n",
       "    <tr>\n",
       "      <th>LE_OHE_top_20_num_top_20_cat_OverSampling</th>\n",
       "      <td>0.685121</td>\n",
       "      <td>0.690455</td>\n",
       "      <td>0.704615</td>\n",
       "      <td>0.71217</td>\n",
       "      <td>0.694729</td>\n",
       "      <td>0.701142</td>\n",
       "      <td>0.749707</td>\n",
       "      <td>0.759348</td>\n",
       "      <td>0.766268</td>\n",
       "      <td>0.774798</td>\n",
       "    </tr>\n",
       "    <tr>\n",
       "      <th>LE_OHE_top_20_num_top_20_cat_OverSampling_lr0.05</th>\n",
       "      <td>0.672929</td>\n",
       "      <td>0.67755</td>\n",
       "      <td>0.699551</td>\n",
       "      <td>0.704084</td>\n",
       "      <td>0.68598</td>\n",
       "      <td>0.69056</td>\n",
       "      <td>0.738607</td>\n",
       "      <td>0.745166</td>\n",
       "      <td>0.752393</td>\n",
       "      <td>0.757689</td>\n",
       "    </tr>\n",
       "    <tr>\n",
       "      <th>LE_OHE_top_20_num_top_20_cat_OverSampling_ss0.5</th>\n",
       "      <td>0.687044</td>\n",
       "      <td>0.692741</td>\n",
       "      <td>0.706709</td>\n",
       "      <td>0.710963</td>\n",
       "      <td>0.696735</td>\n",
       "      <td>0.701731</td>\n",
       "      <td>0.752413</td>\n",
       "      <td>0.761964</td>\n",
       "      <td>0.770079</td>\n",
       "      <td>0.778302</td>\n",
       "    </tr>\n",
       "    <tr>\n",
       "      <th>LE_OHE_top_20_num_top_20_cat_OverSampling_lr0.05_ss0.5</th>\n",
       "      <td>0.673707</td>\n",
       "      <td>0.678013</td>\n",
       "      <td>0.697897</td>\n",
       "      <td>0.703476</td>\n",
       "      <td>0.685581</td>\n",
       "      <td>0.690505</td>\n",
       "      <td>0.740598</td>\n",
       "      <td>0.746502</td>\n",
       "      <td>0.753691</td>\n",
       "      <td>0.758713</td>\n",
       "    </tr>\n",
       "  </tbody>\n",
       "</table>\n",
       "</div>"
      ],
      "text/plain": [
       "                                                   precision test  \\\n",
       "LE_all_cols                                              0.277857   \n",
       "LE_top_20_num                                            0.498333   \n",
       "LE_top_20_num_top_20_cat                                 0.481429   \n",
       "LE_OHE_top_20_num_top_20_cat                             0.381602   \n",
       "LE_top_20_num_top_20_cat_OverSampling                    0.655916   \n",
       "LE_OHE_top_20_num_top_20_cat_OverSampling                0.685121   \n",
       "LE_OHE_top_20_num_top_20_cat_OverSampling_lr0.05         0.672929   \n",
       "LE_OHE_top_20_num_top_20_cat_OverSampling_ss0.5          0.687044   \n",
       "LE_OHE_top_20_num_top_20_cat_OverSampling_lr0.0...       0.673707   \n",
       "\n",
       "                                                   precision train  \\\n",
       "LE_all_cols                                               0.954656   \n",
       "LE_top_20_num                                             0.975909   \n",
       "LE_top_20_num_top_20_cat                                  0.975909   \n",
       "LE_OHE_top_20_num_top_20_cat                              0.929314   \n",
       "LE_top_20_num_top_20_cat_OverSampling                     0.659534   \n",
       "LE_OHE_top_20_num_top_20_cat_OverSampling                 0.690455   \n",
       "LE_OHE_top_20_num_top_20_cat_OverSampling_lr0.05           0.67755   \n",
       "LE_OHE_top_20_num_top_20_cat_OverSampling_ss0.5           0.692741   \n",
       "LE_OHE_top_20_num_top_20_cat_OverSampling_lr0.0...        0.678013   \n",
       "\n",
       "                                                   recall test recall train  \\\n",
       "LE_all_cols                                         0.00462185    0.0173245   \n",
       "LE_top_20_num                                       0.00588059    0.0133346   \n",
       "LE_top_20_num_top_20_cat                            0.00546042    0.0133346   \n",
       "LE_OHE_top_20_num_top_20_cat                         0.0084016    0.0140699   \n",
       "LE_top_20_num_top_20_cat_OverSampling                 0.714946     0.718736   \n",
       "LE_OHE_top_20_num_top_20_cat_OverSampling             0.704615      0.71217   \n",
       "LE_OHE_top_20_num_top_20_cat_OverSampling_lr0.05      0.699551     0.704084   \n",
       "LE_OHE_top_20_num_top_20_cat_OverSampling_ss0.5       0.706709     0.710963   \n",
       "LE_OHE_top_20_num_top_20_cat_OverSampling_lr0.0...    0.697897     0.703476   \n",
       "\n",
       "                                                   f1-score test  \\\n",
       "LE_all_cols                                           0.00908926   \n",
       "LE_top_20_num                                          0.0116149   \n",
       "LE_top_20_num_top_20_cat                               0.0107919   \n",
       "LE_OHE_top_20_num_top_20_cat                           0.0164207   \n",
       "LE_top_20_num_top_20_cat_OverSampling                   0.684114   \n",
       "LE_OHE_top_20_num_top_20_cat_OverSampling               0.694729   \n",
       "LE_OHE_top_20_num_top_20_cat_OverSampling_lr0.05         0.68598   \n",
       "LE_OHE_top_20_num_top_20_cat_OverSampling_ss0.5         0.696735   \n",
       "LE_OHE_top_20_num_top_20_cat_OverSampling_lr0.0...      0.685581   \n",
       "\n",
       "                                                   f1-score train  \\\n",
       "LE_all_cols                                             0.0340269   \n",
       "LE_top_20_num                                           0.0263056   \n",
       "LE_top_20_num_top_20_cat                                0.0263056   \n",
       "LE_OHE_top_20_num_top_20_cat                            0.0277036   \n",
       "LE_top_20_num_top_20_cat_OverSampling                    0.687837   \n",
       "LE_OHE_top_20_num_top_20_cat_OverSampling                0.701142   \n",
       "LE_OHE_top_20_num_top_20_cat_OverSampling_lr0.05          0.69056   \n",
       "LE_OHE_top_20_num_top_20_cat_OverSampling_ss0.5          0.701731   \n",
       "LE_OHE_top_20_num_top_20_cat_OverSampling_lr0.0...       0.690505   \n",
       "\n",
       "                                                   PR-score test  \\\n",
       "LE_all_cols                                             0.176807   \n",
       "LE_top_20_num                                           0.178693   \n",
       "LE_top_20_num_top_20_cat                                0.178917   \n",
       "LE_OHE_top_20_num_top_20_cat                            0.197827   \n",
       "LE_top_20_num_top_20_cat_OverSampling                   0.719143   \n",
       "LE_OHE_top_20_num_top_20_cat_OverSampling               0.749707   \n",
       "LE_OHE_top_20_num_top_20_cat_OverSampling_lr0.05        0.738607   \n",
       "LE_OHE_top_20_num_top_20_cat_OverSampling_ss0.5         0.752413   \n",
       "LE_OHE_top_20_num_top_20_cat_OverSampling_lr0.0...      0.740598   \n",
       "\n",
       "                                                   PR-score train  \\\n",
       "LE_all_cols                                              0.300872   \n",
       "LE_top_20_num                                            0.239818   \n",
       "LE_top_20_num_top_20_cat                                 0.239818   \n",
       "LE_OHE_top_20_num_top_20_cat                             0.367195   \n",
       "LE_top_20_num_top_20_cat_OverSampling                    0.724094   \n",
       "LE_OHE_top_20_num_top_20_cat_OverSampling                0.759348   \n",
       "LE_OHE_top_20_num_top_20_cat_OverSampling_lr0.05         0.745166   \n",
       "LE_OHE_top_20_num_top_20_cat_OverSampling_ss0.5          0.761964   \n",
       "LE_OHE_top_20_num_top_20_cat_OverSampling_lr0.0...       0.746502   \n",
       "\n",
       "                                                   ROC AUC test ROC AUC train  \n",
       "LE_all_cols                                            0.719549      0.780733  \n",
       "LE_top_20_num                                          0.712654      0.747665  \n",
       "LE_top_20_num_top_20_cat                                0.71269      0.747665  \n",
       "LE_OHE_top_20_num_top_20_cat                            0.72685      0.815824  \n",
       "LE_top_20_num_top_20_cat_OverSampling                  0.739909      0.744958  \n",
       "LE_OHE_top_20_num_top_20_cat_OverSampling              0.766268      0.774798  \n",
       "LE_OHE_top_20_num_top_20_cat_OverSampling_lr0.05       0.752393      0.757689  \n",
       "LE_OHE_top_20_num_top_20_cat_OverSampling_ss0.5        0.770079      0.778302  \n",
       "LE_OHE_top_20_num_top_20_cat_OverSampling_lr0.0...     0.753691      0.758713  "
      ]
     },
     "execution_count": 108,
     "metadata": {},
     "output_type": "execute_result"
    }
   ],
   "source": [
    "scores"
   ]
  },
  {
   "cell_type": "code",
   "execution_count": 109,
   "metadata": {},
   "outputs": [
    {
     "data": {
      "text/html": [
       "<div>\n",
       "<style>\n",
       "    .dataframe thead tr:only-child th {\n",
       "        text-align: right;\n",
       "    }\n",
       "\n",
       "    .dataframe thead th {\n",
       "        text-align: left;\n",
       "    }\n",
       "\n",
       "    .dataframe tbody tr th {\n",
       "        vertical-align: top;\n",
       "    }\n",
       "</style>\n",
       "<table border=\"1\" class=\"dataframe\">\n",
       "  <thead>\n",
       "    <tr style=\"text-align: right;\">\n",
       "      <th></th>\n",
       "      <th>precision</th>\n",
       "      <th>recall</th>\n",
       "      <th>f1-score</th>\n",
       "      <th>PR-score</th>\n",
       "      <th>ROC AUC</th>\n",
       "    </tr>\n",
       "  </thead>\n",
       "  <tbody>\n",
       "    <tr>\n",
       "      <th>LE_all_cols</th>\n",
       "      <td>0.272727</td>\n",
       "      <td>0.00504202</td>\n",
       "      <td>0.00990099</td>\n",
       "      <td>0.172544</td>\n",
       "      <td>0.723504</td>\n",
       "    </tr>\n",
       "    <tr>\n",
       "      <th>LE_top_20_num</th>\n",
       "      <td>0.833333</td>\n",
       "      <td>0.00840336</td>\n",
       "      <td>0.0166389</td>\n",
       "      <td>0.179318</td>\n",
       "      <td>0.723015</td>\n",
       "    </tr>\n",
       "    <tr>\n",
       "      <th>LE_top_20_num_top_20_cat</th>\n",
       "      <td>0.833333</td>\n",
       "      <td>0.00840336</td>\n",
       "      <td>0.0166389</td>\n",
       "      <td>0.179293</td>\n",
       "      <td>0.72296</td>\n",
       "    </tr>\n",
       "    <tr>\n",
       "      <th>LE_OHE_top_20_num_top_20_cat</th>\n",
       "      <td>0.428571</td>\n",
       "      <td>0.00504202</td>\n",
       "      <td>0.00996678</td>\n",
       "      <td>0.185482</td>\n",
       "      <td>0.726427</td>\n",
       "    </tr>\n",
       "    <tr>\n",
       "      <th>LE_top_20_num_top_20_cat_OverSampling</th>\n",
       "      <td>0.663269</td>\n",
       "      <td>0.729372</td>\n",
       "      <td>0.694752</td>\n",
       "      <td>0.724446</td>\n",
       "      <td>0.746608</td>\n",
       "    </tr>\n",
       "    <tr>\n",
       "      <th>LE_OHE_top_20_num_top_20_cat_OverSampling</th>\n",
       "      <td>0.692571</td>\n",
       "      <td>0.711276</td>\n",
       "      <td>0.701799</td>\n",
       "      <td>0.757314</td>\n",
       "      <td>0.772186</td>\n",
       "    </tr>\n",
       "    <tr>\n",
       "      <th>LE_OHE_top_20_num_top_20_cat_OverSampling_lr0.05</th>\n",
       "      <td>0.683949</td>\n",
       "      <td>0.705469</td>\n",
       "      <td>0.694542</td>\n",
       "      <td>0.746759</td>\n",
       "      <td>0.759108</td>\n",
       "    </tr>\n",
       "    <tr>\n",
       "      <th>LE_OHE_top_20_num_top_20_cat_OverSampling_ss0.5</th>\n",
       "      <td>0.693808</td>\n",
       "      <td>0.715733</td>\n",
       "      <td>0.7046</td>\n",
       "      <td>0.758046</td>\n",
       "      <td>0.774817</td>\n",
       "    </tr>\n",
       "    <tr>\n",
       "      <th>LE_OHE_top_20_num_top_20_cat_OverSampling_lr0.05_ss0.5</th>\n",
       "      <td>0.681724</td>\n",
       "      <td>0.707225</td>\n",
       "      <td>0.69424</td>\n",
       "      <td>0.746513</td>\n",
       "      <td>0.759469</td>\n",
       "    </tr>\n",
       "  </tbody>\n",
       "</table>\n",
       "</div>"
      ],
      "text/plain": [
       "                                                   precision      recall  \\\n",
       "LE_all_cols                                         0.272727  0.00504202   \n",
       "LE_top_20_num                                       0.833333  0.00840336   \n",
       "LE_top_20_num_top_20_cat                            0.833333  0.00840336   \n",
       "LE_OHE_top_20_num_top_20_cat                        0.428571  0.00504202   \n",
       "LE_top_20_num_top_20_cat_OverSampling               0.663269    0.729372   \n",
       "LE_OHE_top_20_num_top_20_cat_OverSampling           0.692571    0.711276   \n",
       "LE_OHE_top_20_num_top_20_cat_OverSampling_lr0.05    0.683949    0.705469   \n",
       "LE_OHE_top_20_num_top_20_cat_OverSampling_ss0.5     0.693808    0.715733   \n",
       "LE_OHE_top_20_num_top_20_cat_OverSampling_lr0.0...  0.681724    0.707225   \n",
       "\n",
       "                                                      f1-score  PR-score  \\\n",
       "LE_all_cols                                         0.00990099  0.172544   \n",
       "LE_top_20_num                                        0.0166389  0.179318   \n",
       "LE_top_20_num_top_20_cat                             0.0166389  0.179293   \n",
       "LE_OHE_top_20_num_top_20_cat                        0.00996678  0.185482   \n",
       "LE_top_20_num_top_20_cat_OverSampling                 0.694752  0.724446   \n",
       "LE_OHE_top_20_num_top_20_cat_OverSampling             0.701799  0.757314   \n",
       "LE_OHE_top_20_num_top_20_cat_OverSampling_lr0.05      0.694542  0.746759   \n",
       "LE_OHE_top_20_num_top_20_cat_OverSampling_ss0.5         0.7046  0.758046   \n",
       "LE_OHE_top_20_num_top_20_cat_OverSampling_lr0.0...     0.69424  0.746513   \n",
       "\n",
       "                                                     ROC AUC  \n",
       "LE_all_cols                                         0.723504  \n",
       "LE_top_20_num                                       0.723015  \n",
       "LE_top_20_num_top_20_cat                             0.72296  \n",
       "LE_OHE_top_20_num_top_20_cat                        0.726427  \n",
       "LE_top_20_num_top_20_cat_OverSampling               0.746608  \n",
       "LE_OHE_top_20_num_top_20_cat_OverSampling           0.772186  \n",
       "LE_OHE_top_20_num_top_20_cat_OverSampling_lr0.05    0.759108  \n",
       "LE_OHE_top_20_num_top_20_cat_OverSampling_ss0.5     0.774817  \n",
       "LE_OHE_top_20_num_top_20_cat_OverSampling_lr0.0...  0.759469  "
      ]
     },
     "execution_count": 109,
     "metadata": {},
     "output_type": "execute_result"
    }
   ],
   "source": [
    "scores_hold_out"
   ]
  },
  {
   "cell_type": "markdown",
   "metadata": {},
   "source": [
    "* Настройка классификатора значительного улучшения метрик не дала при существенном увеличиении времени расчетов;\n",
    "* Применение дополнительных настроек классификатора нецелесообразно"
   ]
  },
  {
   "cell_type": "markdown",
   "metadata": {},
   "source": [
    "## 3 Применение наилучшего алгоритма к данным из kaggle"
   ]
  },
  {
   "cell_type": "markdown",
   "metadata": {},
   "source": [
    "* Наилучшее сочетание качества метрик, количество вычислений и времени вычислений показала комбинация LE_OHE_top_20_num_top_20_cat_OverSampling, соответствующая Label Encoding + One Hot Encoding + отбор топ-20 числовых и топ-20 категориальных признаков + Over Sampling\n",
    "* Указаннай алгоритм будет применен к данным kaggle"
   ]
  },
  {
   "cell_type": "code",
   "execution_count": 128,
   "metadata": {},
   "outputs": [],
   "source": [
    "# Загрузка обучающей выборки\n",
    "data = pd.read_csv('orange_small_churn_data.txt', header=0, sep=',')\n",
    "labels = pd.read_csv('orange_small_churn_labels.txt', header=None)\n",
    "labels.columns = ['target']\n",
    "labels = labels.apply(lambda x: x.astype(int))"
   ]
  },
  {
   "cell_type": "code",
   "execution_count": 129,
   "metadata": {
    "collapsed": true
   },
   "outputs": [],
   "source": [
    "# Загрузка данных kaggle\n",
    "data_kaggle = pd.read_csv('orange_small_churn_test_data.csv', header=0, sep=',')"
   ]
  },
  {
   "cell_type": "code",
   "execution_count": 130,
   "metadata": {},
   "outputs": [
    {
     "data": {
      "text/html": [
       "<div>\n",
       "<style>\n",
       "    .dataframe thead tr:only-child th {\n",
       "        text-align: right;\n",
       "    }\n",
       "\n",
       "    .dataframe thead th {\n",
       "        text-align: left;\n",
       "    }\n",
       "\n",
       "    .dataframe tbody tr th {\n",
       "        vertical-align: top;\n",
       "    }\n",
       "</style>\n",
       "<table border=\"1\" class=\"dataframe\">\n",
       "  <thead>\n",
       "    <tr style=\"text-align: right;\">\n",
       "      <th></th>\n",
       "      <th>Var1</th>\n",
       "      <th>Var2</th>\n",
       "      <th>Var3</th>\n",
       "      <th>Var4</th>\n",
       "      <th>Var5</th>\n",
       "      <th>Var6</th>\n",
       "      <th>Var7</th>\n",
       "      <th>Var8</th>\n",
       "      <th>Var9</th>\n",
       "      <th>Var10</th>\n",
       "      <th>...</th>\n",
       "      <th>Var221</th>\n",
       "      <th>Var222</th>\n",
       "      <th>Var223</th>\n",
       "      <th>Var224</th>\n",
       "      <th>Var225</th>\n",
       "      <th>Var226</th>\n",
       "      <th>Var227</th>\n",
       "      <th>Var228</th>\n",
       "      <th>Var229</th>\n",
       "      <th>Var230</th>\n",
       "    </tr>\n",
       "  </thead>\n",
       "  <tbody>\n",
       "    <tr>\n",
       "      <th>0</th>\n",
       "      <td>NaN</td>\n",
       "      <td>NaN</td>\n",
       "      <td>NaN</td>\n",
       "      <td>NaN</td>\n",
       "      <td>NaN</td>\n",
       "      <td>1225.0</td>\n",
       "      <td>7.0</td>\n",
       "      <td>NaN</td>\n",
       "      <td>NaN</td>\n",
       "      <td>NaN</td>\n",
       "      <td>...</td>\n",
       "      <td>zCkv</td>\n",
       "      <td>APgdzOv</td>\n",
       "      <td>jySVZNlOJy</td>\n",
       "      <td>NaN</td>\n",
       "      <td>ELof</td>\n",
       "      <td>xb3V</td>\n",
       "      <td>6fzt</td>\n",
       "      <td>Zy3gnGM</td>\n",
       "      <td>NaN</td>\n",
       "      <td>NaN</td>\n",
       "    </tr>\n",
       "    <tr>\n",
       "      <th>1</th>\n",
       "      <td>NaN</td>\n",
       "      <td>NaN</td>\n",
       "      <td>NaN</td>\n",
       "      <td>NaN</td>\n",
       "      <td>NaN</td>\n",
       "      <td>896.0</td>\n",
       "      <td>14.0</td>\n",
       "      <td>NaN</td>\n",
       "      <td>NaN</td>\n",
       "      <td>NaN</td>\n",
       "      <td>...</td>\n",
       "      <td>oslk</td>\n",
       "      <td>IIvC99a</td>\n",
       "      <td>LM8l689qOp</td>\n",
       "      <td>NaN</td>\n",
       "      <td>NaN</td>\n",
       "      <td>xb3V</td>\n",
       "      <td>RAYp</td>\n",
       "      <td>F2FyR07IdsN7I</td>\n",
       "      <td>NaN</td>\n",
       "      <td>NaN</td>\n",
       "    </tr>\n",
       "    <tr>\n",
       "      <th>2</th>\n",
       "      <td>NaN</td>\n",
       "      <td>NaN</td>\n",
       "      <td>NaN</td>\n",
       "      <td>NaN</td>\n",
       "      <td>NaN</td>\n",
       "      <td>791.0</td>\n",
       "      <td>7.0</td>\n",
       "      <td>NaN</td>\n",
       "      <td>NaN</td>\n",
       "      <td>NaN</td>\n",
       "      <td>...</td>\n",
       "      <td>oslk</td>\n",
       "      <td>6YSocsg</td>\n",
       "      <td>LM8l689qOp</td>\n",
       "      <td>NaN</td>\n",
       "      <td>kG3k</td>\n",
       "      <td>rgKb</td>\n",
       "      <td>RAYp</td>\n",
       "      <td>F2FyR07IdsN7I</td>\n",
       "      <td>mj86</td>\n",
       "      <td>NaN</td>\n",
       "    </tr>\n",
       "    <tr>\n",
       "      <th>3</th>\n",
       "      <td>NaN</td>\n",
       "      <td>NaN</td>\n",
       "      <td>NaN</td>\n",
       "      <td>NaN</td>\n",
       "      <td>NaN</td>\n",
       "      <td>2296.0</td>\n",
       "      <td>7.0</td>\n",
       "      <td>NaN</td>\n",
       "      <td>NaN</td>\n",
       "      <td>NaN</td>\n",
       "      <td>...</td>\n",
       "      <td>oslk</td>\n",
       "      <td>5nQ7A2G</td>\n",
       "      <td>jySVZNlOJy</td>\n",
       "      <td>NaN</td>\n",
       "      <td>kG3k</td>\n",
       "      <td>rgKb</td>\n",
       "      <td>RAYp</td>\n",
       "      <td>F2FyR07IdsN7I</td>\n",
       "      <td>am7c</td>\n",
       "      <td>NaN</td>\n",
       "    </tr>\n",
       "    <tr>\n",
       "      <th>4</th>\n",
       "      <td>8.0</td>\n",
       "      <td>NaN</td>\n",
       "      <td>NaN</td>\n",
       "      <td>NaN</td>\n",
       "      <td>NaN</td>\n",
       "      <td>NaN</td>\n",
       "      <td>NaN</td>\n",
       "      <td>NaN</td>\n",
       "      <td>28.0</td>\n",
       "      <td>NaN</td>\n",
       "      <td>...</td>\n",
       "      <td>oslk</td>\n",
       "      <td>MI8s5nE</td>\n",
       "      <td>LM8l689qOp</td>\n",
       "      <td>NaN</td>\n",
       "      <td>NaN</td>\n",
       "      <td>7P5s</td>\n",
       "      <td>RAYp</td>\n",
       "      <td>F2FyR07IdsN7I</td>\n",
       "      <td>NaN</td>\n",
       "      <td>NaN</td>\n",
       "    </tr>\n",
       "  </tbody>\n",
       "</table>\n",
       "<p>5 rows × 230 columns</p>\n",
       "</div>"
      ],
      "text/plain": [
       "   Var1  Var2  Var3  Var4  Var5    Var6  Var7  Var8  Var9  Var10   ...    \\\n",
       "0   NaN   NaN   NaN   NaN   NaN  1225.0   7.0   NaN   NaN    NaN   ...     \n",
       "1   NaN   NaN   NaN   NaN   NaN   896.0  14.0   NaN   NaN    NaN   ...     \n",
       "2   NaN   NaN   NaN   NaN   NaN   791.0   7.0   NaN   NaN    NaN   ...     \n",
       "3   NaN   NaN   NaN   NaN   NaN  2296.0   7.0   NaN   NaN    NaN   ...     \n",
       "4   8.0   NaN   NaN   NaN   NaN     NaN   NaN   NaN  28.0    NaN   ...     \n",
       "\n",
       "   Var221   Var222      Var223  Var224  Var225  Var226  Var227         Var228  \\\n",
       "0    zCkv  APgdzOv  jySVZNlOJy     NaN    ELof    xb3V    6fzt        Zy3gnGM   \n",
       "1    oslk  IIvC99a  LM8l689qOp     NaN     NaN    xb3V    RAYp  F2FyR07IdsN7I   \n",
       "2    oslk  6YSocsg  LM8l689qOp     NaN    kG3k    rgKb    RAYp  F2FyR07IdsN7I   \n",
       "3    oslk  5nQ7A2G  jySVZNlOJy     NaN    kG3k    rgKb    RAYp  F2FyR07IdsN7I   \n",
       "4    oslk  MI8s5nE  LM8l689qOp     NaN     NaN    7P5s    RAYp  F2FyR07IdsN7I   \n",
       "\n",
       "   Var229  Var230  \n",
       "0     NaN     NaN  \n",
       "1     NaN     NaN  \n",
       "2    mj86     NaN  \n",
       "3    am7c     NaN  \n",
       "4     NaN     NaN  \n",
       "\n",
       "[5 rows x 230 columns]"
      ]
     },
     "execution_count": 130,
     "metadata": {},
     "output_type": "execute_result"
    }
   ],
   "source": [
    "data_kaggle = data_kaggle.drop(['ID'], axis=1)\n",
    "data_kaggle.head()"
   ]
  },
  {
   "cell_type": "code",
   "execution_count": 131,
   "metadata": {},
   "outputs": [
    {
     "data": {
      "text/plain": [
       "(10000, 230)"
      ]
     },
     "execution_count": 131,
     "metadata": {},
     "output_type": "execute_result"
    }
   ],
   "source": [
    "data_kaggle.shape"
   ]
  },
  {
   "cell_type": "code",
   "execution_count": 132,
   "metadata": {
    "collapsed": true
   },
   "outputs": [],
   "source": [
    "# Объединение обучающей выборки и данных kaggle\n",
    "\n",
    "# Объединение необходимо, чтобы категориальные данные \n",
    "# были закодированы Label Encoding и One Hot Encoding единообразно\n",
    "# и чтобы исключить наличие значений категориальных данных,\n",
    "# которые отсутствуют в обучающей выборке и присутствуют в данных из kaggle\n",
    "\n",
    "all_data = pd.concat([data, data_kaggle], ignore_index=True)"
   ]
  },
  {
   "cell_type": "code",
   "execution_count": 134,
   "metadata": {
    "scrolled": true
   },
   "outputs": [
    {
     "name": "stdout",
     "output_type": "stream",
     "text": [
      "Dropping the null columns...\n",
      "Dropped num-type column: Var8\n",
      "Dropped num-type column: Var15\n",
      "Dropped num-type column: Var20\n",
      "Dropped num-type column: Var31\n",
      "Dropped num-type column: Var32\n",
      "Dropped num-type column: Var39\n",
      "Dropped num-type column: Var42\n",
      "Dropped num-type column: Var48\n",
      "Dropped num-type column: Var52\n",
      "Dropped num-type column: Var55\n",
      "Dropped num-type column: Var79\n",
      "Dropped num-type column: Var141\n",
      "Dropped num-type column: Var167\n",
      "Dropped num-type column: Var169\n",
      "Dropped num-type column: Var175\n",
      "Dropped num-type column: Var185\n",
      "Dropped cal-type column: Var209\n",
      "Dropped cal-type column: Var230\n",
      "Dropped 16 num-type cols and 2 cat-types cols\n",
      "Num-type feature have the indices from 0 up to 174.\n",
      "Cal-type feature have the indices from 175 up to 212.\n",
      "Splitting the numeric and categorical columns...\n",
      "Processing the numeric columns...\n",
      "Filling the absent values with the columns' means...\n",
      "Normalizing the data...\n",
      "Processing the categorical columns...\n",
      "Filling the absent categorical values...\n",
      "Applying a LabelEncoder to the categorical columns...\n",
      "Applying a OneHotEncoder to categorical columns...\n",
      "Joining the numerical and categorical columns...\n",
      "Done!\n"
     ]
    }
   ],
   "source": [
    "# is_OverSampling=False, поскольку для данных с kaggle нет labels\n",
    "# Их, собственно, и нужно рассчитать\n",
    "\n",
    "# Over Sampling будет применен далее отдельно к обучающей выборке\n",
    "\n",
    "data_transformed = transform_data(data=all_data, num_cols=num_top_20, cat_cols=cat_top_20, is_OHE=True,\n",
    "                                  is_OverSampling=False)"
   ]
  },
  {
   "cell_type": "code",
   "execution_count": 135,
   "metadata": {},
   "outputs": [
    {
     "data": {
      "text/plain": [
       "<50000x38884 sparse matrix of type '<class 'numpy.float64'>'\n",
       "\twith 1950702 stored elements in COOrdinate format>"
      ]
     },
     "execution_count": 135,
     "metadata": {},
     "output_type": "execute_result"
    }
   ],
   "source": [
    "data_transformed['X']"
   ]
  },
  {
   "cell_type": "code",
   "execution_count": 136,
   "metadata": {
    "collapsed": true
   },
   "outputs": [],
   "source": [
    "# Данные обучающей выборки\n",
    "\n",
    "data_transformed['X_train'] = data_transformed['X'].tocsr()[0:40000,]"
   ]
  },
  {
   "cell_type": "code",
   "execution_count": 137,
   "metadata": {
    "collapsed": true
   },
   "outputs": [],
   "source": [
    "# Данные kaggle\n",
    "\n",
    "data_transformed['X_test'] = data_transformed['X'].tocsr()[40000:50000,]"
   ]
  },
  {
   "cell_type": "code",
   "execution_count": 138,
   "metadata": {},
   "outputs": [
    {
     "name": "stdout",
     "output_type": "stream",
     "text": [
      "OverSampling in progress...\n"
     ]
    }
   ],
   "source": [
    "# Применение data_OverSampling() к обучающей выборке\n",
    "\n",
    "data_transformed['X_train_resampled'], data_transformed['y_resampled'] = data_OverSampling(data_transformed['X_train'], labels)"
   ]
  },
  {
   "cell_type": "code",
   "execution_count": 139,
   "metadata": {},
   "outputs": [
    {
     "data": {
      "text/plain": [
       "<74048x38884 sparse matrix of type '<class 'numpy.float64'>'\n",
       "\twith 2888850 stored elements in Compressed Sparse Row format>"
      ]
     },
     "execution_count": 139,
     "metadata": {},
     "output_type": "execute_result"
    }
   ],
   "source": [
    "data_transformed['X_train_resampled']"
   ]
  },
  {
   "cell_type": "code",
   "execution_count": 140,
   "metadata": {},
   "outputs": [
    {
     "data": {
      "text/plain": [
       "array([-1, -1, -1, ...,  1,  1,  1])"
      ]
     },
     "execution_count": 140,
     "metadata": {},
     "output_type": "execute_result"
    }
   ],
   "source": [
    "data_transformed['y_resampled']"
   ]
  },
  {
   "cell_type": "code",
   "execution_count": 142,
   "metadata": {},
   "outputs": [
    {
     "name": "stdout",
     "output_type": "stream",
     "text": [
      "0.7999945980985307\n",
      "0.20000540190146932\n",
      "0.7999945980985307\n",
      "0.20000540190146932\n"
     ]
    }
   ],
   "source": [
    "# Выделение отложенной выборки\n",
    "\n",
    "X_train, X_hold_out, y_train, y_hold_out = train_test_split(data_transformed['X_train_resampled'], \n",
    "                                                            data_transformed['y_resampled'], \n",
    "                                                            test_size=0.2, random_state=123, \n",
    "                                                            stratify=data_transformed['y_resampled'])\n",
    "\n",
    "print(X_train.shape[0]/float(data_transformed['X_train_resampled'].shape[0]))\n",
    "print(X_hold_out.shape[0]/float(data_transformed['X_train_resampled'].shape[0]))\n",
    "print(y_train.shape[0]/float(data_transformed['y_resampled'].shape[0]))\n",
    "print(y_hold_out.shape[0]/float(data_transformed['y_resampled'].shape[0]))"
   ]
  },
  {
   "cell_type": "code",
   "execution_count": 144,
   "metadata": {},
   "outputs": [
    {
     "name": "stdout",
     "output_type": "stream",
     "text": [
      "Calculating scores...\n",
      "Done!\n"
     ]
    },
    {
     "data": {
      "text/html": [
       "<div>\n",
       "<style>\n",
       "    .dataframe thead tr:only-child th {\n",
       "        text-align: right;\n",
       "    }\n",
       "\n",
       "    .dataframe thead th {\n",
       "        text-align: left;\n",
       "    }\n",
       "\n",
       "    .dataframe tbody tr th {\n",
       "        vertical-align: top;\n",
       "    }\n",
       "</style>\n",
       "<table border=\"1\" class=\"dataframe\">\n",
       "  <thead>\n",
       "    <tr style=\"text-align: right;\">\n",
       "      <th></th>\n",
       "      <th>precision test</th>\n",
       "      <th>precision train</th>\n",
       "      <th>recall test</th>\n",
       "      <th>recall train</th>\n",
       "      <th>f1-score test</th>\n",
       "      <th>f1-score train</th>\n",
       "      <th>PR-score test</th>\n",
       "      <th>PR-score train</th>\n",
       "      <th>ROC AUC test</th>\n",
       "      <th>ROC AUC train</th>\n",
       "    </tr>\n",
       "  </thead>\n",
       "  <tbody>\n",
       "    <tr>\n",
       "      <th>LE_all_cols</th>\n",
       "      <td>0.277857</td>\n",
       "      <td>0.954656</td>\n",
       "      <td>0.00462185</td>\n",
       "      <td>0.0173245</td>\n",
       "      <td>0.00908926</td>\n",
       "      <td>0.0340269</td>\n",
       "      <td>0.176807</td>\n",
       "      <td>0.300872</td>\n",
       "      <td>0.719549</td>\n",
       "      <td>0.780733</td>\n",
       "    </tr>\n",
       "    <tr>\n",
       "      <th>LE_top_20_num</th>\n",
       "      <td>0.498333</td>\n",
       "      <td>0.975909</td>\n",
       "      <td>0.00588059</td>\n",
       "      <td>0.0133346</td>\n",
       "      <td>0.0116149</td>\n",
       "      <td>0.0263056</td>\n",
       "      <td>0.178693</td>\n",
       "      <td>0.239818</td>\n",
       "      <td>0.712654</td>\n",
       "      <td>0.747665</td>\n",
       "    </tr>\n",
       "    <tr>\n",
       "      <th>LE_top_20_num_top_20_cat</th>\n",
       "      <td>0.481429</td>\n",
       "      <td>0.975909</td>\n",
       "      <td>0.00546042</td>\n",
       "      <td>0.0133346</td>\n",
       "      <td>0.0107919</td>\n",
       "      <td>0.0263056</td>\n",
       "      <td>0.178917</td>\n",
       "      <td>0.239818</td>\n",
       "      <td>0.71269</td>\n",
       "      <td>0.747665</td>\n",
       "    </tr>\n",
       "    <tr>\n",
       "      <th>LE_OHE_top_20_num_top_20_cat</th>\n",
       "      <td>0.381602</td>\n",
       "      <td>0.929314</td>\n",
       "      <td>0.0084016</td>\n",
       "      <td>0.0140699</td>\n",
       "      <td>0.0164207</td>\n",
       "      <td>0.0277036</td>\n",
       "      <td>0.197827</td>\n",
       "      <td>0.367195</td>\n",
       "      <td>0.72685</td>\n",
       "      <td>0.815824</td>\n",
       "    </tr>\n",
       "    <tr>\n",
       "      <th>LE_top_20_num_top_20_cat_OverSampling</th>\n",
       "      <td>0.655916</td>\n",
       "      <td>0.659534</td>\n",
       "      <td>0.714946</td>\n",
       "      <td>0.718736</td>\n",
       "      <td>0.684114</td>\n",
       "      <td>0.687837</td>\n",
       "      <td>0.719143</td>\n",
       "      <td>0.724094</td>\n",
       "      <td>0.739909</td>\n",
       "      <td>0.744958</td>\n",
       "    </tr>\n",
       "    <tr>\n",
       "      <th>LE_OHE_top_20_num_top_20_cat_OverSampling</th>\n",
       "      <td>0.685121</td>\n",
       "      <td>0.690455</td>\n",
       "      <td>0.704615</td>\n",
       "      <td>0.71217</td>\n",
       "      <td>0.694729</td>\n",
       "      <td>0.701142</td>\n",
       "      <td>0.749707</td>\n",
       "      <td>0.759348</td>\n",
       "      <td>0.766268</td>\n",
       "      <td>0.774798</td>\n",
       "    </tr>\n",
       "    <tr>\n",
       "      <th>LE_OHE_top_20_num_top_20_cat_OverSampling_lr0.05</th>\n",
       "      <td>0.672929</td>\n",
       "      <td>0.67755</td>\n",
       "      <td>0.699551</td>\n",
       "      <td>0.704084</td>\n",
       "      <td>0.68598</td>\n",
       "      <td>0.69056</td>\n",
       "      <td>0.738607</td>\n",
       "      <td>0.745166</td>\n",
       "      <td>0.752393</td>\n",
       "      <td>0.757689</td>\n",
       "    </tr>\n",
       "    <tr>\n",
       "      <th>LE_OHE_top_20_num_top_20_cat_OverSampling_ss0.5</th>\n",
       "      <td>0.687044</td>\n",
       "      <td>0.692741</td>\n",
       "      <td>0.706709</td>\n",
       "      <td>0.710963</td>\n",
       "      <td>0.696735</td>\n",
       "      <td>0.701731</td>\n",
       "      <td>0.752413</td>\n",
       "      <td>0.761964</td>\n",
       "      <td>0.770079</td>\n",
       "      <td>0.778302</td>\n",
       "    </tr>\n",
       "    <tr>\n",
       "      <th>LE_OHE_top_20_num_top_20_cat_OverSampling_lr0.05_ss0.5</th>\n",
       "      <td>0.673707</td>\n",
       "      <td>0.678013</td>\n",
       "      <td>0.697897</td>\n",
       "      <td>0.703476</td>\n",
       "      <td>0.685581</td>\n",
       "      <td>0.690505</td>\n",
       "      <td>0.740598</td>\n",
       "      <td>0.746502</td>\n",
       "      <td>0.753691</td>\n",
       "      <td>0.758713</td>\n",
       "    </tr>\n",
       "    <tr>\n",
       "      <th>gbc_result</th>\n",
       "      <td>0.685077</td>\n",
       "      <td>0.690455</td>\n",
       "      <td>0.704615</td>\n",
       "      <td>0.71217</td>\n",
       "      <td>0.694706</td>\n",
       "      <td>0.701142</td>\n",
       "      <td>0.749717</td>\n",
       "      <td>0.759348</td>\n",
       "      <td>0.766273</td>\n",
       "      <td>0.774798</td>\n",
       "    </tr>\n",
       "  </tbody>\n",
       "</table>\n",
       "</div>"
      ],
      "text/plain": [
       "                                                   precision test  \\\n",
       "LE_all_cols                                              0.277857   \n",
       "LE_top_20_num                                            0.498333   \n",
       "LE_top_20_num_top_20_cat                                 0.481429   \n",
       "LE_OHE_top_20_num_top_20_cat                             0.381602   \n",
       "LE_top_20_num_top_20_cat_OverSampling                    0.655916   \n",
       "LE_OHE_top_20_num_top_20_cat_OverSampling                0.685121   \n",
       "LE_OHE_top_20_num_top_20_cat_OverSampling_lr0.05         0.672929   \n",
       "LE_OHE_top_20_num_top_20_cat_OverSampling_ss0.5          0.687044   \n",
       "LE_OHE_top_20_num_top_20_cat_OverSampling_lr0.0...       0.673707   \n",
       "gbc_result                                               0.685077   \n",
       "\n",
       "                                                   precision train  \\\n",
       "LE_all_cols                                               0.954656   \n",
       "LE_top_20_num                                             0.975909   \n",
       "LE_top_20_num_top_20_cat                                  0.975909   \n",
       "LE_OHE_top_20_num_top_20_cat                              0.929314   \n",
       "LE_top_20_num_top_20_cat_OverSampling                     0.659534   \n",
       "LE_OHE_top_20_num_top_20_cat_OverSampling                 0.690455   \n",
       "LE_OHE_top_20_num_top_20_cat_OverSampling_lr0.05           0.67755   \n",
       "LE_OHE_top_20_num_top_20_cat_OverSampling_ss0.5           0.692741   \n",
       "LE_OHE_top_20_num_top_20_cat_OverSampling_lr0.0...        0.678013   \n",
       "gbc_result                                                0.690455   \n",
       "\n",
       "                                                   recall test recall train  \\\n",
       "LE_all_cols                                         0.00462185    0.0173245   \n",
       "LE_top_20_num                                       0.00588059    0.0133346   \n",
       "LE_top_20_num_top_20_cat                            0.00546042    0.0133346   \n",
       "LE_OHE_top_20_num_top_20_cat                         0.0084016    0.0140699   \n",
       "LE_top_20_num_top_20_cat_OverSampling                 0.714946     0.718736   \n",
       "LE_OHE_top_20_num_top_20_cat_OverSampling             0.704615      0.71217   \n",
       "LE_OHE_top_20_num_top_20_cat_OverSampling_lr0.05      0.699551     0.704084   \n",
       "LE_OHE_top_20_num_top_20_cat_OverSampling_ss0.5       0.706709     0.710963   \n",
       "LE_OHE_top_20_num_top_20_cat_OverSampling_lr0.0...    0.697897     0.703476   \n",
       "gbc_result                                            0.704615      0.71217   \n",
       "\n",
       "                                                   f1-score test  \\\n",
       "LE_all_cols                                           0.00908926   \n",
       "LE_top_20_num                                          0.0116149   \n",
       "LE_top_20_num_top_20_cat                               0.0107919   \n",
       "LE_OHE_top_20_num_top_20_cat                           0.0164207   \n",
       "LE_top_20_num_top_20_cat_OverSampling                   0.684114   \n",
       "LE_OHE_top_20_num_top_20_cat_OverSampling               0.694729   \n",
       "LE_OHE_top_20_num_top_20_cat_OverSampling_lr0.05         0.68598   \n",
       "LE_OHE_top_20_num_top_20_cat_OverSampling_ss0.5         0.696735   \n",
       "LE_OHE_top_20_num_top_20_cat_OverSampling_lr0.0...      0.685581   \n",
       "gbc_result                                              0.694706   \n",
       "\n",
       "                                                   f1-score train  \\\n",
       "LE_all_cols                                             0.0340269   \n",
       "LE_top_20_num                                           0.0263056   \n",
       "LE_top_20_num_top_20_cat                                0.0263056   \n",
       "LE_OHE_top_20_num_top_20_cat                            0.0277036   \n",
       "LE_top_20_num_top_20_cat_OverSampling                    0.687837   \n",
       "LE_OHE_top_20_num_top_20_cat_OverSampling                0.701142   \n",
       "LE_OHE_top_20_num_top_20_cat_OverSampling_lr0.05          0.69056   \n",
       "LE_OHE_top_20_num_top_20_cat_OverSampling_ss0.5          0.701731   \n",
       "LE_OHE_top_20_num_top_20_cat_OverSampling_lr0.0...       0.690505   \n",
       "gbc_result                                               0.701142   \n",
       "\n",
       "                                                   PR-score test  \\\n",
       "LE_all_cols                                             0.176807   \n",
       "LE_top_20_num                                           0.178693   \n",
       "LE_top_20_num_top_20_cat                                0.178917   \n",
       "LE_OHE_top_20_num_top_20_cat                            0.197827   \n",
       "LE_top_20_num_top_20_cat_OverSampling                   0.719143   \n",
       "LE_OHE_top_20_num_top_20_cat_OverSampling               0.749707   \n",
       "LE_OHE_top_20_num_top_20_cat_OverSampling_lr0.05        0.738607   \n",
       "LE_OHE_top_20_num_top_20_cat_OverSampling_ss0.5         0.752413   \n",
       "LE_OHE_top_20_num_top_20_cat_OverSampling_lr0.0...      0.740598   \n",
       "gbc_result                                              0.749717   \n",
       "\n",
       "                                                   PR-score train  \\\n",
       "LE_all_cols                                              0.300872   \n",
       "LE_top_20_num                                            0.239818   \n",
       "LE_top_20_num_top_20_cat                                 0.239818   \n",
       "LE_OHE_top_20_num_top_20_cat                             0.367195   \n",
       "LE_top_20_num_top_20_cat_OverSampling                    0.724094   \n",
       "LE_OHE_top_20_num_top_20_cat_OverSampling                0.759348   \n",
       "LE_OHE_top_20_num_top_20_cat_OverSampling_lr0.05         0.745166   \n",
       "LE_OHE_top_20_num_top_20_cat_OverSampling_ss0.5          0.761964   \n",
       "LE_OHE_top_20_num_top_20_cat_OverSampling_lr0.0...       0.746502   \n",
       "gbc_result                                               0.759348   \n",
       "\n",
       "                                                   ROC AUC test ROC AUC train  \n",
       "LE_all_cols                                            0.719549      0.780733  \n",
       "LE_top_20_num                                          0.712654      0.747665  \n",
       "LE_top_20_num_top_20_cat                                0.71269      0.747665  \n",
       "LE_OHE_top_20_num_top_20_cat                            0.72685      0.815824  \n",
       "LE_top_20_num_top_20_cat_OverSampling                  0.739909      0.744958  \n",
       "LE_OHE_top_20_num_top_20_cat_OverSampling              0.766268      0.774798  \n",
       "LE_OHE_top_20_num_top_20_cat_OverSampling_lr0.05       0.752393      0.757689  \n",
       "LE_OHE_top_20_num_top_20_cat_OverSampling_ss0.5        0.770079      0.778302  \n",
       "LE_OHE_top_20_num_top_20_cat_OverSampling_lr0.0...     0.753691      0.758713  \n",
       "gbc_result                                             0.766273      0.774798  "
      ]
     },
     "execution_count": 144,
     "metadata": {},
     "output_type": "execute_result"
    }
   ],
   "source": [
    "gbc = GradientBoostingClassifier()\n",
    "get_scores(X_train, y_train, gbc, 'gbc_result', scores)\n",
    "scores"
   ]
  },
  {
   "cell_type": "code",
   "execution_count": 145,
   "metadata": {},
   "outputs": [
    {
     "name": "stdout",
     "output_type": "stream",
     "text": [
      "Calculating scores...\n",
      "Done!\n"
     ]
    },
    {
     "data": {
      "text/html": [
       "<div>\n",
       "<style>\n",
       "    .dataframe thead tr:only-child th {\n",
       "        text-align: right;\n",
       "    }\n",
       "\n",
       "    .dataframe thead th {\n",
       "        text-align: left;\n",
       "    }\n",
       "\n",
       "    .dataframe tbody tr th {\n",
       "        vertical-align: top;\n",
       "    }\n",
       "</style>\n",
       "<table border=\"1\" class=\"dataframe\">\n",
       "  <thead>\n",
       "    <tr style=\"text-align: right;\">\n",
       "      <th></th>\n",
       "      <th>precision</th>\n",
       "      <th>recall</th>\n",
       "      <th>f1-score</th>\n",
       "      <th>PR-score</th>\n",
       "      <th>ROC AUC</th>\n",
       "    </tr>\n",
       "  </thead>\n",
       "  <tbody>\n",
       "    <tr>\n",
       "      <th>LE_all_cols</th>\n",
       "      <td>0.272727</td>\n",
       "      <td>0.00504202</td>\n",
       "      <td>0.00990099</td>\n",
       "      <td>0.172544</td>\n",
       "      <td>0.723504</td>\n",
       "    </tr>\n",
       "    <tr>\n",
       "      <th>LE_top_20_num</th>\n",
       "      <td>0.833333</td>\n",
       "      <td>0.00840336</td>\n",
       "      <td>0.0166389</td>\n",
       "      <td>0.179318</td>\n",
       "      <td>0.723015</td>\n",
       "    </tr>\n",
       "    <tr>\n",
       "      <th>LE_top_20_num_top_20_cat</th>\n",
       "      <td>0.833333</td>\n",
       "      <td>0.00840336</td>\n",
       "      <td>0.0166389</td>\n",
       "      <td>0.179293</td>\n",
       "      <td>0.72296</td>\n",
       "    </tr>\n",
       "    <tr>\n",
       "      <th>LE_OHE_top_20_num_top_20_cat</th>\n",
       "      <td>0.428571</td>\n",
       "      <td>0.00504202</td>\n",
       "      <td>0.00996678</td>\n",
       "      <td>0.185482</td>\n",
       "      <td>0.726427</td>\n",
       "    </tr>\n",
       "    <tr>\n",
       "      <th>LE_top_20_num_top_20_cat_OverSampling</th>\n",
       "      <td>0.663269</td>\n",
       "      <td>0.729372</td>\n",
       "      <td>0.694752</td>\n",
       "      <td>0.724446</td>\n",
       "      <td>0.746608</td>\n",
       "    </tr>\n",
       "    <tr>\n",
       "      <th>LE_OHE_top_20_num_top_20_cat_OverSampling</th>\n",
       "      <td>0.692571</td>\n",
       "      <td>0.711276</td>\n",
       "      <td>0.701799</td>\n",
       "      <td>0.757314</td>\n",
       "      <td>0.772186</td>\n",
       "    </tr>\n",
       "    <tr>\n",
       "      <th>LE_OHE_top_20_num_top_20_cat_OverSampling_lr0.05</th>\n",
       "      <td>0.683949</td>\n",
       "      <td>0.705469</td>\n",
       "      <td>0.694542</td>\n",
       "      <td>0.746759</td>\n",
       "      <td>0.759108</td>\n",
       "    </tr>\n",
       "    <tr>\n",
       "      <th>LE_OHE_top_20_num_top_20_cat_OverSampling_ss0.5</th>\n",
       "      <td>0.693808</td>\n",
       "      <td>0.715733</td>\n",
       "      <td>0.7046</td>\n",
       "      <td>0.758046</td>\n",
       "      <td>0.774817</td>\n",
       "    </tr>\n",
       "    <tr>\n",
       "      <th>LE_OHE_top_20_num_top_20_cat_OverSampling_lr0.05_ss0.5</th>\n",
       "      <td>0.681724</td>\n",
       "      <td>0.707225</td>\n",
       "      <td>0.69424</td>\n",
       "      <td>0.746513</td>\n",
       "      <td>0.759469</td>\n",
       "    </tr>\n",
       "    <tr>\n",
       "      <th>gbc_result</th>\n",
       "      <td>0.692571</td>\n",
       "      <td>0.711276</td>\n",
       "      <td>0.701799</td>\n",
       "      <td>0.757275</td>\n",
       "      <td>0.772132</td>\n",
       "    </tr>\n",
       "  </tbody>\n",
       "</table>\n",
       "</div>"
      ],
      "text/plain": [
       "                                                   precision      recall  \\\n",
       "LE_all_cols                                         0.272727  0.00504202   \n",
       "LE_top_20_num                                       0.833333  0.00840336   \n",
       "LE_top_20_num_top_20_cat                            0.833333  0.00840336   \n",
       "LE_OHE_top_20_num_top_20_cat                        0.428571  0.00504202   \n",
       "LE_top_20_num_top_20_cat_OverSampling               0.663269    0.729372   \n",
       "LE_OHE_top_20_num_top_20_cat_OverSampling           0.692571    0.711276   \n",
       "LE_OHE_top_20_num_top_20_cat_OverSampling_lr0.05    0.683949    0.705469   \n",
       "LE_OHE_top_20_num_top_20_cat_OverSampling_ss0.5     0.693808    0.715733   \n",
       "LE_OHE_top_20_num_top_20_cat_OverSampling_lr0.0...  0.681724    0.707225   \n",
       "gbc_result                                          0.692571    0.711276   \n",
       "\n",
       "                                                      f1-score  PR-score  \\\n",
       "LE_all_cols                                         0.00990099  0.172544   \n",
       "LE_top_20_num                                        0.0166389  0.179318   \n",
       "LE_top_20_num_top_20_cat                             0.0166389  0.179293   \n",
       "LE_OHE_top_20_num_top_20_cat                        0.00996678  0.185482   \n",
       "LE_top_20_num_top_20_cat_OverSampling                 0.694752  0.724446   \n",
       "LE_OHE_top_20_num_top_20_cat_OverSampling             0.701799  0.757314   \n",
       "LE_OHE_top_20_num_top_20_cat_OverSampling_lr0.05      0.694542  0.746759   \n",
       "LE_OHE_top_20_num_top_20_cat_OverSampling_ss0.5         0.7046  0.758046   \n",
       "LE_OHE_top_20_num_top_20_cat_OverSampling_lr0.0...     0.69424  0.746513   \n",
       "gbc_result                                            0.701799  0.757275   \n",
       "\n",
       "                                                     ROC AUC  \n",
       "LE_all_cols                                         0.723504  \n",
       "LE_top_20_num                                       0.723015  \n",
       "LE_top_20_num_top_20_cat                             0.72296  \n",
       "LE_OHE_top_20_num_top_20_cat                        0.726427  \n",
       "LE_top_20_num_top_20_cat_OverSampling               0.746608  \n",
       "LE_OHE_top_20_num_top_20_cat_OverSampling           0.772186  \n",
       "LE_OHE_top_20_num_top_20_cat_OverSampling_lr0.05    0.759108  \n",
       "LE_OHE_top_20_num_top_20_cat_OverSampling_ss0.5     0.774817  \n",
       "LE_OHE_top_20_num_top_20_cat_OverSampling_lr0.0...  0.759469  \n",
       "gbc_result                                          0.772132  "
      ]
     },
     "execution_count": 145,
     "metadata": {},
     "output_type": "execute_result"
    }
   ],
   "source": [
    "gbc.fit(X_train, y_train)\n",
    "get_scores_hold_out(X_hold_out, y_hold_out, gbc, 'gbc_result', scores_hold_out)\n",
    "scores_hold_out"
   ]
  },
  {
   "cell_type": "code",
   "execution_count": 146,
   "metadata": {
    "collapsed": true
   },
   "outputs": [],
   "source": [
    "# Расчет вероятности принадлежности к классу \"отток\"\n",
    "\n",
    "y_pred_gbc = gbc.predict_proba(data_transformed['X_test'])[:, 1]"
   ]
  },
  {
   "cell_type": "code",
   "execution_count": 147,
   "metadata": {},
   "outputs": [
    {
     "data": {
      "text/plain": [
       "10000"
      ]
     },
     "execution_count": 147,
     "metadata": {},
     "output_type": "execute_result"
    }
   ],
   "source": [
    "len(y_pred_gbc)"
   ]
  },
  {
   "cell_type": "code",
   "execution_count": 148,
   "metadata": {
    "collapsed": true
   },
   "outputs": [],
   "source": [
    "# Запись результатов в файл\n",
    "\n",
    "results_gbc = pd.DataFrame(y_pred_gbc, columns = ['result'])\n",
    "results_gbc.index.name = 'Id'\n",
    "results_gbc.to_csv('week4_gbc_LE_OHE_top_20_num_top_20_cat_OverSampling_26_08_2018.csv')"
   ]
  },
  {
   "cell_type": "code",
   "execution_count": 149,
   "metadata": {},
   "outputs": [
    {
     "data": {
      "text/html": [
       "<div>\n",
       "<style>\n",
       "    .dataframe thead tr:only-child th {\n",
       "        text-align: right;\n",
       "    }\n",
       "\n",
       "    .dataframe thead th {\n",
       "        text-align: left;\n",
       "    }\n",
       "\n",
       "    .dataframe tbody tr th {\n",
       "        vertical-align: top;\n",
       "    }\n",
       "</style>\n",
       "<table border=\"1\" class=\"dataframe\">\n",
       "  <thead>\n",
       "    <tr style=\"text-align: right;\">\n",
       "      <th></th>\n",
       "      <th>result</th>\n",
       "    </tr>\n",
       "    <tr>\n",
       "      <th>Id</th>\n",
       "      <th></th>\n",
       "    </tr>\n",
       "  </thead>\n",
       "  <tbody>\n",
       "    <tr>\n",
       "      <th>0</th>\n",
       "      <td>0.424904</td>\n",
       "    </tr>\n",
       "    <tr>\n",
       "      <th>1</th>\n",
       "      <td>0.581820</td>\n",
       "    </tr>\n",
       "    <tr>\n",
       "      <th>2</th>\n",
       "      <td>0.229808</td>\n",
       "    </tr>\n",
       "    <tr>\n",
       "      <th>3</th>\n",
       "      <td>0.490462</td>\n",
       "    </tr>\n",
       "    <tr>\n",
       "      <th>4</th>\n",
       "      <td>0.179715</td>\n",
       "    </tr>\n",
       "  </tbody>\n",
       "</table>\n",
       "</div>"
      ],
      "text/plain": [
       "      result\n",
       "Id          \n",
       "0   0.424904\n",
       "1   0.581820\n",
       "2   0.229808\n",
       "3   0.490462\n",
       "4   0.179715"
      ]
     },
     "execution_count": 149,
     "metadata": {},
     "output_type": "execute_result"
    }
   ],
   "source": [
    "results_gbc.head()"
   ]
  },
  {
   "cell_type": "code",
   "execution_count": null,
   "metadata": {
    "collapsed": true
   },
   "outputs": [],
   "source": []
  }
 ],
 "metadata": {
  "kernelspec": {
   "display_name": "Python 3",
   "language": "python",
   "name": "python3"
  },
  "language_info": {
   "codemirror_mode": {
    "name": "ipython",
    "version": 3
   },
   "file_extension": ".py",
   "mimetype": "text/x-python",
   "name": "python",
   "nbconvert_exporter": "python",
   "pygments_lexer": "ipython3",
   "version": "3.6.3"
  }
 },
 "nbformat": 4,
 "nbformat_minor": 2
}

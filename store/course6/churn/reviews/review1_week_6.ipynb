{
 "cells": [
  {
   "cell_type": "markdown",
   "metadata": {},
   "source": [
    "# Оценка потенциального экономического эффекта от внедрения полученного решения"
   ]
  },
  {
   "cell_type": "code",
   "execution_count": 1,
   "metadata": {},
   "outputs": [],
   "source": [
    "import pandas as pd\n",
    "import numpy as np\n",
    "from sklearn.preprocessing import LabelEncoder\n",
    "from sklearn import metrics\n",
    "from sklearn.model_selection import train_test_split\n",
    "import xgboost as xgb\n",
    "from xgboost import XGBClassifier\n",
    "from mlxtend.evaluate import lift_score\n",
    "import matplotlib.pyplot as plt\n",
    "import warnings\n",
    "warnings.filterwarnings('ignore')\n",
    "%matplotlib inline"
   ]
  },
  {
   "cell_type": "code",
   "execution_count": 2,
   "metadata": {},
   "outputs": [],
   "source": [
    "df = pd.read_csv('orange_small_churn_train_data.csv')\n",
    "df_test = pd.read_csv('orange_small_churn_test_data.csv')\n",
    "target = 'labels'\n",
    "IDcol = 'ID'"
   ]
  },
  {
   "cell_type": "code",
   "execution_count": 3,
   "metadata": {},
   "outputs": [],
   "source": [
    "cat_columns = df.select_dtypes(include='object').columns\n",
    "df[cat_columns] = df[cat_columns].astype(np.str)\n",
    "df_test[cat_columns] = df_test[cat_columns].astype(np.str)\n",
    "df.loc[df[target]==-1, target] = 0"
   ]
  },
  {
   "cell_type": "code",
   "execution_count": 4,
   "metadata": {},
   "outputs": [],
   "source": [
    "# вспомогательная функция для кодирования всех категориальных признаков\n",
    "class MultiColumnLabelEncoder:\n",
    "    def __init__(self, columns=None):\n",
    "        self.columns = columns\n",
    "\n",
    "    def fit(self, X, y=None):\n",
    "        return self\n",
    "\n",
    "    def transform(self, X):\n",
    "        res = X.copy()\n",
    "        if self.columns is not None:\n",
    "            for col in self.columns:\n",
    "                res[col] = LabelEncoder().fit_transform(res[col])\n",
    "        else:\n",
    "            for colname, col in res.iteritems():\n",
    "                res[colname] = LabelEncoder().fit_transform(col)\n",
    "        return res\n",
    "\n",
    "    def fit_transform(self, X, y=None):\n",
    "        return self.fit(X, y).transform(X)"
   ]
  },
  {
   "cell_type": "code",
   "execution_count": 5,
   "metadata": {},
   "outputs": [],
   "source": [
    "# закодируем категориальные признакии с помощью Label Encoder\n",
    "encoder = MultiColumnLabelEncoder(columns=cat_columns)\n",
    "df = encoder.fit_transform(df)\n",
    "df_test = encoder.transform(df_test)"
   ]
  },
  {
   "cell_type": "code",
   "execution_count": 6,
   "metadata": {
    "collapsed": true
   },
   "outputs": [],
   "source": [
    "predictors = [x for x in df.columns if x not in [target, IDcol, 'Var198', 'Var220', 'Var133', 'Var140', 'Var32',\n",
    "                                                 'Var39', 'Var15', 'Var8', 'Var48', 'Var141', 'Var20', 'Var31',\n",
    "                                                 'Var42', 'Var52', 'Var55', 'Var79', 'Var167']]"
   ]
  },
  {
   "cell_type": "code",
   "execution_count": 7,
   "metadata": {
    "collapsed": true
   },
   "outputs": [],
   "source": [
    "train, test, y_train, y_test = train_test_split(df.drop(target, axis=1), df[target],\n",
    "                                                stratify=df[target], test_size=0.2, random_state=42)\n",
    "train[target] = y_train.values\n",
    "test[target] = y_test.values"
   ]
  },
  {
   "cell_type": "code",
   "execution_count": 8,
   "metadata": {
    "collapsed": true
   },
   "outputs": [],
   "source": [
    "def modelfit(alg, dtrain, dtest, predictors, useTrainCV=True, cv_folds=5, early_stopping_rounds=100):\n",
    "    if useTrainCV:\n",
    "        xgb_param = alg.get_xgb_params()\n",
    "        xgtrain = xgb.DMatrix(dtrain[predictors].values, label=dtrain[target].values)\n",
    "        cvresult = xgb.cv(xgb_param, xgtrain, num_boost_round=alg.get_params()['n_estimators'], nfold=cv_folds, stratified=True,\n",
    "            metrics='auc', early_stopping_rounds=early_stopping_rounds, verbose_eval=False, seed=27)\n",
    "        alg.set_params(n_estimators=cvresult.shape[0])\n",
    "\n",
    "    alg.fit(dtrain[predictors], dtrain[target], early_stopping_rounds=early_stopping_rounds, verbose=False,\n",
    "            eval_metric='auc', eval_set=[(dtrain[predictors], dtrain[target]), (dtest[predictors], dtest[target])])\n",
    "        \n",
    "    test_predictions = alg.predict(dtest[predictors])\n",
    "    test_predprob = alg.predict_proba(dtest[predictors])[:,1]\n",
    "        \n",
    "    print(\"Accuracy : %.4g\" % metrics.accuracy_score(dtest[target].values, test_predictions))\n",
    "    print(\"PR-AUC: %.4g\" % metrics.average_precision_score(dtest[target], test_predictions))\n",
    "    print(\"ROC-AUC: %.4g\" % metrics.roc_auc_score(dtest[target], test_predprob))\n",
    "    print(\"F1: %.4g\" % metrics.f1_score(dtest[target], test_predictions))\n",
    "    print(\"Preсision: %.4g\" % metrics.precision_score(dtest[target], test_predictions))\n",
    "    print(\"Recall: %.4g\" % metrics.recall_score(dtest[target], test_predictions))\n",
    "    print(\"Lift : %.4g\" % lift_score(dtest[target], test_predictions))"
   ]
  },
  {
   "cell_type": "code",
   "execution_count": 10,
   "metadata": {
    "collapsed": true
   },
   "outputs": [
    {
     "name": "stdout",
     "output_type": "stream",
     "text": [
      "96\n",
      "Accuracy : 0.916\n",
      "PR-AUC: 0.111\n",
      "ROC-AUC: 0.7506\n",
      "F1: 0.1962\n",
      "Preсision: 0.3402\n",
      "Recall: 0.1378\n",
      "Lift : 4.575\n"
     ]
    }
   ],
   "source": [
    "xgb8 = XGBClassifier(learning_rate =0.1, n_estimators=200, max_depth=3, min_child_weight=3,\n",
    "                     gamma=0, subsample=0.9, colsample_bytree=0.68, reg_alpha=0, scale_pos_weight=4,\n",
    "                     sample_weight=train[target].apply(lambda x: 7 if x==1 else 1).values,\n",
    "                     objective= 'binary:logistic', nthread=4, seed=27)\n",
    "modelfit(xgb8, train, test, predictors)"
   ]
  },
  {
   "cell_type": "markdown",
   "metadata": {},
   "source": [
    "## Постройте простую экономическую модель для оценки эффекта от внедрения полученного решения на практике.\n",
    "\n",
    "Например, введите следующие параметры:\n",
    "* сколько денег всреднем приносит один пользователь в месяц;\n",
    "* сколько денег в среднем вы будете вкладывать в удержание одного пользователя;\n",
    "* с какой вероятностью пользователь примет ваше предложение;\n",
    "* сколько пользователей (например, топ 1% или топ 25% согласно ранжированию по вашей модели) будет участвовать в кампании."
   ]
  },
  {
   "cell_type": "code",
   "execution_count": null,
   "metadata": {},
   "outputs": [],
   "source": [
    "revenue_per_user = 500 # сколько денег всреднем приносит один пользователь в месяц\n",
    "retention_cost = 50 # сколько денег в среднем вы будете вкладывать в удержание одного пользователя\n",
    "retention_proba = 0.75 # с какой вероятностью пользователь примет ваше предложение\n",
    "campaign_perc = 0.2 # сколько пользователей (например, топ 1% или топ 25% согласно ранжированию по вашей модели) будет участвовать в кампании"
   ]
  },
  {
   "cell_type": "markdown",
   "metadata": {},
   "source": [
    "## 1\\. Введите еще несколько параметров и на их основе постройте простую экономическую модель: формулу по которой в зависимости от значения исходных параметров вы сможете рассчитать экономический эффект от проведения кампании (= сколько денег вы получили (или наоборот потеряли) от проведения кампании по удержанию) с использование вашей модели."
   ]
  },
  {
   "cell_type": "code",
   "execution_count": 226,
   "metadata": {},
   "outputs": [],
   "source": [
    "pred_proba = pd.DataFrame(xgb8.predict_proba(test[predictors])[:,1], columns=['y_pred'])\n",
    "pred_proba['y_true'] = y_test.values\n",
    "pred_proba.sort_values('y_pred', ascending=False, inplace=True)\n",
    "    \n",
    "def economic_model(revenue_per_user=500, retention_cost=50, retention_proba=0.75, campaign_perc=0.2):\n",
    "    campaign = pred_proba[:int(pred_proba.shape[0]*campaign_perc)]\n",
    "    campaign_cost = campaign.apply(lambda x: retention_proba*revenue_per_user if x['y_true']==1 else 0, axis=1).sum()\n",
    "    return campaign_cost-retention_cost*campaign.shape[0]"
   ]
  },
  {
   "cell_type": "code",
   "execution_count": 95,
   "metadata": {},
   "outputs": [
    {
     "data": {
      "text/plain": [
       "33625.0"
      ]
     },
     "execution_count": 95,
     "metadata": {},
     "output_type": "execute_result"
    }
   ],
   "source": [
    "economic_model()"
   ]
  },
  {
   "cell_type": "markdown",
   "metadata": {},
   "source": [
    "## 2\\. Исходя из введенных параметров проанализируйте, какой топ пользователей, склонных к оттоку согласно модели, оптимально выбрать для проведения кампании по удержанию для таким образом, чтобы экономический эффект был наибольшим?"
   ]
  },
  {
   "cell_type": "code",
   "execution_count": 73,
   "metadata": {},
   "outputs": [
    {
     "data": {
      "image/png": "[encoded data removed]",
      "text/plain": [
       "<Figure size 432x288 with 1 Axes>"
      ]
     },
     "metadata": {},
     "output_type": "display_data"
    }
   ],
   "source": [
    "campaign_perc = [x/100.0 for x in range(5,30,1)]\n",
    "campaign_rev = [economic_model(campaign_perc=x) for x in campaign_perc]\n",
    "plt.xlabel('Доля топ пользователей, участвующих в кампании')\n",
    "plt.ylabel('Экономический эффект от кампании')\n",
    "plt.plot(campaign_perc, campaign_rev);"
   ]
  },
  {
   "cell_type": "markdown",
   "metadata": {},
   "source": [
    "Чтобы экономический эффект был наибольшим, оптимально выбрать для проведения кампании по удержанию 12% топ пользователей, склонных к оттоку согласно модели."
   ]
  },
  {
   "cell_type": "markdown",
   "metadata": {},
   "source": [
    "## 3\\. Попробуйте усложнить экономическую модель. Добавьте еще несколько параметров и поиграйте с ними (например, измените стоимость удержания и вероятность, с которой пользователь принимает предложение), проанализируйте как меняется оптимальный размер топа?"
   ]
  },
  {
   "cell_type": "code",
   "execution_count": 100,
   "metadata": {},
   "outputs": [
    {
     "data": {
      "image/png": "[encoded data removed]",
      "text/plain": [
       "<Figure size 432x288 with 1 Axes>"
      ]
     },
     "metadata": {},
     "output_type": "display_data"
    }
   ],
   "source": [
    "retention_cost = range(10,200,10)\n",
    "best_campaign_perc = []\n",
    "\n",
    "for rc in retention_cost:\n",
    "    campaign_perc = [x/100.0 for x in range(1,50,1)]\n",
    "    campaign_rev = [economic_model(retention_cost=rc, campaign_perc=x) for x in campaign_perc]\n",
    "    best_campaign_perc.append(np.argmax(campaign_rev)/100.0+np.min(campaign_perc) if np.argmax(campaign_rev)>0 else 0)\n",
    "\n",
    "plt.xlabel('Стоимость удержания')\n",
    "plt.ylabel('Отимальный размер топа')\n",
    "plt.plot([x for x in retention_cost], best_campaign_perc);"
   ]
  },
  {
   "cell_type": "markdown",
   "metadata": {},
   "source": [
    "С увеличением стоимости удержания оптимальный размер топа уменьшается.\n",
    "Капмания перестает быть оправданной при стоимости удержания более 25% от средней прибыли от пользователя в месяц."
   ]
  },
  {
   "cell_type": "code",
   "execution_count": 101,
   "metadata": {},
   "outputs": [
    {
     "data": {
      "image/png": "[encoded data removed]",
      "text/plain": [
       "<Figure size 432x288 with 1 Axes>"
      ]
     },
     "metadata": {},
     "output_type": "display_data"
    }
   ],
   "source": [
    "retention_proba = [x/100.0 for x in range(5,100,5)]\n",
    "best_campaign_perc = []\n",
    "\n",
    "for rp in retention_proba:\n",
    "    campaign_perc = [x/100.0 for x in range(1,50,1)]\n",
    "    campaign_rev = [economic_model(retention_proba=rp, campaign_perc=x) for x in campaign_perc]\n",
    "    best_campaign_perc.append(np.argmax(campaign_rev)/100.0+np.min(campaign_perc) if np.argmax(campaign_rev)>0 else 0)\n",
    "\n",
    "plt.xlabel('Вероятность, с которой пользователь принимает предложение')\n",
    "plt.ylabel('Отимальный размер топа')\n",
    "plt.plot(retention_proba, best_campaign_perc);"
   ]
  },
  {
   "cell_type": "markdown",
   "metadata": {},
   "source": [
    "С увеличением вероятности, с которой пользователь принимает предложение, оптимальный размер топа увеличивается.\n",
    "Капмания перестает быть оправданной при вероятности, с которой пользователь принимает предложение, меньшей 0.3."
   ]
  },
  {
   "cell_type": "markdown",
   "metadata": {},
   "source": [
    "## 4\\. Всегда ли применение модели экономически оправданно? Приведите пример набора значений параметров, при которых применение модели перестает быть оправданным."
   ]
  },
  {
   "cell_type": "markdown",
   "metadata": {},
   "source": [
    "Как видно на графиках выше, применение модели перестает быть оправданным, например, при следующих наборах значений:\n",
    "* при стоимости удержания более 25% от средней прибыли от пользователя в месяц при средней прибыли на пользователя в месяц равной 500 и вероятности, с которой пользователь принимает предложение, равной 0.75\n",
    "* при вероятности, с которой пользователь принимает предложение, меньшей 0.3 при средней прибыли на пользователя в месяц равной 500 и стоимости удержания равной 50"
   ]
  },
  {
   "cell_type": "markdown",
   "metadata": {},
   "source": [
    "## 5\\. Оцените изменение экономического эффекта от проведения кампании по удержанию при увеличении качества модели на 1%? На 3%? При ответе на вопрос укажите, по какой метрике вы оцениваете качество."
   ]
  },
  {
   "cell_type": "code",
   "execution_count": null,
   "metadata": {},
   "outputs": [],
   "source": [
    "pred_proba_base = pred_proba.copy()\n",
    "campaign_rev_base = economic_model(campaign_perc=0.12)\n",
    "roc_auc = metrics.roc_auc_score(pred_proba['y_true'], pred_proba['y_pred'])"
   ]
  },
  {
   "cell_type": "code",
   "execution_count": 228,
   "metadata": {},
   "outputs": [],
   "source": [
    "pred_proba.set_value(pred_proba.iloc[pred_proba.y_true.values==0,1].iloc[:15].index, 'y_true', 1);\n",
    "roc_auc_1 = metrics.roc_auc_score(pred_proba['y_true'], pred_proba['y_pred'])"
   ]
  },
  {
   "cell_type": "code",
   "execution_count": 229,
   "metadata": {},
   "outputs": [
    {
     "data": {
      "text/plain": [
       "1.0101197724172282"
      ]
     },
     "execution_count": 229,
     "metadata": {},
     "output_type": "execute_result"
    }
   ],
   "source": [
    "roc_auc_1/roc_auc"
   ]
  },
  {
   "cell_type": "code",
   "execution_count": 230,
   "metadata": {},
   "outputs": [
    {
     "data": {
      "text/plain": [
       "1.1363636363636365"
      ]
     },
     "execution_count": 230,
     "metadata": {},
     "output_type": "execute_result"
    }
   ],
   "source": [
    "campaign_rev_1 = economic_model(campaign_perc=0.12)\n",
    "campaign_rev_1/campaign_rev_base"
   ]
  },
  {
   "cell_type": "code",
   "execution_count": 231,
   "metadata": {},
   "outputs": [
    {
     "data": {
      "text/plain": [
       "1.0299942935008601"
      ]
     },
     "execution_count": 231,
     "metadata": {},
     "output_type": "execute_result"
    }
   ],
   "source": [
    "pred_proba.set_value(pred_proba.iloc[pred_proba.y_true.values==0,1].iloc[:32].index, 'y_true', 1);\n",
    "roc_auc_3 = metrics.roc_auc_score(pred_proba['y_true'], pred_proba['y_pred'])\n",
    "roc_auc_3/roc_auc"
   ]
  },
  {
   "cell_type": "code",
   "execution_count": 232,
   "metadata": {},
   "outputs": [
    {
     "data": {
      "text/plain": [
       "1.4272727272727272"
      ]
     },
     "execution_count": 232,
     "metadata": {},
     "output_type": "execute_result"
    }
   ],
   "source": [
    "campaign_rev_3 = economic_model(campaign_perc=0.12)\n",
    "campaign_rev_3/campaign_rev_base"
   ]
  },
  {
   "cell_type": "markdown",
   "metadata": {},
   "source": [
    "* При увеличении качества модели на 1% по метрике ROC-AUC экономический эффект от проведения кампании увеличится на 13.6%\n",
    "* При увеличении качества модели на 3% по метрике ROC-AUC экономический эффект от проведения кампании увеличится на 42.7%"
   ]
  },
  {
   "cell_type": "markdown",
   "metadata": {},
   "source": [
    "## 6\\. Как вы думаете, является ли экономически оправданным вложение средств в улучшение качества модели? На сколько нужно улучшить модель, чтобы это качественно сказалось на экономическом эффекте от удержания?"
   ]
  },
  {
   "cell_type": "markdown",
   "metadata": {},
   "source": [
    "Если рассмотреть крупную телеком-компанию, то вложение средств в улучшение качества модели скорее всего окажется экономически оправданным, т.к. увеличении качества модели даже на 3% экономический эффект от проведения кампании увеличивается практически в 1.5 раза. В крупной телеком-компании десятки тысяч пользователей склонны к оттоку, поэтому затраты на увеличение качества модели скорее всего окупятся экономическим эффектом от проведения кампании по удержанию."
   ]
  },
  {
   "cell_type": "code",
   "execution_count": null,
   "metadata": {},
   "outputs": [],
   "source": []
  }
 ],
 "metadata": {
  "kernelspec": {
   "display_name": "Python 3",
   "language": "python",
   "name": "python3"
  },
  "language_info": {
   "codemirror_mode": {
    "name": "ipython",
    "version": 3
   },
   "file_extension": ".py",
   "mimetype": "text/x-python",
   "name": "python",
   "nbconvert_exporter": "python",
   "pygments_lexer": "ipython3",
   "version": "3.6.6"
  }
 },
 "nbformat": 4,
 "nbformat_minor": 2
}

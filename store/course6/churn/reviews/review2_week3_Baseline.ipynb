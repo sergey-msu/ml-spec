{
 "cells": [
  {
   "cell_type": "code",
   "execution_count": null,
   "metadata": {},
   "outputs": [],
   "source": [
    "import pandas as pd\n",
    "import numpy as np\n",
    "from sklearn.preprocessing import LabelEncoder, Imputer, MinMaxScaler, RobustScaler\n",
    "from imblearn.over_sampling import SMOTE\n",
    "from imblearn.pipeline import Pipeline\n",
    "from sklearn.model_selection import StratifiedKFold, cross_validate\n",
    "from sklearn.linear_model import RidgeClassifier\n",
    "from sklearn.ensemble import RandomForestClassifier\n",
    "from xgboost import XGBClassifier\n",
    "from mlxtend.evaluate import lift_score\n",
    "from sklearn.metrics import make_scorer"
   ]
  },
  {
   "cell_type": "code",
   "execution_count": 2,
   "metadata": {},
   "outputs": [],
   "source": [
    "X = pd.read_csv('orange_small_churn_data_train.csv')"
   ]
  },
  {
   "cell_type": "code",
   "execution_count": 3,
   "metadata": {},
   "outputs": [],
   "source": [
    "y = X.label\n",
    "X.drop('label', axis=1, inplace=True)"
   ]
  },
  {
   "cell_type": "code",
   "execution_count": 4,
   "metadata": {},
   "outputs": [
    {
     "name": "stdout",
     "output_type": "stream",
     "text": [
      "<class 'pandas.core.frame.DataFrame'>\n",
      "RangeIndex: 28000 entries, 0 to 27999\n",
      "Columns: 230 entries, Var1 to Var230\n",
      "dtypes: float64(191), int64(1), object(38)\n",
      "memory usage: 49.1+ MB\n"
     ]
    }
   ],
   "source": [
    "X.info()"
   ]
  },
  {
   "cell_type": "code",
   "execution_count": 5,
   "metadata": {},
   "outputs": [
    {
     "data": {
      "text/plain": [
       "Index(['Var191', 'Var192', 'Var193', 'Var194', 'Var195', 'Var196', 'Var197',\n",
       "       'Var198', 'Var199', 'Var200', 'Var201', 'Var202', 'Var203', 'Var204',\n",
       "       'Var205', 'Var206', 'Var207', 'Var208', 'Var210', 'Var211', 'Var212',\n",
       "       'Var213', 'Var214', 'Var215', 'Var216', 'Var217', 'Var218', 'Var219',\n",
       "       'Var220', 'Var221', 'Var222', 'Var223', 'Var224', 'Var225', 'Var226',\n",
       "       'Var227', 'Var228', 'Var229'],\n",
       "      dtype='object')"
      ]
     },
     "execution_count": 5,
     "metadata": {},
     "output_type": "execute_result"
    }
   ],
   "source": [
    "cat_columns = X.select_dtypes(include='object').columns\n",
    "X[cat_columns] = X[cat_columns].astype(np.str)\n",
    "cat_columns"
   ]
  },
  {
   "cell_type": "code",
   "execution_count": 6,
   "metadata": {},
   "outputs": [],
   "source": [
    "# вспомогательная функция для кодирования всех категориальных признаков\n",
    "class MultiColumnLabelEncoder:\n",
    "    def __init__(self, columns=None):\n",
    "        self.columns = columns\n",
    "\n",
    "    def fit(self, X, y=None):\n",
    "        return self\n",
    "\n",
    "    def transform(self, X):\n",
    "        res = X.copy()\n",
    "        if self.columns is not None:\n",
    "            for col in self.columns:\n",
    "                res[col] = LabelEncoder().fit_transform(res[col])\n",
    "        else:\n",
    "            for colname, col in res.iteritems():\n",
    "                res[colname] = LabelEncoder().fit_transform(col)\n",
    "        return res\n",
    "\n",
    "    def fit_transform(self, X, y=None):\n",
    "        return self.fit(X, y).transform(X)"
   ]
  },
  {
   "cell_type": "code",
   "execution_count": 7,
   "metadata": {},
   "outputs": [],
   "source": [
    "# категориальные признаки закодируем с помощью LabelEncoder\n",
    "encoder = MultiColumnLabelEncoder(columns=cat_columns)\n",
    "# пустые значения заменим на среднее ззначение признака\n",
    "imputer = Imputer(missing_values=np.NAN, axis=1)\n",
    "# отмасштабируем признаки\n",
    "scaler = MinMaxScaler()\n",
    "# исбавимся от выбросов после масщтабирования, если они будет в тестовой выборке\n",
    "outlier = RobustScaler()\n",
    "# для уменьшения несбаллансированности классов воспользуемся техникой Oversampling\n",
    "smote = SMOTE(random_state=17)"
   ]
  },
  {
   "cell_type": "code",
   "execution_count": 8,
   "metadata": {},
   "outputs": [],
   "source": [
    "# будем использовать стратифицирование разбиение на 10 фолдов\n",
    "cv = StratifiedKFold(n_splits=10, random_state=17)"
   ]
  },
  {
   "cell_type": "code",
   "execution_count": 9,
   "metadata": {},
   "outputs": [],
   "source": [
    "# на данном этапе тонкую настройку параметров производить не будем\n",
    "models = [\n",
    "    ('Ridge', RidgeClassifier(random_state=17)),\n",
    "    ('RandomForest', RandomForestClassifier(n_estimators=300, random_state=17)),\n",
    "    ('XGBoost', XGBClassifier(n_estimators=300, random_state=17))\n",
    "]"
   ]
  },
  {
   "cell_type": "code",
   "execution_count": 10,
   "metadata": {},
   "outputs": [],
   "source": [
    "# наши основные и вспомогательгные метрики из задания 2-й недели\n",
    "scores = {\n",
    "    'PR-AUC': 'average_precision',\n",
    "    'ROC-AUC': 'roc_auc',\n",
    "    'F1': 'f1',\n",
    "    'Precision': 'precision',\n",
    "    'Recall': 'recall',\n",
    "    'Lift': make_scorer(lift_score)\n",
    "}"
   ]
  },
  {
   "cell_type": "code",
   "execution_count": 11,
   "metadata": {},
   "outputs": [
    {
     "name": "stdout",
     "output_type": "stream",
     "text": [
      "Ridge\n",
      "PR-AUC: 0.140 ± 0.014\tROC-AUC: 0.654 ± 0.019\tF1: 0.180 ± 0.020\tPrecision: 0.105 ± 0.016\tRecall: 0.700 ± 0.161\tLift: 1.409 ± 0.215\t\n",
      "RandomForest\n",
      "PR-AUC: 0.134 ± 0.008\tROC-AUC: 0.670 ± 0.014\tF1: 0.064 ± 0.045\tPrecision: 0.172 ± 0.087\tRecall: 0.043 ± 0.036\tLift: 2.312 ± 1.172\t\n",
      "XGBoost\n",
      "PR-AUC: 0.173 ± 0.017\tROC-AUC: 0.703 ± 0.013\tF1: 0.135 ± 0.042\tPrecision: 0.291 ± 0.060\tRecall: 0.096 ± 0.048\tLift: 3.911 ± 0.812\t\n"
     ]
    }
   ],
   "source": [
    "for model_name, model in models:\n",
    "    print(model_name)\n",
    "    clf = Pipeline([\n",
    "        ('encoder' , encoder),\n",
    "        ('imputer' , imputer),\n",
    "        ('scaler'  , scaler),\n",
    "        ('outlier', outlier),\n",
    "        ('smote', smote),\n",
    "        (model_name, model)\n",
    "    ])\n",
    "    cv_res = cross_validate(clf, X, y, cv=cv.split(X, y), scoring=scores, n_jobs=1, return_train_score=False)\n",
    "    for score in scores:\n",
    "        test_scores = cv_res['test_'+score]\n",
    "        print('%s: %.3f ± %.3f' % (score, np.mean(test_scores), np.std(test_scores)), end='\\t')\n",
    "    print()"
   ]
  },
  {
   "cell_type": "markdown",
   "metadata": {},
   "source": [
    "Из baseline моделей лучший результат показал градиентный бустинг.\n",
    "Качество градиентного бустинга и случайного леса скорее всего получится улучшить за счет тонкой настройки параметров.\n",
    "Качество линейной модели после тонкой настройки параметров скорее всего существенно не изменится."
   ]
  },
  {
   "cell_type": "code",
   "execution_count": null,
   "metadata": {},
   "outputs": [],
   "source": []
  }
 ],
 "metadata": {
  "kernelspec": {
   "display_name": "Python 3",
   "language": "python",
   "name": "python3"
  },
  "language_info": {
   "codemirror_mode": {
    "name": "ipython",
    "version": 3
   },
   "file_extension": ".py",
   "mimetype": "text/x-python",
   "name": "python",
   "nbconvert_exporter": "python",
   "pygments_lexer": "ipython3",
   "version": "3.6.6"
  }
 },
 "nbformat": 4,
 "nbformat_minor": 2
}
